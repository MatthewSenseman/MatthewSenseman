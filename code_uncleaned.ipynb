{
 "cells": [
  {
   "cell_type": "markdown",
   "id": "8a01b32e",
   "metadata": {},
   "source": [
    "# Creating Households and Populating them\n",
    "\n",
    "### Possibly included household characteristics\n",
    "- Dwellings\n",
    "- Tenure\n",
    "- Household spaces\n",
    "- Residence type\n",
    "- **Household size**\n",
    "- Second address ?\n",
    "- **Household composition**\n",
    "- **Accomodation type**\n",
    "- Household space type\n",
    "- Multiple ethnic group household\n",
    "- Car or van availability\n",
    "- Occupancy rating of rooms\n",
    "- **Dependent children in family**\n",
    "- **Number of adults in household**\n",
    "- Number of persons per room\n",
    "- Dependent children in households with no adults in employment\n"
   ]
  },
  {
   "cell_type": "markdown",
   "id": "76cc0d33",
   "metadata": {},
   "source": [
    "Starting with one MSOA"
   ]
  },
  {
   "cell_type": "markdown",
   "id": "0df09597",
   "metadata": {},
   "source": [
    "## Load in files for use"
   ]
  },
  {
   "cell_type": "code",
   "execution_count": 1,
   "id": "8e333e44",
   "metadata": {},
   "outputs": [
    {
     "name": "stdout",
     "output_type": "stream",
     "text": [
      "Please input path to the Census files folder on your machine.2011 MSOA Data\n",
      "Press enter to continue...\n"
     ]
    },
    {
     "data": {
      "text/plain": [
       "''"
      ]
     },
     "execution_count": 1,
     "metadata": {},
     "output_type": "execute_result"
    }
   ],
   "source": [
    "#asks user for path to Census files on their machine\n",
    "\n",
    "path = input(\"Please input path to the Census files folder on your machine.\")\n",
    "\n",
    "input('Press enter to continue...')"
   ]
  },
  {
   "cell_type": "code",
   "execution_count": 2,
   "id": "5c33a3da",
   "metadata": {},
   "outputs": [],
   "source": [
    "from dataclasses import dataclass\n",
    "import pandas as pd\n",
    "\n",
    "@dataclass\n",
    "class MsoaData:\n",
    "    \"\"\"\n",
    "    Class to hold the names of the census tables for MSOA areas.\n",
    "    \"\"\"\n",
    "    household_size = f\"{path}/HHSIZE_MSOAIZ_England_Wales_Descriptions.csv\"\n",
    "    household_comp_accom_type = f\"{path}/ACCTYP_URESPOP_MSOAIZ_England_Scotland_Wales_Descriptions.csv\"\n",
    "    household_comp = f\"{path}/HHDCOM_MSOAIZ_England_Scotland_Wales_Descriptions.csv\"\n",
    "    age_by_sex = f\"{path}/AGE_SEX_MSOAIZ_England_Scotland_Wales_Descriptions.csv\"\n",
    "    communal_res = f\"{path}/COMEMT_URESPOP_MSOAIZ_England_Scotland_Wales_Descriptions.csv\"\n",
    "    age_by_sex_by_employment = f\"{path}/AGE_ECOACT_HRSWRK_SEX_MSOAIZ_England_Scotland_Wales_Descriptions.csv\"\n",
    "    \n",
    "def get_employment(csv_file):\n",
    "    \"\"\"\n",
    "    The number of hours that a person aged 16 and over, in employment in the week before the census, \n",
    "    worked in their main job. This includes paid and unpaid overtime.\n",
    "\n",
    "    Full-time working is defined as working 31 hours or more per week, and Part-time working is defined \n",
    "    as working 30 hours or less per week.\n",
    "    \"\"\"\n",
    "    return pd.read_csv(csv_file,sep=',',index_col=None,\n",
    "                      usecols = ['GEO_CODE', 'GEO_LABEL', \n",
    "                                 'Age : Age 16 to 19 - Economic activity : In employment the week before the census - Hours worked : Part-time - Sex : Males - Unit : Persons','Age : Age 16 to 19 - Economic activity : In employment the week before the census - Hours worked : Part-time - Sex : Females - Unit : Persons',\n",
    "                                 'Age : Age 16 to 19 - Economic activity : In employment the week before the census - Hours worked : Full-time - Sex : Males - Unit : Persons','Age : Age 16 to 19 - Economic activity : In employment the week before the census - Hours worked : Full-time - Sex : Females - Unit : Persons',\n",
    "                                 'Age : Age 20 to 21 - Economic activity : In employment the week before the census - Hours worked : Part-time - Sex : Males - Unit : Persons','Age : Age 20 to 21 - Economic activity : In employment the week before the census - Hours worked : Part-time - Sex : Females - Unit : Persons',\n",
    "                                 'Age : Age 20 to 21 - Economic activity : In employment the week before the census - Hours worked : Full-time - Sex : Males - Unit : Persons','Age : Age 20 to 21 - Economic activity : In employment the week before the census - Hours worked : Full-time - Sex : Females - Unit : Persons',\n",
    "                                 'Age : Age 22 to 24 - Economic activity : In employment the week before the census - Hours worked : Part-time - Sex : Males - Unit : Persons','Age : Age 22 to 24 - Economic activity : In employment the week before the census - Hours worked : Part-time - Sex : Females - Unit : Persons',\n",
    "                                 'Age : Age 22 to 24 - Economic activity : In employment the week before the census - Hours worked : Full-time - Sex : Males - Unit : Persons','Age : Age 22 to 24 - Economic activity : In employment the week before the census - Hours worked : Full-time - Sex : Females - Unit : Persons',\n",
    "                                 'Age : Age 25 to 29 - Economic activity : In employment the week before the census - Hours worked : Part-time - Sex : Males - Unit : Persons','Age : Age 25 to 29 - Economic activity : In employment the week before the census - Hours worked : Part-time - Sex : Females - Unit : Persons',\n",
    "                                 'Age : Age 25 to 29 - Economic activity : In employment the week before the census - Hours worked : Full-time - Sex : Males - Unit : Persons','Age : Age 25 to 29 - Economic activity : In employment the week before the census - Hours worked : Full-time - Sex : Females - Unit : Persons',\n",
    "                                 'Age : Age 30 to 34 - Economic activity : In employment the week before the census - Hours worked : Part-time - Sex : Males - Unit : Persons','Age : Age 30 to 34 - Economic activity : In employment the week before the census - Hours worked : Part-time - Sex : Females - Unit : Persons',\n",
    "                                 'Age : Age 30 to 34 - Economic activity : In employment the week before the census - Hours worked : Full-time - Sex : Males - Unit : Persons','Age : Age 30 to 34 - Economic activity : In employment the week before the census - Hours worked : Full-time - Sex : Females - Unit : Persons',\n",
    "                                 'Age : Age 35 to 39 - Economic activity : In employment the week before the census - Hours worked : Part-time - Sex : Males - Unit : Persons','Age : Age 35 to 39 - Economic activity : In employment the week before the census - Hours worked : Part-time - Sex : Females - Unit : Persons',\n",
    "                                 'Age : Age 35 to 39 - Economic activity : In employment the week before the census - Hours worked : Full-time - Sex : Males - Unit : Persons','Age : Age 35 to 39 - Economic activity : In employment the week before the census - Hours worked : Full-time - Sex : Females - Unit : Persons',\n",
    "                                 'Age : Age 40 to 44 - Economic activity : In employment the week before the census - Hours worked : Part-time - Sex : Males - Unit : Persons','Age : Age 40 to 44 - Economic activity : In employment the week before the census - Hours worked : Part-time - Sex : Females - Unit : Persons',\n",
    "                                 'Age : Age 40 to 44 - Economic activity : In employment the week before the census - Hours worked : Full-time - Sex : Males - Unit : Persons','Age : Age 40 to 44 - Economic activity : In employment the week before the census - Hours worked : Full-time - Sex : Females - Unit : Persons',                    \n",
    "                                 'Age : Age 45 to 49 - Economic activity : In employment the week before the census - Hours worked : Part-time - Sex : Males - Unit : Persons','Age : Age 45 to 49 - Economic activity : In employment the week before the census - Hours worked : Part-time - Sex : Females - Unit : Persons',\n",
    "                                 'Age : Age 45 to 49 - Economic activity : In employment the week before the census - Hours worked : Full-time - Sex : Males - Unit : Persons','Age : Age 45 to 49 - Economic activity : In employment the week before the census - Hours worked : Full-time - Sex : Females - Unit : Persons',                                 \n",
    "                                 'Age : Age 50 to 54 - Economic activity : In employment the week before the census - Hours worked : Part-time - Sex : Males - Unit : Persons','Age : Age 50 to 54 - Economic activity : In employment the week before the census - Hours worked : Part-time - Sex : Females - Unit : Persons',\n",
    "                                 'Age : Age 50 to 54 - Economic activity : In employment the week before the census - Hours worked : Full-time - Sex : Males - Unit : Persons','Age : Age 50 to 54 - Economic activity : In employment the week before the census - Hours worked : Full-time - Sex : Females - Unit : Persons',                                 \n",
    "                                 'Age : Age 55 to 59 - Economic activity : In employment the week before the census - Hours worked : Part-time - Sex : Males - Unit : Persons','Age : Age 55 to 59 - Economic activity : In employment the week before the census - Hours worked : Part-time - Sex : Females - Unit : Persons',\n",
    "                                 'Age : Age 55 to 59 - Economic activity : In employment the week before the census - Hours worked : Full-time - Sex : Males - Unit : Persons','Age : Age 55 to 59 - Economic activity : In employment the week before the census - Hours worked : Full-time - Sex : Females - Unit : Persons',                                 \n",
    "                                 'Age : Age 60 to 64 - Economic activity : In employment the week before the census - Hours worked : Part-time - Sex : Males - Unit : Persons','Age : Age 60 to 64 - Economic activity : In employment the week before the census - Hours worked : Part-time - Sex : Females - Unit : Persons',\n",
    "                                 'Age : Age 60 to 64 - Economic activity : In employment the week before the census - Hours worked : Full-time - Sex : Males - Unit : Persons','Age : Age 60 to 64 - Economic activity : In employment the week before the census - Hours worked : Full-time - Sex : Females - Unit : Persons',                                    \n",
    "                                 'Age : Age 65 and over - Economic activity : In employment the week before the census - Hours worked : Part-time - Sex : Males - Unit : Persons','Age : Age 65 and over - Economic activity : In employment the week before the census - Hours worked : Part-time - Sex : Females - Unit : Persons',\n",
    "                                 'Age : Age 65 and over - Economic activity : In employment the week before the census - Hours worked : Full-time - Sex : Males - Unit : Persons','Age : Age 65 and over - Economic activity : In employment the week before the census - Hours worked : Full-time - Sex : Females - Unit : Persons'])\n",
    "                                 \n",
    "def get_communal_res(csv_file):\n",
    "    '''\n",
    "    Dataset population: Residents in communal establishments\n",
    "    Communal establishments:\n",
    "    A communal establishment is an establishment providing managed residential accommodation. \n",
    "    'Managed' in this context, means full-time or part-time supervision of the accommodation.\n",
    "    '''\n",
    "    return pd.read_csv(csv_file,sep=',',index_col=None,\n",
    "                      usecols = ['GEO_CODE', 'GEO_LABEL',\n",
    "                                 'Communal establishment management and type : Total\\ Communal establishment management and type - Population (usual residents) : All usual residents in communal establishments (including people enumerated as sleeping rough. Residents who are staff or owner; and partners of staff or owner are not included for Scotland but are included for England and Wales; and Northern Ireland) - Unit : Persons'])\n",
    "    \n",
    "def get_age_by_sex(csv_file):\n",
    "    \"\"\"\n",
    "    Dataset population: Persons\n",
    "    Age:Age is derived from the date of birth question and is a person's age at their last birthday, at 27 March 2011. Dates of birth that imply an age over 115 are treated as invalid and the person's age is imputed. Infants less than one year old are classified as 0 years of age.\n",
    "    Sex:The classification of a person as either male or female.\n",
    "    \"\"\"\n",
    "    return pd.read_csv(csv_file,sep=',',index_col=None,\n",
    "                      usecols = ['GEO_CODE', 'GEO_LABEL','Age : Total\\ Age - Sex : Total\\ Sex - Unit : Persons',\n",
    "                                 'Age : Total\\ Age - Sex : Males - Unit : Persons','Age : Total\\ Age - Sex : Females - Unit : Persons',\n",
    "                                 'Age : Age under 1 - Sex : Males - Unit : Persons','Age : Age under 1 - Sex : Females - Unit : Persons',\n",
    "                                 'Age : Age 1 - Sex : Males - Unit : Persons','Age : Age 1 - Sex : Females - Unit : Persons',\n",
    "                                 'Age : Age 2 - Sex : Males - Unit : Persons','Age : Age 2 - Sex : Females - Unit : Persons',\n",
    "                                 'Age : Age 3 - Sex : Males - Unit : Persons','Age : Age 3 - Sex : Females - Unit : Persons',\n",
    "                                 'Age : Age 4 - Sex : Males - Unit : Persons','Age : Age 4 - Sex : Females - Unit : Persons', \n",
    "                                 'Age : Age 5 - Sex : Males - Unit : Persons','Age : Age 5 - Sex : Females - Unit : Persons',\n",
    "                                 'Age : Age 6 - Sex : Males - Unit : Persons','Age : Age 6 - Sex : Females - Unit : Persons',\n",
    "                                 'Age : Age 7 - Sex : Males - Unit : Persons','Age : Age 7 - Sex : Females - Unit : Persons',\n",
    "                                 'Age : Age 8 - Sex : Males - Unit : Persons','Age : Age 8 - Sex : Females - Unit : Persons',\n",
    "                                 'Age : Age 9 - Sex : Males - Unit : Persons','Age : Age 9 - Sex : Females - Unit : Persons',\n",
    "                                 'Age : Age 10 - Sex : Males - Unit : Persons','Age : Age 10 - Sex : Females - Unit : Persons',\n",
    "                                 'Age : Age 11 - Sex : Males - Unit : Persons','Age : Age 11 - Sex : Females - Unit : Persons',\n",
    "                                 'Age : Age 12 - Sex : Males - Unit : Persons','Age : Age 12 - Sex : Females - Unit : Persons',\n",
    "                                 'Age : Age 13 - Sex : Males - Unit : Persons','Age : Age 13 - Sex : Females - Unit : Persons',\n",
    "                                 'Age : Age 14 - Sex : Males - Unit : Persons','Age : Age 14 - Sex : Females - Unit : Persons',\n",
    "                                 'Age : Age 15 - Sex : Males - Unit : Persons','Age : Age 15 - Sex : Females - Unit : Persons',\n",
    "                                 'Age : Age 16 - Sex : Males - Unit : Persons','Age : Age 16 - Sex : Females - Unit : Persons',\n",
    "                                 'Age : Age 17 - Sex : Males - Unit : Persons','Age : Age 17 - Sex : Females - Unit : Persons',\n",
    "                                 'Age : Age 18 - Sex : Males - Unit : Persons','Age : Age 18 - Sex : Females - Unit : Persons',\n",
    "                                 'Age : Age 19 - Sex : Males - Unit : Persons','Age : Age 19 - Sex : Females - Unit : Persons',\n",
    "                                 'Age : Age 20 - Sex : Males - Unit : Persons','Age : Age 20 - Sex : Females - Unit : Persons',\n",
    "                                 'Age : Age 21 - Sex : Males - Unit : Persons','Age : Age 21 - Sex : Females - Unit : Persons',\n",
    "                                 'Age : Age 22 - Sex : Males - Unit : Persons','Age : Age 22 - Sex : Females - Unit : Persons',\n",
    "                                 'Age : Age 23 - Sex : Males - Unit : Persons','Age : Age 23 - Sex : Females - Unit : Persons',\n",
    "                                 'Age : Age 24 - Sex : Males - Unit : Persons','Age : Age 24 - Sex : Females - Unit : Persons',\n",
    "                                 'Age : Age 25 - Sex : Males - Unit : Persons','Age : Age 25 - Sex : Females - Unit : Persons',\n",
    "                                 'Age : Age 26 - Sex : Males - Unit : Persons','Age : Age 26 - Sex : Females - Unit : Persons',\n",
    "                                 'Age : Age 27 - Sex : Males - Unit : Persons','Age : Age 27 - Sex : Females - Unit : Persons',\n",
    "                                 'Age : Age 28 - Sex : Males - Unit : Persons','Age : Age 28 - Sex : Females - Unit : Persons',\n",
    "                                 'Age : Age 29 - Sex : Males - Unit : Persons','Age : Age 29 - Sex : Females - Unit : Persons',\n",
    "                                 'Age : Age 30 - Sex : Males - Unit : Persons','Age : Age 30 - Sex : Females - Unit : Persons',\n",
    "                                 'Age : Age 31 - Sex : Males - Unit : Persons','Age : Age 31 - Sex : Females - Unit : Persons',\n",
    "                                 'Age : Age 32 - Sex : Males - Unit : Persons','Age : Age 32 - Sex : Females - Unit : Persons',\n",
    "                                 'Age : Age 33 - Sex : Males - Unit : Persons','Age : Age 33 - Sex : Females - Unit : Persons',\n",
    "                                 'Age : Age 34 - Sex : Males - Unit : Persons','Age : Age 34 - Sex : Females - Unit : Persons',\n",
    "                                 'Age : Age 35 - Sex : Males - Unit : Persons','Age : Age 35 - Sex : Females - Unit : Persons',\n",
    "                                 'Age : Age 36 - Sex : Males - Unit : Persons','Age : Age 36 - Sex : Females - Unit : Persons',\n",
    "                                 'Age : Age 37 - Sex : Males - Unit : Persons','Age : Age 37 - Sex : Females - Unit : Persons',\n",
    "                                 'Age : Age 38 - Sex : Males - Unit : Persons','Age : Age 38 - Sex : Females - Unit : Persons',\n",
    "                                 'Age : Age 39 - Sex : Males - Unit : Persons','Age : Age 39 - Sex : Females - Unit : Persons',\n",
    "                                 'Age : Age 40 - Sex : Males - Unit : Persons','Age : Age 40 - Sex : Females - Unit : Persons',\n",
    "                                 'Age : Age 41 - Sex : Males - Unit : Persons','Age : Age 41 - Sex : Females - Unit : Persons',\n",
    "                                 'Age : Age 42 - Sex : Males - Unit : Persons','Age : Age 42 - Sex : Females - Unit : Persons',\n",
    "                                 'Age : Age 43 - Sex : Males - Unit : Persons','Age : Age 43 - Sex : Females - Unit : Persons',\n",
    "                                 'Age : Age 44 - Sex : Males - Unit : Persons','Age : Age 44 - Sex : Females - Unit : Persons',\n",
    "                                 'Age : Age 45 - Sex : Males - Unit : Persons','Age : Age 45 - Sex : Females - Unit : Persons',\n",
    "                                 'Age : Age 46 - Sex : Males - Unit : Persons','Age : Age 46 - Sex : Females - Unit : Persons',\n",
    "                                 'Age : Age 47 - Sex : Males - Unit : Persons','Age : Age 47 - Sex : Females - Unit : Persons',\n",
    "                                 'Age : Age 48 - Sex : Males - Unit : Persons','Age : Age 48 - Sex : Females - Unit : Persons',\n",
    "                                 'Age : Age 49 - Sex : Males - Unit : Persons','Age : Age 49 - Sex : Females - Unit : Persons',\n",
    "                                 'Age : Age 50 - Sex : Males - Unit : Persons','Age : Age 50 - Sex : Females - Unit : Persons',\n",
    "                                 'Age : Age 51 - Sex : Males - Unit : Persons','Age : Age 51 - Sex : Females - Unit : Persons',\n",
    "                                 'Age : Age 52 - Sex : Males - Unit : Persons','Age : Age 52 - Sex : Females - Unit : Persons',\n",
    "                                 'Age : Age 53 - Sex : Males - Unit : Persons','Age : Age 53 - Sex : Females - Unit : Persons',\n",
    "                                 'Age : Age 54 - Sex : Males - Unit : Persons','Age : Age 54 - Sex : Females - Unit : Persons',\n",
    "                                 'Age : Age 55 - Sex : Males - Unit : Persons','Age : Age 55 - Sex : Females - Unit : Persons',\n",
    "                                 'Age : Age 56 - Sex : Males - Unit : Persons','Age : Age 56 - Sex : Females - Unit : Persons',\n",
    "                                 'Age : Age 57 - Sex : Males - Unit : Persons','Age : Age 57 - Sex : Females - Unit : Persons',\n",
    "                                 'Age : Age 58 - Sex : Males - Unit : Persons','Age : Age 58 - Sex : Females - Unit : Persons',\n",
    "                                 'Age : Age 59 - Sex : Males - Unit : Persons','Age : Age 59 - Sex : Females - Unit : Persons',\n",
    "                                 'Age : Age 60 - Sex : Males - Unit : Persons','Age : Age 60 - Sex : Females - Unit : Persons',\n",
    "                                 'Age : Age 61 - Sex : Males - Unit : Persons','Age : Age 61 - Sex : Females - Unit : Persons',\n",
    "                                 'Age : Age 62 - Sex : Males - Unit : Persons','Age : Age 62 - Sex : Females - Unit : Persons',\n",
    "                                 'Age : Age 63 - Sex : Males - Unit : Persons','Age : Age 63 - Sex : Females - Unit : Persons',\n",
    "                                 'Age : Age 64 - Sex : Males - Unit : Persons','Age : Age 64 - Sex : Females - Unit : Persons',\n",
    "                                 'Age : Age 65 - Sex : Males - Unit : Persons','Age : Age 65 - Sex : Females - Unit : Persons',\n",
    "                                 'Age : Age 66 - Sex : Males - Unit : Persons','Age : Age 66 - Sex : Females - Unit : Persons',\n",
    "                                 'Age : Age 67 - Sex : Males - Unit : Persons','Age : Age 67 - Sex : Females - Unit : Persons',\n",
    "                                 'Age : Age 68 - Sex : Males - Unit : Persons','Age : Age 68 - Sex : Females - Unit : Persons',\n",
    "                                 'Age : Age 69 - Sex : Males - Unit : Persons','Age : Age 69 - Sex : Females - Unit : Persons',\n",
    "                                 'Age : Age 70 - Sex : Males - Unit : Persons','Age : Age 70 - Sex : Females - Unit : Persons',\n",
    "                                 'Age : Age 71 - Sex : Males - Unit : Persons','Age : Age 71 - Sex : Females - Unit : Persons',\n",
    "                                 'Age : Age 72 - Sex : Males - Unit : Persons','Age : Age 72 - Sex : Females - Unit : Persons',\n",
    "                                 'Age : Age 73 - Sex : Males - Unit : Persons','Age : Age 73 - Sex : Females - Unit : Persons',\n",
    "                                 'Age : Age 74 - Sex : Males - Unit : Persons','Age : Age 74 - Sex : Females - Unit : Persons',\n",
    "                                 'Age : Age 75 - Sex : Males - Unit : Persons','Age : Age 75 - Sex : Females - Unit : Persons',\n",
    "                                 'Age : Age 76 - Sex : Males - Unit : Persons','Age : Age 76 - Sex : Females - Unit : Persons',\n",
    "                                 'Age : Age 77 - Sex : Males - Unit : Persons','Age : Age 77 - Sex : Females - Unit : Persons',\n",
    "                                 'Age : Age 78 - Sex : Males - Unit : Persons','Age : Age 78 - Sex : Females - Unit : Persons',\n",
    "                                 'Age : Age 79 - Sex : Males - Unit : Persons','Age : Age 79 - Sex : Females - Unit : Persons',\n",
    "                                 'Age : Age 80 - Sex : Males - Unit : Persons','Age : Age 80 - Sex : Females - Unit : Persons',\n",
    "                                 'Age : Age 81 - Sex : Males - Unit : Persons','Age : Age 81 - Sex : Females - Unit : Persons',\n",
    "                                 'Age : Age 82 - Sex : Males - Unit : Persons','Age : Age 82 - Sex : Females - Unit : Persons',\n",
    "                                 'Age : Age 83 - Sex : Males - Unit : Persons','Age : Age 83 - Sex : Females - Unit : Persons',\n",
    "                                 'Age : Age 84 - Sex : Males - Unit : Persons','Age : Age 84 - Sex : Females - Unit : Persons',\n",
    "                                 'Age : Age 85 and over - Sex : Males - Unit : Persons','Age : Age 85 and over - Sex : Females - Unit : Persons'])\n",
    "    \n",
    "def get_household_by_composition(csv_file):\n",
    "    \"\"\"\n",
    "    Dataset population: Households\n",
    "    Household composition: Household composition classifies households according to the relationships between the\n",
    "    household members. Households consisting of one family and no other usual residents are classified according \n",
    "    to the type of family (married, same-sex civil partnership or cohabiting couple family, or lone parent family)\n",
    "    and the number of dependent children. Other households are classified by the number of people, the number of \n",
    "    dependent children, or whether the household consists only of students or only of people aged 65 and over.\n",
    "    \"\"\"\n",
    "    return pd.read_csv(csv_file , sep = ',', index_col = None,\n",
    "                    usecols = [\"GEO_CODE\", \"GEO_LABEL\", \n",
    "                               'Household composition : Total\\ Household composition - Unit : Households',\n",
    "                               #'Household composition : One person household - Unit : Households',\n",
    "                               'Household composition : One person household\\ Aged 65 and over - Unit : Households',\n",
    "                               'Household composition : One person household\\ Aged 0 to 64 - Unit : Households',\n",
    "                               #'Household composition : One family only - Unit : Households',\n",
    "                               'Household composition : One family only\\ All aged 65 and over - Unit : Households',\n",
    "                               #'Household composition : One family only\\ Married or same-sex civil partnership couple\\ No children - Unit : Households',\n",
    "                               #'Household composition : One family only\\ Married or same-sex civil partnership couple\\ Dependent children - Unit : Households',\n",
    "                               #'Household composition : One family only\\ Married or same-sex civil partnership couple\\ All children non-dependent - Unit : Households',\n",
    "                               #'Household composition : One family only\\ Married couple - Unit : Households',\n",
    "                               'Household composition : One family only\\ Married couple\\ No children - Unit : Households',\n",
    "                               'Household composition : One family only\\ Married couple\\ One dependent child - Unit : Households',\n",
    "                               'Household composition : One family only\\ Married couple\\ Two or more dependent children - Unit : Households',\n",
    "                               'Household composition : One family only\\ Married couple\\ All children non-dependent - Unit : Households',\n",
    "                               #'Household composition : One family only\\ Same-sex civil partnership couple - Unit : Households',\n",
    "                               'Household composition : One family only\\ Same-sex civil partnership couple\\ No children - Unit : Households',\n",
    "                               'Household composition : One family only\\ Same-sex civil partnership couple\\ One dependent child - Unit : Households',\n",
    "                               'Household composition : One family only\\ Same-sex civil partnership couple\\ Two or more dependent children - Unit : Households',\n",
    "                               'Household composition : One family only\\ Same-sex civil partnership couple\\ All children non-dependent - Unit : Households',\n",
    "                               #'Household composition : One family only\\ Cohabiting couple - Unit : Households',\n",
    "                               'Household composition : One family only\\ Cohabiting couple\\ No children - Unit : Households',\n",
    "                               #'Household composition : One family only\\ Cohabiting couple\\ Dependent children - Unit : Households',\n",
    "                               'Household composition : One family only\\ Cohabiting couple\\ One dependent child - Unit : Households',\n",
    "                               'Household composition : One family only\\ Cohabiting couple\\ Two or more dependent children - Unit : Households',\n",
    "                               'Household composition : One family only\\ Cohabiting couple\\ All children non-dependent - Unit : Households',\n",
    "                               #'Household composition : One family only\\ Lone parent - Unit : Households',\n",
    "                               #'Household composition : One family only\\ Lone parent\\ Dependent children - Unit : Households',\n",
    "                               'Household composition : One family only\\ Lone parent\\ One dependent child - Unit : Households',\n",
    "                               'Household composition : One family only\\ Lone parent\\ Two or more dependent children - Unit : Households',\n",
    "                               'Household composition : One family only\\ Lone parent\\ All children non-dependent - Unit : Households',\n",
    "                               #'Household composition : Other household types - Unit : Households',\n",
    "                               #'Household composition : Other household types\\ With dependent children - Unit : Households',\n",
    "                               'Household composition : Other household types\\ With one dependent child - Unit : Households',\n",
    "                               'Household composition : Other household types\\ With two or more dependent children - Unit : Households',\n",
    "                               'Household composition : Other household types\\ All full-time students - Unit : Households',\n",
    "                               'Household composition : Other household types\\ All aged 65 and over - Unit : Households',\n",
    "                               'Household composition : Other household types\\ Other - Unit : Households'])\n",
    "\n",
    "    \n",
    "def get_households_by_type(csv_file):\n",
    "    \"\"\"\n",
    "    Dataset population: Households\n",
    "\n",
    "    Household composition: Household composition classifies households according to the\n",
    "    relationships between the household members. Households consisting of one family and no\n",
    "    other usual residents are classified according to the type of family (married, same-sex civil\n",
    "    partnership or cohabiting couple family, or lone parent family) and the number of dependent\n",
    "    children. Other households are classified by the number of people, the number of dependent\n",
    "    children, or whether the household consists only of students or only of people aged 65 and over.\n",
    "    \"\"\"\n",
    "    return pd.read_csv(csv_file , sep = ',', index_col = None,\n",
    "                    usecols = [\"GEO_CODE\", \"GEO_LABEL\", \n",
    "                               \"Accommodation type : Total\\ Accommodation type - Population (usual residents) : All usual residents in households - Unit : Persons\",\n",
    "                               \"Accommodation type : Unshared dwelling - Population (usual residents) : All usual residents in households - Unit : Persons\",\n",
    "                               \"Accommodation type : Unshared dwelling\\ Whole house or bungalow - Population (usual residents) : All usual residents in households - Unit : Persons\",\n",
    "                               \"Accommodation type : Unshared dwelling\\ Whole house or bungalow\\ Detached - Population (usual residents) : All usual residents in households - Unit : Persons\",\n",
    "                               \"Accommodation type : Unshared dwelling\\ Whole house or bungalow\\ Semi-detached - Population (usual residents) : All usual residents in households - Unit : Persons\",\n",
    "                               \"Accommodation type : Unshared dwelling\\ Whole house or bungalow\\ Terraced (including end-terrace) - Population (usual residents) : All usual residents in households - Unit : Persons\",\n",
    "                               \"Accommodation type : Unshared dwelling\\ Flat; maisonette or apartment - Population (usual residents) : All usual residents in households - Unit : Persons\",\n",
    "                               \"Accommodation type : Unshared dwelling\\ Flat; maisonette or apartment\\ Purpose-built block of flats or tenement - Population (usual residents) : All usual residents in households - Unit : Persons\",\n",
    "                               \"Accommodation type : Unshared dwelling\\ Flat; maisonette or apartment\\ Part of a converted or shared house (including bed-sits) - Population (usual residents) : All usual residents in households - Unit : Persons\",\n",
    "                               \"Accommodation type : Unshared dwelling\\ Flat; maisonette or apartment\\ In commercial building - Population (usual residents) : All usual residents in households - Unit : Persons\",\n",
    "                               \"Accommodation type : Unshared dwelling\\ Flat; maisonette or apartment\\ In commercial building (including in an office building; or hotel or over a shop) - Population (usual residents) : All usual residents in households - Unit : Persons\",\n",
    "                               \"Accommodation type : Unshared dwelling\\ Caravan or other mobile or temporary structure - Population (usual residents) : All usual residents in households - Unit : Persons\",\n",
    "                               \"Accommodation type : Shared dwelling - Population (usual residents) : All usual residents in households - Unit : Persons\"])\n",
    "\n",
    "\n",
    "\n",
    "def get_household_size(csv_file):\n",
    "    \"\"\"\n",
    "    Dataset population: Persons/Households/Household spaces\n",
    "    Household size: The size of a household is equal to the number of usual residents in the\n",
    "    household.  Visitors staying at an address do not contribute to that household's size because\n",
    "    they are counted in the household of their place of usual residence.\n",
    "    https://statistics.ukdataservice.ac.uk/dataset/household-size-2011\n",
    "    http://dx.doi.org/10.5257/census/aggregate-2011-2\n",
    "    \"\"\"\n",
    "    return pd.read_csv(csv_file , sep = ',', index_col = None,\n",
    "                    usecols = [\"GEO_CODE\", \"GEO_LABEL\",\n",
    "                               \"Household size : Total\\ Household size - Unit : Household spaces\", \n",
    "                               \"Household size : 1 person in household - Unit : Household spaces\", \n",
    "                               \"Household size : 2 people in household - Unit : Household spaces\", \n",
    "                               \"Household size : 3 people in household - Unit : Household spaces\", \n",
    "                               \"Household size : 4 people in household - Unit : Household spaces\", \n",
    "                               \"Household size : 5 people in household - Unit : Household spaces\", \n",
    "                               \"Household size : 6 people in household - Unit : Household spaces\", \n",
    "                               \"Household size : 7 people in household - Unit : Household spaces\", \n",
    "                               \"Household size : 8 or more people in household - Unit : Household spaces\", \n",
    "                               \"Household size : Average household size (persons per household) - Unit : Persons\"])\n",
    "\n",
    "\n",
    "\n",
    "\n",
    "if __name__ == \"__main__\":\n",
    "    \n",
    "    householdSize = get_household_size(MsoaData.household_size)"
   ]
  },
  {
   "cell_type": "markdown",
   "id": "20746d5d",
   "metadata": {},
   "source": [
    "## Creating a new dataframe and giving households IDs"
   ]
  },
  {
   "cell_type": "code",
   "execution_count": 3,
   "id": "c1635a72",
   "metadata": {},
   "outputs": [
    {
     "name": "stdout",
     "output_type": "stream",
     "text": [
      "Enter the desired MSOA geo label from the MSOA data sheets.City of London 001\n",
      "Press any key to continue...\n"
     ]
    },
    {
     "data": {
      "text/plain": [
       "''"
      ]
     },
     "execution_count": 3,
     "metadata": {},
     "output_type": "execute_result"
    }
   ],
   "source": [
    "#asking for which MSOA row to use\n",
    "MSOA_name = input('Enter the desired MSOA geo label from the MSOA data sheets.')\n",
    "MSOA_row = get_household_size(MsoaData.household_size)[get_household_size(MsoaData.household_size)['GEO_LABEL'] == MSOA_name].index.to_list()\n",
    "MSOA_row = MSOA_row[0]\n",
    "input('Press any key to continue...')"
   ]
  },
  {
   "cell_type": "code",
   "execution_count": 4,
   "id": "18086501",
   "metadata": {},
   "outputs": [
    {
     "name": "stdout",
     "output_type": "stream",
     "text": [
      "4385\n",
      "['HH0', 'HH1', 'HH2', 'HH3', 'HH4', 'HH5', 'HH6', 'HH7', 'HH8', 'HH9']\n"
     ]
    }
   ],
   "source": [
    "# Try getting just the first MSOA's (City of London) number of households\n",
    "num_HH = get_household_size(MsoaData.household_size).iloc[MSOA_row][\"Household size : Total\\ Household size - Unit : Household spaces\"]\n",
    "print(num_HH)            #above uses only inputted MSOA  ^^^\n",
    "\n",
    "#Create list of \"household names\" to populate new df\n",
    "HH_names = ['HH' + str(i) for i in range(num_HH)]\n",
    "print(HH_names[:10])"
   ]
  },
  {
   "cell_type": "code",
   "execution_count": 5,
   "id": "e1930ef3",
   "metadata": {},
   "outputs": [
    {
     "data": {
      "text/html": [
       "<div>\n",
       "<style scoped>\n",
       "    .dataframe tbody tr th:only-of-type {\n",
       "        vertical-align: middle;\n",
       "    }\n",
       "\n",
       "    .dataframe tbody tr th {\n",
       "        vertical-align: top;\n",
       "    }\n",
       "\n",
       "    .dataframe thead th {\n",
       "        text-align: right;\n",
       "    }\n",
       "</style>\n",
       "<table border=\"1\" class=\"dataframe\">\n",
       "  <thead>\n",
       "    <tr style=\"text-align: right;\">\n",
       "      <th></th>\n",
       "      <th>Household ID</th>\n",
       "    </tr>\n",
       "  </thead>\n",
       "  <tbody>\n",
       "    <tr>\n",
       "      <th>0</th>\n",
       "      <td>HH0</td>\n",
       "    </tr>\n",
       "    <tr>\n",
       "      <th>1</th>\n",
       "      <td>HH1</td>\n",
       "    </tr>\n",
       "    <tr>\n",
       "      <th>2</th>\n",
       "      <td>HH2</td>\n",
       "    </tr>\n",
       "    <tr>\n",
       "      <th>3</th>\n",
       "      <td>HH3</td>\n",
       "    </tr>\n",
       "    <tr>\n",
       "      <th>4</th>\n",
       "      <td>HH4</td>\n",
       "    </tr>\n",
       "    <tr>\n",
       "      <th>...</th>\n",
       "      <td>...</td>\n",
       "    </tr>\n",
       "    <tr>\n",
       "      <th>4380</th>\n",
       "      <td>HH4380</td>\n",
       "    </tr>\n",
       "    <tr>\n",
       "      <th>4381</th>\n",
       "      <td>HH4381</td>\n",
       "    </tr>\n",
       "    <tr>\n",
       "      <th>4382</th>\n",
       "      <td>HH4382</td>\n",
       "    </tr>\n",
       "    <tr>\n",
       "      <th>4383</th>\n",
       "      <td>HH4383</td>\n",
       "    </tr>\n",
       "    <tr>\n",
       "      <th>4384</th>\n",
       "      <td>HH4384</td>\n",
       "    </tr>\n",
       "  </tbody>\n",
       "</table>\n",
       "<p>4385 rows × 1 columns</p>\n",
       "</div>"
      ],
      "text/plain": [
       "     Household ID\n",
       "0             HH0\n",
       "1             HH1\n",
       "2             HH2\n",
       "3             HH3\n",
       "4             HH4\n",
       "...           ...\n",
       "4380       HH4380\n",
       "4381       HH4381\n",
       "4382       HH4382\n",
       "4383       HH4383\n",
       "4384       HH4384\n",
       "\n",
       "[4385 rows x 1 columns]"
      ]
     },
     "execution_count": 5,
     "metadata": {},
     "output_type": "execute_result"
    }
   ],
   "source": [
    "# Create new dataframe with each row being a household\n",
    "df_test = pd.DataFrame()\n",
    "df_test['Household ID'] = HH_names\n",
    "df_test"
   ]
  },
  {
   "cell_type": "markdown",
   "id": "c8febbe1",
   "metadata": {},
   "source": [
    "## Creating and assigning HHsizes to dataframe rows"
   ]
  },
  {
   "cell_type": "code",
   "execution_count": 6,
   "id": "b61e27c9",
   "metadata": {},
   "outputs": [
    {
     "name": "stdout",
     "output_type": "stream",
     "text": [
      "4385\n"
     ]
    },
    {
     "data": {
      "text/plain": [
       "'Household size : 3 people in household - Unit : Household spaces'"
      ]
     },
     "execution_count": 6,
     "metadata": {},
     "output_type": "execute_result"
    }
   ],
   "source": [
    "# select HH sizes from that row of csv and (randomly?) assign all of them to an HH row\n",
    "#create list multiplying number of HHs of that size by the name of the HH size\n",
    "HH_size_index = [f\"Household size : {i} people in household - Unit : Household spaces\" for i in range(2,9)]\n",
    "HH_size_index.insert(0,\"Household size : 1 person in household - Unit : Household spaces\")\n",
    "HH_size_vals = list(get_household_size(MsoaData.household_size).iloc[MSOA_row][3:11])\n",
    "                                    #above uses only inputted MSOA  ^^^\n",
    "HH_size_list = []\n",
    "for i,j in zip(HH_size_index,HH_size_vals):\n",
    "        x = [i]*j\n",
    "        HH_size_list.append(x)\n",
    "\n",
    "from itertools import chain\n",
    "HH_size_list = list(chain.from_iterable(HH_size_list))\n",
    "print(len(HH_size_list))\n",
    "HH_size_index[2]"
   ]
  },
  {
   "cell_type": "code",
   "execution_count": 7,
   "id": "979db626",
   "metadata": {},
   "outputs": [
    {
     "data": {
      "text/plain": [
       "Household size : 1 person in household - Unit : Household spaces    2472\n",
       "Household size : 2 people in household - Unit : Household spaces    1356\n",
       "Household size : 3 people in household - Unit : Household spaces     339\n",
       "Household size : 4 people in household - Unit : Household spaces     153\n",
       "Household size : 5 people in household - Unit : Household spaces      36\n",
       "Household size : 6 people in household - Unit : Household spaces      17\n",
       "Household size : 7 people in household - Unit : Household spaces       7\n",
       "Household size : 8 people in household - Unit : Household spaces       5\n",
       "Name: Household Size, dtype: int64"
      ]
     },
     "execution_count": 7,
     "metadata": {},
     "output_type": "execute_result"
    }
   ],
   "source": [
    "#randomly fill df_test rows with a Household Size\n",
    "import random\n",
    "seed = 69\n",
    "random.Random(seed).shuffle(HH_size_list)\n",
    "\n",
    "df_test['Household Size'] = HH_size_list\n",
    "df_test['Household Size'].value_counts().sort_index() #note that value_counts() orders itself by most occurences"
   ]
  },
  {
   "cell_type": "markdown",
   "id": "a0e99032",
   "metadata": {},
   "source": [
    "## Assigning HHcomps with guaranteed(?) sizes"
   ]
  },
  {
   "cell_type": "code",
   "execution_count": 8,
   "id": "b7e90196",
   "metadata": {},
   "outputs": [
    {
     "name": "stdout",
     "output_type": "stream",
     "text": [
      "0.0\n"
     ]
    }
   ],
   "source": [
    "# create household composition list for row assignment\n",
    "\n",
    "HH_comp_index = list(get_household_by_composition(MsoaData.household_comp).columns[3:])\n",
    "HH_comp_vals = list(get_household_by_composition(MsoaData.household_comp).iloc[MSOA_row][3:])\n",
    "                                                #above uses only inputted MSOA  ^^^\n",
    "HH_comp_list = []\n",
    "for i,j in zip(HH_comp_index,HH_comp_vals):\n",
    "        x = [i]*int(j)\n",
    "        HH_comp_list.append(x)\n",
    "\n",
    "HH_comp_list = list(chain.from_iterable(HH_comp_list))\n",
    "print(HH_comp_vals[8])\n",
    "\n",
    "df_test['Household Composition'] = ['0']*len(HH_comp_list)"
   ]
  },
  {
   "cell_type": "code",
   "execution_count": 9,
   "id": "f61afae8",
   "metadata": {},
   "outputs": [],
   "source": [
    "def assign_certain_HHcomp(count,HHsize,HHcomp):\n",
    "    '''Takes the how many of a type of Household composition there are, the desired Household Size, and the\n",
    "    desired Household Composition to assign. Returns the value counts of the Household Compositions in the df.'''\n",
    "    if int(count) == 0:\n",
    "        return df_test['Household Composition'].value_counts().sort_index()\n",
    "    for i in range(len(df_test['Household Composition'])):\n",
    "        if (df_test['Household Size'].values[i] == HHsize) & (df_test['Household Composition'].values[i] == '0'):\n",
    "            df_test.at[i, 'Household Composition'] = HHcomp\n",
    "            count -= 1\n",
    "            if count == 0:\n",
    "                break\n",
    "    return df_test['Household Composition'].value_counts().sort_index()"
   ]
  },
  {
   "cell_type": "code",
   "execution_count": 10,
   "id": "8bac7ce0",
   "metadata": {},
   "outputs": [
    {
     "data": {
      "text/plain": [
       "0                                                                                     1913\n",
       "Household composition : One person household\\ Aged 0 to 64 - Unit : Households        1946\n",
       "Household composition : One person household\\ Aged 65 and over - Unit : Households     526\n",
       "Name: Household Composition, dtype: int64"
      ]
     },
     "execution_count": 10,
     "metadata": {},
     "output_type": "execute_result"
    }
   ],
   "source": [
    "#assigning 1 person Households\n",
    "assign_certain_HHcomp(HH_comp_vals[0],HH_size_index[0],HH_comp_index[0])\n",
    "assign_certain_HHcomp(HH_comp_vals[1],HH_size_index[0],HH_comp_index[1])"
   ]
  },
  {
   "cell_type": "code",
   "execution_count": 11,
   "id": "478a07ce",
   "metadata": {},
   "outputs": [
    {
     "data": {
      "text/plain": [
       "0                                                                                                               976\n",
       "Household composition : One family only\\ Cohabiting couple\\ No children - Unit : Households                     351\n",
       "Household composition : One family only\\ Lone parent\\ One dependent child - Unit : Households                    73\n",
       "Household composition : One family only\\ Married couple\\ No children - Unit : Households                        466\n",
       "Household composition : One family only\\ Same-sex civil partnership couple\\ No children - Unit : Households      47\n",
       "Household composition : One person household\\ Aged 0 to 64 - Unit : Households                                 1946\n",
       "Household composition : One person household\\ Aged 65 and over - Unit : Households                              526\n",
       "Name: Household Composition, dtype: int64"
      ]
     },
     "execution_count": 11,
     "metadata": {},
     "output_type": "execute_result"
    }
   ],
   "source": [
    "#assigning guaranteed 2 person Households\n",
    "assign_certain_HHcomp(HH_comp_vals[3],HH_size_index[1],HH_comp_index[3])\n",
    "assign_certain_HHcomp(HH_comp_vals[7],HH_size_index[1],HH_comp_index[7])\n",
    "assign_certain_HHcomp(HH_comp_vals[11],HH_size_index[1],HH_comp_index[11])\n",
    "assign_certain_HHcomp(HH_comp_vals[15],HH_size_index[1],HH_comp_index[15])"
   ]
  },
  {
   "cell_type": "code",
   "execution_count": 12,
   "id": "6d9c573a",
   "metadata": {},
   "outputs": [
    {
     "data": {
      "text/plain": [
       "0                                                                                                               802\n",
       "Household composition : One family only\\ Cohabiting couple\\ No children - Unit : Households                     351\n",
       "Household composition : One family only\\ Cohabiting couple\\ One dependent child - Unit : Households              44\n",
       "Household composition : One family only\\ Lone parent\\ One dependent child - Unit : Households                    73\n",
       "Household composition : One family only\\ Married couple\\ No children - Unit : Households                        466\n",
       "Household composition : One family only\\ Married couple\\ One dependent child - Unit : Households                130\n",
       "Household composition : One family only\\ Same-sex civil partnership couple\\ No children - Unit : Households      47\n",
       "Household composition : One person household\\ Aged 0 to 64 - Unit : Households                                 1946\n",
       "Household composition : One person household\\ Aged 65 and over - Unit : Households                              526\n",
       "Name: Household Composition, dtype: int64"
      ]
     },
     "execution_count": 12,
     "metadata": {},
     "output_type": "execute_result"
    }
   ],
   "source": [
    "#assigning guaranteed 3 person Households\n",
    "assign_certain_HHcomp(HH_comp_vals[4],HH_size_index[2],HH_comp_index[4])\n",
    "assign_certain_HHcomp(HH_comp_vals[8],HH_size_index[2],HH_comp_index[8])\n",
    "assign_certain_HHcomp(HH_comp_vals[12],HH_size_index[2],HH_comp_index[12])"
   ]
  },
  {
   "cell_type": "markdown",
   "id": "e7f28259",
   "metadata": {},
   "source": [
    "## Assigning HHcomps without a guaranteed size."
   ]
  },
  {
   "cell_type": "markdown",
   "id": "a7a698aa",
   "metadata": {},
   "source": [
    "Which HHcomp to assign to which HHsize (in order), (need to consider other MSOAs where slots will not be totally filled like in 3 HHsize).\n",
    "\n",
    "1. One person over 65 ---> One person  |_  These take up all the 1 person HH slots.\n",
    "2. One person 0-64 ---> One person     |\n",
    "\n",
    "3. Married couple no children ---> Two person        |\n",
    "4. Same-sex partnership no children ---> Two person  |- Have to be 2 person HH but 419 slots are still unfilled\n",
    "5. Co-habitating couple no children ---> Two person  |\n",
    "6. Lone parent with 1 dependent ---> Two person      |\n",
    "\n",
    "7. Married couple 1 dependent ---> Three person        |\n",
    "8. Same-sex partnership 1 dependent ---> Three person  |- These take up all 3 person HH slots\n",
    "9. Co-habitating couple 1 dependent ---> Three person  |\n",
    "\n",
    "10. One family all over 65 ---> Two person, maybe three person\n",
    "11. Married couple 2 or more dependent ---> Four person or more\n",
    "12. Same-sex partnership 2 or more dependent ---> Four person or more\n",
    "13. Co-habitating couple 2 or more dependent ---> Four person or more\n",
    "14. Lone parent all children non-dependent ---> Two person or more?\n",
    "15. Other household types one dependent child ---> Two person or more\n",
    "16. Married couple all children non-dependent ---> Three person or more?\n",
    "17. Same-sex partnership all children non-dependent ---> Three person or more?\n",
    "18. Co-habitating couple all children non-dependent ---> Three person or more?\n",
    "19. Lone parent 2 or more dependent ---> Three person or more\n",
    "20. Other household with two or more dependent children ---> Three person or more\n",
    "21. Other household types all full-time students ---> Any remaining\n",
    "22. Other household types all aged 65 and over ---> Any remaining\n",
    "23. Other household types: Other ---> Any remaining\n",
    "\n",
    "Method for assigning probabilities\n",
    "\n",
    "4 person example: number of 4 HHsize slots / total HHsize slots left == %\n",
    "                  then apply that percetage to how many of an HHcomp should assigned to that HHsize\n",
    "                  i.e. give 75% of the \"Married couple 2 or more dependent\" HH's to that many HHsize slots"
   ]
  },
  {
   "cell_type": "code",
   "execution_count": 13,
   "id": "6fdf6dca",
   "metadata": {},
   "outputs": [
    {
     "data": {
      "text/plain": [
       "5"
      ]
     },
     "execution_count": 13,
     "metadata": {},
     "output_type": "execute_result"
    }
   ],
   "source": [
    "def get_blanks(size):\n",
    "    '''Takes the desired Household Size and returns how many empty cells in the sheet that have that HH size.'''\n",
    "    count = 0\n",
    "    for i in range(len(df_test)):\n",
    "        if (df_test['Household Size'].values[i] == f'Household size : {size} people in household - Unit : Household spaces') and (df_test['Household Composition'].values[i] == '0'):\n",
    "            count+=1\n",
    "    return count\n",
    "get_blanks(8)"
   ]
  },
  {
   "cell_type": "code",
   "execution_count": 14,
   "id": "a81c2f63",
   "metadata": {},
   "outputs": [],
   "source": [
    "#find probabilities of HHsize\n",
    "def assign_prob_HHcomp(start_size,end_size,HHcomp):\n",
    "    '''Takes a desired starting/ending Household Size and the Household composition to calculate assignment \n",
    "    values for.'''\n",
    "    tot = sum(get_blanks(i) for i in range(start_size,end_size+1)) #total number of blanks in HH ranges\n",
    "    percentages = [get_blanks(i)/tot for i in range(start_size,end_size+1)] #'probability' of each HHsize\n",
    "    row_assigns = [round(i*get_household_by_composition(MsoaData.household_comp)[HHcomp].values[MSOA_row]) for i in percentages]\n",
    "    return percentages,row_assigns     #note that the row above only takes inputted MSOA row values ^^^\n"
   ]
  },
  {
   "cell_type": "code",
   "execution_count": 15,
   "id": "22981aa1",
   "metadata": {},
   "outputs": [
    {
     "data": {
      "text/plain": [
       "([0.7018348623853211,\n",
       "  0.1651376146788991,\n",
       "  0.0779816513761468,\n",
       "  0.03211009174311927,\n",
       "  0.022935779816513763],\n",
       " [13, 3, 1, 1, 0])"
      ]
     },
     "execution_count": 15,
     "metadata": {},
     "output_type": "execute_result"
    }
   ],
   "source": [
    "#Have to go on a rolling assignment basis otherwise you go over the amount of free slots.\n",
    "#Which HHSize to assign to, how many of the HHComp we are assigning to. that HHsize, and where it is going \n",
    "assign_prob_HHcomp(4,8,'Household composition : One family only\\ Cohabiting couple\\ Two or more dependent children - Unit : Households')\n",
    "                   "
   ]
  },
  {
   "cell_type": "code",
   "execution_count": 16,
   "id": "34e0c856",
   "metadata": {},
   "outputs": [],
   "source": [
    "def assign_HHcomps(start,stop,HHcomp):\n",
    "    '''Takes a desired starting/ending Household Size and the Household composition to calculate assignment \n",
    "    values for.'''\n",
    "    num_of_assigns = assign_prob_HHcomp(start,stop,HHcomp)[1] #uses probability function to find number of people to assign to HHcomp\n",
    "    if sum(num_of_assigns) == 0:\n",
    "        return \n",
    "    for i in range(len(num_of_assigns)):\n",
    "        size = f'Household size : {i+start} people in household - Unit : Household spaces' #HHsize\n",
    "        count = num_of_assigns[i]\n",
    "        for j in range(len(df_test)):\n",
    "            if (df_test['Household Size'].values[j] == size) & (df_test['Household Composition'].values[j] == '0'):\n",
    "                df_test.at[j, 'Household Composition'] = HHcomp #assigns HHcomp at the desired row\n",
    "                count -= 1\n",
    "            if count == 0:\n",
    "                break\n",
    "    return df_test['Household Composition'].value_counts().sort_index(),sum([1 for i in df_test['Household Composition'] if i == HHcomp])"
   ]
  },
  {
   "cell_type": "code",
   "execution_count": 17,
   "id": "4a5bfe86",
   "metadata": {},
   "outputs": [
    {
     "data": {
      "text/plain": [
       "(0                                                                                                               665\n",
       " Household composition : One family only\\ All aged 65 and over - Unit : Households                               137\n",
       " Household composition : One family only\\ Cohabiting couple\\ No children - Unit : Households                     351\n",
       " Household composition : One family only\\ Cohabiting couple\\ One dependent child - Unit : Households              44\n",
       " Household composition : One family only\\ Lone parent\\ One dependent child - Unit : Households                    73\n",
       " Household composition : One family only\\ Married couple\\ No children - Unit : Households                        466\n",
       " Household composition : One family only\\ Married couple\\ One dependent child - Unit : Households                130\n",
       " Household composition : One family only\\ Same-sex civil partnership couple\\ No children - Unit : Households      47\n",
       " Household composition : One person household\\ Aged 0 to 64 - Unit : Households                                 1946\n",
       " Household composition : One person household\\ Aged 65 and over - Unit : Households                              526\n",
       " Name: Household Composition, dtype: int64,\n",
       " 137)"
      ]
     },
     "execution_count": 17,
     "metadata": {},
     "output_type": "execute_result"
    }
   ],
   "source": [
    "assign_HHcomps(2,3,'Household composition : One family only\\ All aged 65 and over - Unit : Households')"
   ]
  },
  {
   "cell_type": "code",
   "execution_count": 18,
   "id": "92a5fd9f",
   "metadata": {},
   "outputs": [
    {
     "data": {
      "text/plain": [
       "(0                                                                                                               551\n",
       " Household composition : One family only\\ All aged 65 and over - Unit : Households                               137\n",
       " Household composition : One family only\\ Cohabiting couple\\ No children - Unit : Households                     351\n",
       " Household composition : One family only\\ Cohabiting couple\\ One dependent child - Unit : Households              44\n",
       " Household composition : One family only\\ Lone parent\\ One dependent child - Unit : Households                    73\n",
       " Household composition : One family only\\ Married couple\\ No children - Unit : Households                        466\n",
       " Household composition : One family only\\ Married couple\\ One dependent child - Unit : Households                130\n",
       " Household composition : One family only\\ Married couple\\ Two or more dependent children - Unit : Households     114\n",
       " Household composition : One family only\\ Same-sex civil partnership couple\\ No children - Unit : Households      47\n",
       " Household composition : One person household\\ Aged 0 to 64 - Unit : Households                                 1946\n",
       " Household composition : One person household\\ Aged 65 and over - Unit : Households                              526\n",
       " Name: Household Composition, dtype: int64,\n",
       " 114)"
      ]
     },
     "execution_count": 18,
     "metadata": {},
     "output_type": "execute_result"
    }
   ],
   "source": [
    "assign_HHcomps(4,8,'Household composition : One family only\\ Married couple\\ Two or more dependent children - Unit : Households')\n"
   ]
  },
  {
   "cell_type": "code",
   "execution_count": 19,
   "id": "45b7caaf",
   "metadata": {},
   "outputs": [
    {
     "data": {
      "text/plain": [
       "(Household composition : One family only\\ All aged 65 and over - Unit : Households                                  137\n",
       " Household composition : One family only\\ Cohabiting couple\\ All children non-dependent - Unit : Households           4\n",
       " Household composition : One family only\\ Cohabiting couple\\ No children - Unit : Households                        351\n",
       " Household composition : One family only\\ Cohabiting couple\\ One dependent child - Unit : Households                 44\n",
       " Household composition : One family only\\ Cohabiting couple\\ Two or more dependent children - Unit : Households      18\n",
       " Household composition : One family only\\ Lone parent\\ All children non-dependent - Unit : Households                62\n",
       " Household composition : One family only\\ Lone parent\\ One dependent child - Unit : Households                       73\n",
       " Household composition : One family only\\ Lone parent\\ Two or more dependent children - Unit : Households            18\n",
       " Household composition : One family only\\ Married couple\\ All children non-dependent - Unit : Households             59\n",
       " Household composition : One family only\\ Married couple\\ No children - Unit : Households                           466\n",
       " Household composition : One family only\\ Married couple\\ One dependent child - Unit : Households                   130\n",
       " Household composition : One family only\\ Married couple\\ Two or more dependent children - Unit : Households        114\n",
       " Household composition : One family only\\ Same-sex civil partnership couple\\ No children - Unit : Households         47\n",
       " Household composition : One person household\\ Aged 0 to 64 - Unit : Households                                    1946\n",
       " Household composition : One person household\\ Aged 65 and over - Unit : Households                                 526\n",
       " Household composition : Other household types\\ All aged 65 and over - Unit : Households                             16\n",
       " Household composition : Other household types\\ All full-time students - Unit : Households                           30\n",
       " Household composition : Other household types\\ Other - Unit : Households                                           310\n",
       " Household composition : Other household types\\ With one dependent child - Unit : Households                         20\n",
       " Household composition : Other household types\\ With two or more dependent children - Unit : Households              14\n",
       " Name: Household Composition, dtype: int64,\n",
       " 310)"
      ]
     },
     "execution_count": 19,
     "metadata": {},
     "output_type": "execute_result"
    }
   ],
   "source": [
    "assign_HHcomps(3,8,'Household composition : One family only\\ Married couple\\ All children non-dependent - Unit : Households')\n",
    "\n",
    "assign_HHcomps(4,8,'Household composition : One family only\\ Same-sex civil partnership couple\\ Two or more dependent children - Unit : Households')\n",
    "\n",
    "assign_HHcomps(3,8,'Household composition : One family only\\ Same-sex civil partnership couple\\ All children non-dependent - Unit : Households')\n",
    "\n",
    "assign_HHcomps(4,8,'Household composition : One family only\\ Cohabiting couple\\ Two or more dependent children - Unit : Households')\n",
    "\n",
    "assign_HHcomps(3,8,'Household composition : One family only\\ Cohabiting couple\\ All children non-dependent - Unit : Households')\n",
    "\n",
    "assign_HHcomps(3,8,'Household composition : One family only\\ Lone parent\\ Two or more dependent children - Unit : Households')\n",
    "\n",
    "assign_HHcomps(2,8,'Household composition : One family only\\ Lone parent\\ All children non-dependent - Unit : Households')\n",
    "\n",
    "assign_HHcomps(2,8,'Household composition : Other household types\\ With one dependent child - Unit : Households')\n",
    "\n",
    "assign_HHcomps(3,8,'Household composition : Other household types\\ With two or more dependent children - Unit : Households')\n",
    "\n",
    "assign_HHcomps(2,8,'Household composition : Other household types\\ All full-time students - Unit : Households')\n",
    "\n",
    "assign_HHcomps(2,8,'Household composition : Other household types\\ All aged 65 and over - Unit : Households')\n",
    "\n",
    "assign_HHcomps(2,8,'Household composition : Other household types\\ Other - Unit : Households')\n"
   ]
  },
  {
   "cell_type": "code",
   "execution_count": 20,
   "id": "1d18c47e",
   "metadata": {},
   "outputs": [
    {
     "data": {
      "text/html": [
       "<div>\n",
       "<style scoped>\n",
       "    .dataframe tbody tr th:only-of-type {\n",
       "        vertical-align: middle;\n",
       "    }\n",
       "\n",
       "    .dataframe tbody tr th {\n",
       "        vertical-align: top;\n",
       "    }\n",
       "\n",
       "    .dataframe thead th {\n",
       "        text-align: right;\n",
       "    }\n",
       "</style>\n",
       "<table border=\"1\" class=\"dataframe\">\n",
       "  <thead>\n",
       "    <tr style=\"text-align: right;\">\n",
       "      <th></th>\n",
       "      <th>Household ID</th>\n",
       "      <th>Household Size</th>\n",
       "      <th>Household Composition</th>\n",
       "    </tr>\n",
       "  </thead>\n",
       "  <tbody>\n",
       "    <tr>\n",
       "      <th>0</th>\n",
       "      <td>HH0</td>\n",
       "      <td>Household size : 1 person in household - Unit ...</td>\n",
       "      <td>Household composition : One person household\\ ...</td>\n",
       "    </tr>\n",
       "    <tr>\n",
       "      <th>1</th>\n",
       "      <td>HH1</td>\n",
       "      <td>Household size : 1 person in household - Unit ...</td>\n",
       "      <td>Household composition : One person household\\ ...</td>\n",
       "    </tr>\n",
       "    <tr>\n",
       "      <th>2</th>\n",
       "      <td>HH2</td>\n",
       "      <td>Household size : 1 person in household - Unit ...</td>\n",
       "      <td>Household composition : One person household\\ ...</td>\n",
       "    </tr>\n",
       "    <tr>\n",
       "      <th>3</th>\n",
       "      <td>HH3</td>\n",
       "      <td>Household size : 2 people in household - Unit ...</td>\n",
       "      <td>Household composition : One family only\\ Marri...</td>\n",
       "    </tr>\n",
       "    <tr>\n",
       "      <th>4</th>\n",
       "      <td>HH4</td>\n",
       "      <td>Household size : 1 person in household - Unit ...</td>\n",
       "      <td>Household composition : One person household\\ ...</td>\n",
       "    </tr>\n",
       "    <tr>\n",
       "      <th>...</th>\n",
       "      <td>...</td>\n",
       "      <td>...</td>\n",
       "      <td>...</td>\n",
       "    </tr>\n",
       "    <tr>\n",
       "      <th>4380</th>\n",
       "      <td>HH4380</td>\n",
       "      <td>Household size : 2 people in household - Unit ...</td>\n",
       "      <td>Household composition : Other household types\\...</td>\n",
       "    </tr>\n",
       "    <tr>\n",
       "      <th>4381</th>\n",
       "      <td>HH4381</td>\n",
       "      <td>Household size : 1 person in household - Unit ...</td>\n",
       "      <td>Household composition : One person household\\ ...</td>\n",
       "    </tr>\n",
       "    <tr>\n",
       "      <th>4382</th>\n",
       "      <td>HH4382</td>\n",
       "      <td>Household size : 1 person in household - Unit ...</td>\n",
       "      <td>Household composition : One person household\\ ...</td>\n",
       "    </tr>\n",
       "    <tr>\n",
       "      <th>4383</th>\n",
       "      <td>HH4383</td>\n",
       "      <td>Household size : 1 person in household - Unit ...</td>\n",
       "      <td>Household composition : One person household\\ ...</td>\n",
       "    </tr>\n",
       "    <tr>\n",
       "      <th>4384</th>\n",
       "      <td>HH4384</td>\n",
       "      <td>Household size : 1 person in household - Unit ...</td>\n",
       "      <td>Household composition : One person household\\ ...</td>\n",
       "    </tr>\n",
       "  </tbody>\n",
       "</table>\n",
       "<p>4385 rows × 3 columns</p>\n",
       "</div>"
      ],
      "text/plain": [
       "     Household ID                                     Household Size  \\\n",
       "0             HH0  Household size : 1 person in household - Unit ...   \n",
       "1             HH1  Household size : 1 person in household - Unit ...   \n",
       "2             HH2  Household size : 1 person in household - Unit ...   \n",
       "3             HH3  Household size : 2 people in household - Unit ...   \n",
       "4             HH4  Household size : 1 person in household - Unit ...   \n",
       "...           ...                                                ...   \n",
       "4380       HH4380  Household size : 2 people in household - Unit ...   \n",
       "4381       HH4381  Household size : 1 person in household - Unit ...   \n",
       "4382       HH4382  Household size : 1 person in household - Unit ...   \n",
       "4383       HH4383  Household size : 1 person in household - Unit ...   \n",
       "4384       HH4384  Household size : 1 person in household - Unit ...   \n",
       "\n",
       "                                  Household Composition  \n",
       "0     Household composition : One person household\\ ...  \n",
       "1     Household composition : One person household\\ ...  \n",
       "2     Household composition : One person household\\ ...  \n",
       "3     Household composition : One family only\\ Marri...  \n",
       "4     Household composition : One person household\\ ...  \n",
       "...                                                 ...  \n",
       "4380  Household composition : Other household types\\...  \n",
       "4381  Household composition : One person household\\ ...  \n",
       "4382  Household composition : One person household\\ ...  \n",
       "4383  Household composition : One person household\\ ...  \n",
       "4384  Household composition : One person household\\ ...  \n",
       "\n",
       "[4385 rows x 3 columns]"
      ]
     },
     "execution_count": 20,
     "metadata": {},
     "output_type": "execute_result"
    }
   ],
   "source": [
    "df_test"
   ]
  },
  {
   "cell_type": "code",
   "execution_count": 21,
   "id": "7409881e",
   "metadata": {},
   "outputs": [
    {
     "data": {
      "text/html": [
       "<div>\n",
       "<style scoped>\n",
       "    .dataframe tbody tr th:only-of-type {\n",
       "        vertical-align: middle;\n",
       "    }\n",
       "\n",
       "    .dataframe tbody tr th {\n",
       "        vertical-align: top;\n",
       "    }\n",
       "\n",
       "    .dataframe thead th {\n",
       "        text-align: right;\n",
       "    }\n",
       "</style>\n",
       "<table border=\"1\" class=\"dataframe\">\n",
       "  <thead>\n",
       "    <tr style=\"text-align: right;\">\n",
       "      <th></th>\n",
       "      <th>Household ID</th>\n",
       "      <th>Household Size</th>\n",
       "      <th>Household Composition</th>\n",
       "    </tr>\n",
       "  </thead>\n",
       "  <tbody>\n",
       "  </tbody>\n",
       "</table>\n",
       "</div>"
      ],
      "text/plain": [
       "Empty DataFrame\n",
       "Columns: [Household ID, Household Size, Household Composition]\n",
       "Index: []"
      ]
     },
     "execution_count": 21,
     "metadata": {},
     "output_type": "execute_result"
    }
   ],
   "source": [
    "#if there are any blank rows that didn't get assigned an HHcomp then 'Other' type HHcomp is added in place\n",
    "\n",
    "for i in range(len(df_test)):\n",
    "    if df_test['Household Composition'][i] == '0':\n",
    "        df_test['Household Composition'][i] = 'Household composition : Other household types\\ Other - Unit : Households'\n",
    "                \n",
    "df_test[df_test['Household Composition'] == '0']                "
   ]
  },
  {
   "cell_type": "markdown",
   "id": "ee359586",
   "metadata": {},
   "source": [
    "## Creating Individuals to Assign"
   ]
  },
  {
   "cell_type": "markdown",
   "id": "f0b0045c",
   "metadata": {},
   "source": [
    "Steps for assigning individuals:\n",
    "\n",
    "1. Go one-by-one through the individual types\n",
    "    -Prob = Total available individuals of a specific type * (type of HHcomp slot / total of possible HHcomp slots for that indvidual type).\n",
    "\n",
    "2. Check size of HH to make sure it isn't full\n",
    "\n",
    "3. If HH already has 1 (or more) person(s) and there is room left, check if new person to assign is **age and sex** compatible with existing person(s) in HH."
   ]
  },
  {
   "cell_type": "markdown",
   "id": "891f97cd",
   "metadata": {},
   "source": [
    "Individual ages/sexes and corresponding HHcomps\n",
    "\n",
    "Ages 0-4: Pre-school aged dependents:\n",
    "    -Married couple One dependent child, Married couple Two or more dependent children\n",
    "    -Same-sex couple One dependent child, Same-sex couple Two or more dependent children\n",
    "    -Cohabitating couple One dependent child, Cohabitating couple Two or more dependent children\n",
    "    -Lone parent One dependent child, Lone parent Two or more dependent children\n",
    "    -Other household types With one dependent child, Other household types With two or more dependent children\n",
    "Ages 5-11: Primary school aged dependents:\n",
    "    -Married couple One dependent child, Married couple Two or more dependent children\n",
    "    -Same-sex couple One dependent child, Same-sex couple Two or more dependent children\n",
    "    -Cohabitating couple One dependent child, Cohabitating couple Two or more dependent children\n",
    "    -Lone parent One dependent child, Lone parent Two or more dependent children\n",
    "    -Other household types With one dependent child, Other household types With two or more dependent children\n",
    "    \n",
    "Ages 12-18: Secondary school / College aged dependents:\n",
    "    -Married couple One dependent child, Married couple Two or more dependent children\n",
    "    -Same-sex couple One dependent child, Same-sex couple Two or more dependent children\n",
    "    -Cohabitating couple One dependent child, Cohabitating couple Two or more dependent children\n",
    "    -Lone parent One dependent child, Lone parent Two or more dependent children\n",
    "    -Other household types With one dependent child, Other household types With two or more dependent children\n",
    "    \n",
    "Ages 19-23: University aged dependents:\n",
    "    -Married couple One dependent child, Married couple Two or more dependent children, Married couple non-dependent children\n",
    "    -Same-sex couple One dependent child, Same-sex couple Two or more dependent children, Same-sex couple non-dependent children\n",
    "    -Cohabitating couple One dependent child, Cohabitating couple Two or more dependent children, Cohabitating couple non-dependent children\n",
    "    -Lone parent One dependent child, Lone parent Two or more dependent children, Lone parent non-dependent children\n",
    "    -Other household types With one dependent child, Other household types With two or more dependent children\n",
    "    -One person household Aged 0 to 64\n",
    "    -Other household types All full-time students\n",
    "    -Other household types\\ Other\n",
    "    \n",
    "Ages 24-30: Working age with none or young age dependents:\n",
    "        -Married couple One dependent child, Married couple Two or more dependent children, Married couple non-dependent children\n",
    "    -Same-sex couple One dependent child, Same-sex couple Two or more dependent children, Same-sex couple non-dependent children\n",
    "    -Cohabitating couple One dependent child, Cohabitating couple Two or more dependent children, Cohabitating couple non-dependent children\n",
    "    -Lone parent One dependent child, Lone parent Two or more dependent children, Lone parent non-dependent children\n",
    "    -Other household types With one dependent child, Other household types With two or more dependent children\n",
    "    -One person household Aged 0 to 64\n",
    "    -Other household types\\ Other\n",
    "    \n",
    "Ages 31-55:  Working age with young, some older dependents, and few non-dependents:\n",
    "        -Married couple One dependent child, Married couple Two or more dependent children, Married couple non-dependent children\n",
    "    -Same-sex couple One dependent child, Same-sex couple Two or more dependent children, Same-sex couple non-dependent children\n",
    "    -Cohabitating couple One dependent child, Cohabitating couple Two or more dependent children, Cohabitating couple non-dependent children\n",
    "    -Lone parent One dependent child, Lone parent Two or more dependent children, Lone parent non-dependent children\n",
    "    -Other household types With one dependent child, Other household types With two or more dependent children\n",
    "    -One person household Aged 0 to 64\n",
    "    -Other household types\\ Other\n",
    "    \n",
    "Ages 56-65: Working age with older dependents and more non-dependents:\n",
    "        -Married couple One dependent child, Married couple Two or more dependent children, Married couple non-dependent children\n",
    "    -Same-sex couple One dependent child, Same-sex couple Two or more dependent children, Same-sex couple non-dependent children\n",
    "    -Cohabitating couple One dependent child, Cohabitating couple Two or more dependent children, Cohabitating couple non-dependent children\n",
    "    -Lone parent One dependent child, Lone parent Two or more dependent children, Lone parent non-dependent children\n",
    "    -Other household types With one dependent child, Other household types With two or more dependent children\n",
    "    -One person household Aged 0 to 64\n",
    "    -Other household types\\ Other\n",
    "    \n",
    "Ages 65+: Retirement age with no dependents:\n",
    "    -Married/same-sex/cohabitating no dependents\n",
    "    -One person household Aged 65 and over\n",
    "    -One family only All aged 65 and over\n",
    "    -Other household types All aged 65 and over\n",
    "    -Other household types\\ Other"
   ]
  },
  {
   "cell_type": "code",
   "execution_count": 22,
   "id": "f1b00606",
   "metadata": {},
   "outputs": [
    {
     "name": "stdout",
     "output_type": "stream",
     "text": [
      "['Age : Age under 1 - Sex : Males - Unit : Persons', 'Age : Age under 1 - Sex : Males - Unit : Persons', 'Age : Age under 1 - Sex : Males - Unit : Persons', 'Age : Age under 1 - Sex : Males - Unit : Persons', 'Age : Age under 1 - Sex : Males - Unit : Persons', 'Age : Age under 1 - Sex : Males - Unit : Persons', 'Age : Age under 1 - Sex : Males - Unit : Persons', 'Age : Age under 1 - Sex : Males - Unit : Persons', 'Age : Age under 1 - Sex : Males - Unit : Persons', 'Age : Age under 1 - Sex : Males - Unit : Persons']\n"
     ]
    },
    {
     "data": {
      "text/html": [
       "<div>\n",
       "<style scoped>\n",
       "    .dataframe tbody tr th:only-of-type {\n",
       "        vertical-align: middle;\n",
       "    }\n",
       "\n",
       "    .dataframe tbody tr th {\n",
       "        vertical-align: top;\n",
       "    }\n",
       "\n",
       "    .dataframe thead th {\n",
       "        text-align: right;\n",
       "    }\n",
       "</style>\n",
       "<table border=\"1\" class=\"dataframe\">\n",
       "  <thead>\n",
       "    <tr style=\"text-align: right;\">\n",
       "      <th></th>\n",
       "      <th>Household ID</th>\n",
       "      <th>Household Size</th>\n",
       "      <th>Household Composition</th>\n",
       "      <th>Individual 1</th>\n",
       "      <th>Individual 2</th>\n",
       "      <th>Individual 3</th>\n",
       "      <th>Individual 4</th>\n",
       "      <th>Individual 5</th>\n",
       "      <th>Individual 6</th>\n",
       "      <th>Individual 7</th>\n",
       "      <th>Individual 8</th>\n",
       "    </tr>\n",
       "  </thead>\n",
       "  <tbody>\n",
       "    <tr>\n",
       "      <th>0</th>\n",
       "      <td>HH0</td>\n",
       "      <td>Household size : 1 person in household - Unit ...</td>\n",
       "      <td>Household composition : One person household\\ ...</td>\n",
       "      <td>0</td>\n",
       "      <td>0</td>\n",
       "      <td>0</td>\n",
       "      <td>0</td>\n",
       "      <td>0</td>\n",
       "      <td>0</td>\n",
       "      <td>0</td>\n",
       "      <td>0</td>\n",
       "    </tr>\n",
       "    <tr>\n",
       "      <th>1</th>\n",
       "      <td>HH1</td>\n",
       "      <td>Household size : 1 person in household - Unit ...</td>\n",
       "      <td>Household composition : One person household\\ ...</td>\n",
       "      <td>0</td>\n",
       "      <td>0</td>\n",
       "      <td>0</td>\n",
       "      <td>0</td>\n",
       "      <td>0</td>\n",
       "      <td>0</td>\n",
       "      <td>0</td>\n",
       "      <td>0</td>\n",
       "    </tr>\n",
       "    <tr>\n",
       "      <th>2</th>\n",
       "      <td>HH2</td>\n",
       "      <td>Household size : 1 person in household - Unit ...</td>\n",
       "      <td>Household composition : One person household\\ ...</td>\n",
       "      <td>0</td>\n",
       "      <td>0</td>\n",
       "      <td>0</td>\n",
       "      <td>0</td>\n",
       "      <td>0</td>\n",
       "      <td>0</td>\n",
       "      <td>0</td>\n",
       "      <td>0</td>\n",
       "    </tr>\n",
       "    <tr>\n",
       "      <th>3</th>\n",
       "      <td>HH3</td>\n",
       "      <td>Household size : 2 people in household - Unit ...</td>\n",
       "      <td>Household composition : One family only\\ Marri...</td>\n",
       "      <td>0</td>\n",
       "      <td>0</td>\n",
       "      <td>0</td>\n",
       "      <td>0</td>\n",
       "      <td>0</td>\n",
       "      <td>0</td>\n",
       "      <td>0</td>\n",
       "      <td>0</td>\n",
       "    </tr>\n",
       "    <tr>\n",
       "      <th>4</th>\n",
       "      <td>HH4</td>\n",
       "      <td>Household size : 1 person in household - Unit ...</td>\n",
       "      <td>Household composition : One person household\\ ...</td>\n",
       "      <td>0</td>\n",
       "      <td>0</td>\n",
       "      <td>0</td>\n",
       "      <td>0</td>\n",
       "      <td>0</td>\n",
       "      <td>0</td>\n",
       "      <td>0</td>\n",
       "      <td>0</td>\n",
       "    </tr>\n",
       "    <tr>\n",
       "      <th>...</th>\n",
       "      <td>...</td>\n",
       "      <td>...</td>\n",
       "      <td>...</td>\n",
       "      <td>...</td>\n",
       "      <td>...</td>\n",
       "      <td>...</td>\n",
       "      <td>...</td>\n",
       "      <td>...</td>\n",
       "      <td>...</td>\n",
       "      <td>...</td>\n",
       "      <td>...</td>\n",
       "    </tr>\n",
       "    <tr>\n",
       "      <th>4380</th>\n",
       "      <td>HH4380</td>\n",
       "      <td>Household size : 2 people in household - Unit ...</td>\n",
       "      <td>Household composition : Other household types\\...</td>\n",
       "      <td>0</td>\n",
       "      <td>0</td>\n",
       "      <td>0</td>\n",
       "      <td>0</td>\n",
       "      <td>0</td>\n",
       "      <td>0</td>\n",
       "      <td>0</td>\n",
       "      <td>0</td>\n",
       "    </tr>\n",
       "    <tr>\n",
       "      <th>4381</th>\n",
       "      <td>HH4381</td>\n",
       "      <td>Household size : 1 person in household - Unit ...</td>\n",
       "      <td>Household composition : One person household\\ ...</td>\n",
       "      <td>0</td>\n",
       "      <td>0</td>\n",
       "      <td>0</td>\n",
       "      <td>0</td>\n",
       "      <td>0</td>\n",
       "      <td>0</td>\n",
       "      <td>0</td>\n",
       "      <td>0</td>\n",
       "    </tr>\n",
       "    <tr>\n",
       "      <th>4382</th>\n",
       "      <td>HH4382</td>\n",
       "      <td>Household size : 1 person in household - Unit ...</td>\n",
       "      <td>Household composition : One person household\\ ...</td>\n",
       "      <td>0</td>\n",
       "      <td>0</td>\n",
       "      <td>0</td>\n",
       "      <td>0</td>\n",
       "      <td>0</td>\n",
       "      <td>0</td>\n",
       "      <td>0</td>\n",
       "      <td>0</td>\n",
       "    </tr>\n",
       "    <tr>\n",
       "      <th>4383</th>\n",
       "      <td>HH4383</td>\n",
       "      <td>Household size : 1 person in household - Unit ...</td>\n",
       "      <td>Household composition : One person household\\ ...</td>\n",
       "      <td>0</td>\n",
       "      <td>0</td>\n",
       "      <td>0</td>\n",
       "      <td>0</td>\n",
       "      <td>0</td>\n",
       "      <td>0</td>\n",
       "      <td>0</td>\n",
       "      <td>0</td>\n",
       "    </tr>\n",
       "    <tr>\n",
       "      <th>4384</th>\n",
       "      <td>HH4384</td>\n",
       "      <td>Household size : 1 person in household - Unit ...</td>\n",
       "      <td>Household composition : One person household\\ ...</td>\n",
       "      <td>0</td>\n",
       "      <td>0</td>\n",
       "      <td>0</td>\n",
       "      <td>0</td>\n",
       "      <td>0</td>\n",
       "      <td>0</td>\n",
       "      <td>0</td>\n",
       "      <td>0</td>\n",
       "    </tr>\n",
       "  </tbody>\n",
       "</table>\n",
       "<p>4385 rows × 11 columns</p>\n",
       "</div>"
      ],
      "text/plain": [
       "     Household ID                                     Household Size  \\\n",
       "0             HH0  Household size : 1 person in household - Unit ...   \n",
       "1             HH1  Household size : 1 person in household - Unit ...   \n",
       "2             HH2  Household size : 1 person in household - Unit ...   \n",
       "3             HH3  Household size : 2 people in household - Unit ...   \n",
       "4             HH4  Household size : 1 person in household - Unit ...   \n",
       "...           ...                                                ...   \n",
       "4380       HH4380  Household size : 2 people in household - Unit ...   \n",
       "4381       HH4381  Household size : 1 person in household - Unit ...   \n",
       "4382       HH4382  Household size : 1 person in household - Unit ...   \n",
       "4383       HH4383  Household size : 1 person in household - Unit ...   \n",
       "4384       HH4384  Household size : 1 person in household - Unit ...   \n",
       "\n",
       "                                  Household Composition Individual 1  \\\n",
       "0     Household composition : One person household\\ ...            0   \n",
       "1     Household composition : One person household\\ ...            0   \n",
       "2     Household composition : One person household\\ ...            0   \n",
       "3     Household composition : One family only\\ Marri...            0   \n",
       "4     Household composition : One person household\\ ...            0   \n",
       "...                                                 ...          ...   \n",
       "4380  Household composition : Other household types\\...            0   \n",
       "4381  Household composition : One person household\\ ...            0   \n",
       "4382  Household composition : One person household\\ ...            0   \n",
       "4383  Household composition : One person household\\ ...            0   \n",
       "4384  Household composition : One person household\\ ...            0   \n",
       "\n",
       "     Individual 2 Individual 3 Individual 4 Individual 5 Individual 6  \\\n",
       "0               0            0            0            0            0   \n",
       "1               0            0            0            0            0   \n",
       "2               0            0            0            0            0   \n",
       "3               0            0            0            0            0   \n",
       "4               0            0            0            0            0   \n",
       "...           ...          ...          ...          ...          ...   \n",
       "4380            0            0            0            0            0   \n",
       "4381            0            0            0            0            0   \n",
       "4382            0            0            0            0            0   \n",
       "4383            0            0            0            0            0   \n",
       "4384            0            0            0            0            0   \n",
       "\n",
       "     Individual 7 Individual 8  \n",
       "0               0            0  \n",
       "1               0            0  \n",
       "2               0            0  \n",
       "3               0            0  \n",
       "4               0            0  \n",
       "...           ...          ...  \n",
       "4380            0            0  \n",
       "4381            0            0  \n",
       "4382            0            0  \n",
       "4383            0            0  \n",
       "4384            0            0  \n",
       "\n",
       "[4385 rows x 11 columns]"
      ]
     },
     "execution_count": 22,
     "metadata": {},
     "output_type": "execute_result"
    }
   ],
   "source": [
    "#Create column to put individuals (will append to the same string to fill up HH, so no need for extra columns?)\n",
    "indv_index = list(get_age_by_sex(MsoaData.age_by_sex).columns[5:])\n",
    "indv_vals = list(get_age_by_sex(MsoaData.age_by_sex).iloc[MSOA_row][5:])\n",
    "                            #above uses only inputted MSOA  ^^^\n",
    "indv_list = []\n",
    "for i,j in zip(indv_index,indv_vals):\n",
    "        x = [i]*int(j)\n",
    "        indv_list.append(x)\n",
    "\n",
    "indv_list = list(chain.from_iterable(indv_list))\n",
    "og_indv_list = indv_list\n",
    "print(indv_list[:10])\n",
    "\n",
    "#adding 8 columns corresponding to max HH size\n",
    "df_test['Individual 1'] = ['0']*len(HH_comp_list)\n",
    "df_test['Individual 2'] = ['0']*len(HH_comp_list)\n",
    "df_test['Individual 3'] = ['0']*len(HH_comp_list)\n",
    "df_test['Individual 4'] = ['0']*len(HH_comp_list)\n",
    "df_test['Individual 5'] = ['0']*len(HH_comp_list)\n",
    "df_test['Individual 6'] = ['0']*len(HH_comp_list)\n",
    "df_test['Individual 7'] = ['0']*len(HH_comp_list)\n",
    "df_test['Individual 8'] = ['0']*len(HH_comp_list)\n",
    "\n",
    "df_test"
   ]
  },
  {
   "cell_type": "code",
   "execution_count": 23,
   "id": "7f3167b7",
   "metadata": {},
   "outputs": [],
   "source": [
    "def get_age_range(ages):\n",
    "    '''Extracts the ages of individuals out of the list of all individuals. \n",
    "    Note that this function only applies when sex is not taken into consideration.'''\n",
    "    age_range = []\n",
    "    for x in ages:\n",
    "        if x == 85: #used to assign '85 and over' to df\n",
    "            age_range.append(['Age : Age 85 and over - Sex : Males - Unit : Persons']*int(indv_list.count('Age : Age 85 and over - Sex : Males - Unit : Persons')))\n",
    "            age_range.append(['Age : Age 85 and over - Sex : Females - Unit : Persons']*int(indv_list.count('Age : Age 85 and over - Sex : Females - Unit : Persons')))\n",
    "        elif x == 0: #used to assign 'Under 1' to df\n",
    "            age_range.append(['Age : Age under 1 - Sex : Males - Unit : Persons']*int(indv_list.count('Age : Age under 1 - Sex : Males - Unit : Persons')))\n",
    "            age_range.append(['Age : Age under 1 - Sex : Females - Unit : Persons']*int(indv_list.count('Age : Age under 1 - Sex : Females - Unit : Persons'))) \n",
    "        else: #every other age\n",
    "            age_range.append([f'Age : Age {x} - Sex : Males - Unit : Persons']*int(indv_list.count(f'Age : Age {x} - Sex : Males - Unit : Persons')))\n",
    "            age_range.append([f'Age : Age {x} - Sex : Females - Unit : Persons']*int(indv_list.count(f'Age : Age {x} - Sex : Females - Unit : Persons')))                  \n",
    "    age_range = list(chain.from_iterable(age_range))\n",
    "    return age_range"
   ]
  },
  {
   "cell_type": "code",
   "execution_count": 24,
   "id": "4902ff75",
   "metadata": {},
   "outputs": [
    {
     "data": {
      "text/html": [
       "<div>\n",
       "<style scoped>\n",
       "    .dataframe tbody tr th:only-of-type {\n",
       "        vertical-align: middle;\n",
       "    }\n",
       "\n",
       "    .dataframe tbody tr th {\n",
       "        vertical-align: top;\n",
       "    }\n",
       "\n",
       "    .dataframe thead th {\n",
       "        text-align: right;\n",
       "    }\n",
       "</style>\n",
       "<table border=\"1\" class=\"dataframe\">\n",
       "  <thead>\n",
       "    <tr style=\"text-align: right;\">\n",
       "      <th></th>\n",
       "      <th>Household ID</th>\n",
       "      <th>Household Size</th>\n",
       "      <th>Household Composition</th>\n",
       "      <th>Individual 1</th>\n",
       "      <th>Individual 2</th>\n",
       "      <th>Individual 3</th>\n",
       "      <th>Individual 4</th>\n",
       "      <th>Individual 5</th>\n",
       "      <th>Individual 6</th>\n",
       "      <th>Individual 7</th>\n",
       "      <th>Individual 8</th>\n",
       "    </tr>\n",
       "  </thead>\n",
       "  <tbody>\n",
       "    <tr>\n",
       "      <th>0</th>\n",
       "      <td>HH0</td>\n",
       "      <td>Household size : 1 person in household - Unit ...</td>\n",
       "      <td>Household composition : One person household\\ ...</td>\n",
       "      <td>Age : Age 68 - Sex : Males - Unit : Persons</td>\n",
       "      <td>0</td>\n",
       "      <td>0</td>\n",
       "      <td>0</td>\n",
       "      <td>0</td>\n",
       "      <td>0</td>\n",
       "      <td>0</td>\n",
       "      <td>0</td>\n",
       "    </tr>\n",
       "    <tr>\n",
       "      <th>1</th>\n",
       "      <td>HH1</td>\n",
       "      <td>Household size : 1 person in household - Unit ...</td>\n",
       "      <td>Household composition : One person household\\ ...</td>\n",
       "      <td>Age : Age 70 - Sex : Females - Unit : Persons</td>\n",
       "      <td>0</td>\n",
       "      <td>0</td>\n",
       "      <td>0</td>\n",
       "      <td>0</td>\n",
       "      <td>0</td>\n",
       "      <td>0</td>\n",
       "      <td>0</td>\n",
       "    </tr>\n",
       "    <tr>\n",
       "      <th>2</th>\n",
       "      <td>HH2</td>\n",
       "      <td>Household size : 1 person in household - Unit ...</td>\n",
       "      <td>Household composition : One person household\\ ...</td>\n",
       "      <td>Age : Age 83 - Sex : Females - Unit : Persons</td>\n",
       "      <td>0</td>\n",
       "      <td>0</td>\n",
       "      <td>0</td>\n",
       "      <td>0</td>\n",
       "      <td>0</td>\n",
       "      <td>0</td>\n",
       "      <td>0</td>\n",
       "    </tr>\n",
       "    <tr>\n",
       "      <th>3</th>\n",
       "      <td>HH3</td>\n",
       "      <td>Household size : 2 people in household - Unit ...</td>\n",
       "      <td>Household composition : One family only\\ Marri...</td>\n",
       "      <td>0</td>\n",
       "      <td>0</td>\n",
       "      <td>0</td>\n",
       "      <td>0</td>\n",
       "      <td>0</td>\n",
       "      <td>0</td>\n",
       "      <td>0</td>\n",
       "      <td>0</td>\n",
       "    </tr>\n",
       "    <tr>\n",
       "      <th>4</th>\n",
       "      <td>HH4</td>\n",
       "      <td>Household size : 1 person in household - Unit ...</td>\n",
       "      <td>Household composition : One person household\\ ...</td>\n",
       "      <td>Age : Age 85 and over - Sex : Males - Unit : P...</td>\n",
       "      <td>0</td>\n",
       "      <td>0</td>\n",
       "      <td>0</td>\n",
       "      <td>0</td>\n",
       "      <td>0</td>\n",
       "      <td>0</td>\n",
       "      <td>0</td>\n",
       "    </tr>\n",
       "    <tr>\n",
       "      <th>...</th>\n",
       "      <td>...</td>\n",
       "      <td>...</td>\n",
       "      <td>...</td>\n",
       "      <td>...</td>\n",
       "      <td>...</td>\n",
       "      <td>...</td>\n",
       "      <td>...</td>\n",
       "      <td>...</td>\n",
       "      <td>...</td>\n",
       "      <td>...</td>\n",
       "      <td>...</td>\n",
       "    </tr>\n",
       "    <tr>\n",
       "      <th>4380</th>\n",
       "      <td>HH4380</td>\n",
       "      <td>Household size : 2 people in household - Unit ...</td>\n",
       "      <td>Household composition : Other household types\\...</td>\n",
       "      <td>0</td>\n",
       "      <td>0</td>\n",
       "      <td>0</td>\n",
       "      <td>0</td>\n",
       "      <td>0</td>\n",
       "      <td>0</td>\n",
       "      <td>0</td>\n",
       "      <td>0</td>\n",
       "    </tr>\n",
       "    <tr>\n",
       "      <th>4381</th>\n",
       "      <td>HH4381</td>\n",
       "      <td>Household size : 1 person in household - Unit ...</td>\n",
       "      <td>Household composition : One person household\\ ...</td>\n",
       "      <td>Age : Age 35 - Sex : Females - Unit : Persons</td>\n",
       "      <td>0</td>\n",
       "      <td>0</td>\n",
       "      <td>0</td>\n",
       "      <td>0</td>\n",
       "      <td>0</td>\n",
       "      <td>0</td>\n",
       "      <td>0</td>\n",
       "    </tr>\n",
       "    <tr>\n",
       "      <th>4382</th>\n",
       "      <td>HH4382</td>\n",
       "      <td>Household size : 1 person in household - Unit ...</td>\n",
       "      <td>Household composition : One person household\\ ...</td>\n",
       "      <td>Age : Age 42 - Sex : Males - Unit : Persons</td>\n",
       "      <td>0</td>\n",
       "      <td>0</td>\n",
       "      <td>0</td>\n",
       "      <td>0</td>\n",
       "      <td>0</td>\n",
       "      <td>0</td>\n",
       "      <td>0</td>\n",
       "    </tr>\n",
       "    <tr>\n",
       "      <th>4383</th>\n",
       "      <td>HH4383</td>\n",
       "      <td>Household size : 1 person in household - Unit ...</td>\n",
       "      <td>Household composition : One person household\\ ...</td>\n",
       "      <td>Age : Age 29 - Sex : Females - Unit : Persons</td>\n",
       "      <td>0</td>\n",
       "      <td>0</td>\n",
       "      <td>0</td>\n",
       "      <td>0</td>\n",
       "      <td>0</td>\n",
       "      <td>0</td>\n",
       "      <td>0</td>\n",
       "    </tr>\n",
       "    <tr>\n",
       "      <th>4384</th>\n",
       "      <td>HH4384</td>\n",
       "      <td>Household size : 1 person in household - Unit ...</td>\n",
       "      <td>Household composition : One person household\\ ...</td>\n",
       "      <td>Age : Age 40 - Sex : Males - Unit : Persons</td>\n",
       "      <td>0</td>\n",
       "      <td>0</td>\n",
       "      <td>0</td>\n",
       "      <td>0</td>\n",
       "      <td>0</td>\n",
       "      <td>0</td>\n",
       "      <td>0</td>\n",
       "    </tr>\n",
       "  </tbody>\n",
       "</table>\n",
       "<p>4385 rows × 11 columns</p>\n",
       "</div>"
      ],
      "text/plain": [
       "     Household ID                                     Household Size  \\\n",
       "0             HH0  Household size : 1 person in household - Unit ...   \n",
       "1             HH1  Household size : 1 person in household - Unit ...   \n",
       "2             HH2  Household size : 1 person in household - Unit ...   \n",
       "3             HH3  Household size : 2 people in household - Unit ...   \n",
       "4             HH4  Household size : 1 person in household - Unit ...   \n",
       "...           ...                                                ...   \n",
       "4380       HH4380  Household size : 2 people in household - Unit ...   \n",
       "4381       HH4381  Household size : 1 person in household - Unit ...   \n",
       "4382       HH4382  Household size : 1 person in household - Unit ...   \n",
       "4383       HH4383  Household size : 1 person in household - Unit ...   \n",
       "4384       HH4384  Household size : 1 person in household - Unit ...   \n",
       "\n",
       "                                  Household Composition  \\\n",
       "0     Household composition : One person household\\ ...   \n",
       "1     Household composition : One person household\\ ...   \n",
       "2     Household composition : One person household\\ ...   \n",
       "3     Household composition : One family only\\ Marri...   \n",
       "4     Household composition : One person household\\ ...   \n",
       "...                                                 ...   \n",
       "4380  Household composition : Other household types\\...   \n",
       "4381  Household composition : One person household\\ ...   \n",
       "4382  Household composition : One person household\\ ...   \n",
       "4383  Household composition : One person household\\ ...   \n",
       "4384  Household composition : One person household\\ ...   \n",
       "\n",
       "                                           Individual 1 Individual 2  \\\n",
       "0           Age : Age 68 - Sex : Males - Unit : Persons            0   \n",
       "1         Age : Age 70 - Sex : Females - Unit : Persons            0   \n",
       "2         Age : Age 83 - Sex : Females - Unit : Persons            0   \n",
       "3                                                     0            0   \n",
       "4     Age : Age 85 and over - Sex : Males - Unit : P...            0   \n",
       "...                                                 ...          ...   \n",
       "4380                                                  0            0   \n",
       "4381      Age : Age 35 - Sex : Females - Unit : Persons            0   \n",
       "4382        Age : Age 42 - Sex : Males - Unit : Persons            0   \n",
       "4383      Age : Age 29 - Sex : Females - Unit : Persons            0   \n",
       "4384        Age : Age 40 - Sex : Males - Unit : Persons            0   \n",
       "\n",
       "     Individual 3 Individual 4 Individual 5 Individual 6 Individual 7  \\\n",
       "0               0            0            0            0            0   \n",
       "1               0            0            0            0            0   \n",
       "2               0            0            0            0            0   \n",
       "3               0            0            0            0            0   \n",
       "4               0            0            0            0            0   \n",
       "...           ...          ...          ...          ...          ...   \n",
       "4380            0            0            0            0            0   \n",
       "4381            0            0            0            0            0   \n",
       "4382            0            0            0            0            0   \n",
       "4383            0            0            0            0            0   \n",
       "4384            0            0            0            0            0   \n",
       "\n",
       "     Individual 8  \n",
       "0               0  \n",
       "1               0  \n",
       "2               0  \n",
       "3               0  \n",
       "4               0  \n",
       "...           ...  \n",
       "4380            0  \n",
       "4381            0  \n",
       "4382            0  \n",
       "4383            0  \n",
       "4384            0  \n",
       "\n",
       "[4385 rows x 11 columns]"
      ]
     },
     "execution_count": 24,
     "metadata": {},
     "output_type": "execute_result"
    }
   ],
   "source": [
    "#assigning 1 person HH's\n",
    "def assign_single_indv(age_range,HHcomp):\n",
    "    '''Randomly assigns individuals to the empty single person Households in column 'Individual 1'.'''\n",
    "    ages = get_age_range(age_range) #possible ages that could be assigned to the HH\n",
    "    for i in range(len(df_test)):\n",
    "        rand_indv = random.choice(ages) #probability based off how many of each age/sex there are\n",
    "        if (df_test['Household Composition'][i] == HHcomp) and (df_test['Individual 1'][i] == '0'): #finds rows with inputted HHcomp\n",
    "            df_test['Individual 1'][i] = rand_indv #assigns chosen individual to the HH\n",
    "            ages.remove(rand_indv)\n",
    "            indv_list.remove(rand_indv)\n",
    "    return df_test\n",
    "\n",
    "assign_single_indv(list(range(65,86)),'Household composition : One person household\\ Aged 65 and over - Unit : Households')\n",
    "assign_single_indv(list(range(18,65)),'Household composition : One person household\\ Aged 0 to 64 - Unit : Households')\n",
    "\n"
   ]
  },
  {
   "cell_type": "code",
   "execution_count": 25,
   "id": "11886508",
   "metadata": {},
   "outputs": [
    {
     "name": "stdout",
     "output_type": "stream",
     "text": [
      "4903\n"
     ]
    }
   ],
   "source": [
    "#still filling in column Indv 1, check to make sure cell is empty (Completed in assign function above)\n",
    "#if its x kind of HHcomp, this age range could potentially exist in the slot.\n",
    "\n",
    "#check both HHsize and HHcomp for function when assigning by row?\n",
    "#1,2,3 HHsize should be easy and not arbitary unlike 4+, just like before\n",
    "#but need to incorporate check into both age and sex compatiability \n",
    "print(len(indv_list))"
   ]
  },
  {
   "cell_type": "code",
   "execution_count": 26,
   "id": "2b72c860",
   "metadata": {},
   "outputs": [
    {
     "data": {
      "text/html": [
       "<div>\n",
       "<style scoped>\n",
       "    .dataframe tbody tr th:only-of-type {\n",
       "        vertical-align: middle;\n",
       "    }\n",
       "\n",
       "    .dataframe tbody tr th {\n",
       "        vertical-align: top;\n",
       "    }\n",
       "\n",
       "    .dataframe thead th {\n",
       "        text-align: right;\n",
       "    }\n",
       "</style>\n",
       "<table border=\"1\" class=\"dataframe\">\n",
       "  <thead>\n",
       "    <tr style=\"text-align: right;\">\n",
       "      <th></th>\n",
       "      <th>Household ID</th>\n",
       "      <th>Household Size</th>\n",
       "      <th>Household Composition</th>\n",
       "      <th>Individual 1</th>\n",
       "      <th>Individual 2</th>\n",
       "      <th>Individual 3</th>\n",
       "      <th>Individual 4</th>\n",
       "      <th>Individual 5</th>\n",
       "      <th>Individual 6</th>\n",
       "      <th>Individual 7</th>\n",
       "      <th>Individual 8</th>\n",
       "    </tr>\n",
       "  </thead>\n",
       "  <tbody>\n",
       "    <tr>\n",
       "      <th>0</th>\n",
       "      <td>HH0</td>\n",
       "      <td>Household size : 1 person in household - Unit ...</td>\n",
       "      <td>Household composition : One person household\\ ...</td>\n",
       "      <td>Age : Age 68 - Sex : Males - Unit : Persons</td>\n",
       "      <td>0</td>\n",
       "      <td>0</td>\n",
       "      <td>0</td>\n",
       "      <td>0</td>\n",
       "      <td>0</td>\n",
       "      <td>0</td>\n",
       "      <td>0</td>\n",
       "    </tr>\n",
       "    <tr>\n",
       "      <th>1</th>\n",
       "      <td>HH1</td>\n",
       "      <td>Household size : 1 person in household - Unit ...</td>\n",
       "      <td>Household composition : One person household\\ ...</td>\n",
       "      <td>Age : Age 70 - Sex : Females - Unit : Persons</td>\n",
       "      <td>0</td>\n",
       "      <td>0</td>\n",
       "      <td>0</td>\n",
       "      <td>0</td>\n",
       "      <td>0</td>\n",
       "      <td>0</td>\n",
       "      <td>0</td>\n",
       "    </tr>\n",
       "    <tr>\n",
       "      <th>2</th>\n",
       "      <td>HH2</td>\n",
       "      <td>Household size : 1 person in household - Unit ...</td>\n",
       "      <td>Household composition : One person household\\ ...</td>\n",
       "      <td>Age : Age 83 - Sex : Females - Unit : Persons</td>\n",
       "      <td>0</td>\n",
       "      <td>0</td>\n",
       "      <td>0</td>\n",
       "      <td>0</td>\n",
       "      <td>0</td>\n",
       "      <td>0</td>\n",
       "      <td>0</td>\n",
       "    </tr>\n",
       "    <tr>\n",
       "      <th>3</th>\n",
       "      <td>HH3</td>\n",
       "      <td>Household size : 2 people in household - Unit ...</td>\n",
       "      <td>Household composition : One family only\\ Marri...</td>\n",
       "      <td>Age : Age 54 - Sex : Males - Unit : Persons</td>\n",
       "      <td>0</td>\n",
       "      <td>0</td>\n",
       "      <td>0</td>\n",
       "      <td>0</td>\n",
       "      <td>0</td>\n",
       "      <td>0</td>\n",
       "      <td>0</td>\n",
       "    </tr>\n",
       "    <tr>\n",
       "      <th>4</th>\n",
       "      <td>HH4</td>\n",
       "      <td>Household size : 1 person in household - Unit ...</td>\n",
       "      <td>Household composition : One person household\\ ...</td>\n",
       "      <td>Age : Age 85 and over - Sex : Males - Unit : P...</td>\n",
       "      <td>0</td>\n",
       "      <td>0</td>\n",
       "      <td>0</td>\n",
       "      <td>0</td>\n",
       "      <td>0</td>\n",
       "      <td>0</td>\n",
       "      <td>0</td>\n",
       "    </tr>\n",
       "    <tr>\n",
       "      <th>...</th>\n",
       "      <td>...</td>\n",
       "      <td>...</td>\n",
       "      <td>...</td>\n",
       "      <td>...</td>\n",
       "      <td>...</td>\n",
       "      <td>...</td>\n",
       "      <td>...</td>\n",
       "      <td>...</td>\n",
       "      <td>...</td>\n",
       "      <td>...</td>\n",
       "      <td>...</td>\n",
       "    </tr>\n",
       "    <tr>\n",
       "      <th>4380</th>\n",
       "      <td>HH4380</td>\n",
       "      <td>Household size : 2 people in household - Unit ...</td>\n",
       "      <td>Household composition : Other household types\\...</td>\n",
       "      <td>Age : Age 24 - Sex : Males - Unit : Persons</td>\n",
       "      <td>0</td>\n",
       "      <td>0</td>\n",
       "      <td>0</td>\n",
       "      <td>0</td>\n",
       "      <td>0</td>\n",
       "      <td>0</td>\n",
       "      <td>0</td>\n",
       "    </tr>\n",
       "    <tr>\n",
       "      <th>4381</th>\n",
       "      <td>HH4381</td>\n",
       "      <td>Household size : 1 person in household - Unit ...</td>\n",
       "      <td>Household composition : One person household\\ ...</td>\n",
       "      <td>Age : Age 35 - Sex : Females - Unit : Persons</td>\n",
       "      <td>0</td>\n",
       "      <td>0</td>\n",
       "      <td>0</td>\n",
       "      <td>0</td>\n",
       "      <td>0</td>\n",
       "      <td>0</td>\n",
       "      <td>0</td>\n",
       "    </tr>\n",
       "    <tr>\n",
       "      <th>4382</th>\n",
       "      <td>HH4382</td>\n",
       "      <td>Household size : 1 person in household - Unit ...</td>\n",
       "      <td>Household composition : One person household\\ ...</td>\n",
       "      <td>Age : Age 42 - Sex : Males - Unit : Persons</td>\n",
       "      <td>0</td>\n",
       "      <td>0</td>\n",
       "      <td>0</td>\n",
       "      <td>0</td>\n",
       "      <td>0</td>\n",
       "      <td>0</td>\n",
       "      <td>0</td>\n",
       "    </tr>\n",
       "    <tr>\n",
       "      <th>4383</th>\n",
       "      <td>HH4383</td>\n",
       "      <td>Household size : 1 person in household - Unit ...</td>\n",
       "      <td>Household composition : One person household\\ ...</td>\n",
       "      <td>Age : Age 29 - Sex : Females - Unit : Persons</td>\n",
       "      <td>0</td>\n",
       "      <td>0</td>\n",
       "      <td>0</td>\n",
       "      <td>0</td>\n",
       "      <td>0</td>\n",
       "      <td>0</td>\n",
       "      <td>0</td>\n",
       "    </tr>\n",
       "    <tr>\n",
       "      <th>4384</th>\n",
       "      <td>HH4384</td>\n",
       "      <td>Household size : 1 person in household - Unit ...</td>\n",
       "      <td>Household composition : One person household\\ ...</td>\n",
       "      <td>Age : Age 40 - Sex : Males - Unit : Persons</td>\n",
       "      <td>0</td>\n",
       "      <td>0</td>\n",
       "      <td>0</td>\n",
       "      <td>0</td>\n",
       "      <td>0</td>\n",
       "      <td>0</td>\n",
       "      <td>0</td>\n",
       "    </tr>\n",
       "  </tbody>\n",
       "</table>\n",
       "<p>4385 rows × 11 columns</p>\n",
       "</div>"
      ],
      "text/plain": [
       "     Household ID                                     Household Size  \\\n",
       "0             HH0  Household size : 1 person in household - Unit ...   \n",
       "1             HH1  Household size : 1 person in household - Unit ...   \n",
       "2             HH2  Household size : 1 person in household - Unit ...   \n",
       "3             HH3  Household size : 2 people in household - Unit ...   \n",
       "4             HH4  Household size : 1 person in household - Unit ...   \n",
       "...           ...                                                ...   \n",
       "4380       HH4380  Household size : 2 people in household - Unit ...   \n",
       "4381       HH4381  Household size : 1 person in household - Unit ...   \n",
       "4382       HH4382  Household size : 1 person in household - Unit ...   \n",
       "4383       HH4383  Household size : 1 person in household - Unit ...   \n",
       "4384       HH4384  Household size : 1 person in household - Unit ...   \n",
       "\n",
       "                                  Household Composition  \\\n",
       "0     Household composition : One person household\\ ...   \n",
       "1     Household composition : One person household\\ ...   \n",
       "2     Household composition : One person household\\ ...   \n",
       "3     Household composition : One family only\\ Marri...   \n",
       "4     Household composition : One person household\\ ...   \n",
       "...                                                 ...   \n",
       "4380  Household composition : Other household types\\...   \n",
       "4381  Household composition : One person household\\ ...   \n",
       "4382  Household composition : One person household\\ ...   \n",
       "4383  Household composition : One person household\\ ...   \n",
       "4384  Household composition : One person household\\ ...   \n",
       "\n",
       "                                           Individual 1 Individual 2  \\\n",
       "0           Age : Age 68 - Sex : Males - Unit : Persons            0   \n",
       "1         Age : Age 70 - Sex : Females - Unit : Persons            0   \n",
       "2         Age : Age 83 - Sex : Females - Unit : Persons            0   \n",
       "3           Age : Age 54 - Sex : Males - Unit : Persons            0   \n",
       "4     Age : Age 85 and over - Sex : Males - Unit : P...            0   \n",
       "...                                                 ...          ...   \n",
       "4380        Age : Age 24 - Sex : Males - Unit : Persons            0   \n",
       "4381      Age : Age 35 - Sex : Females - Unit : Persons            0   \n",
       "4382        Age : Age 42 - Sex : Males - Unit : Persons            0   \n",
       "4383      Age : Age 29 - Sex : Females - Unit : Persons            0   \n",
       "4384        Age : Age 40 - Sex : Males - Unit : Persons            0   \n",
       "\n",
       "     Individual 3 Individual 4 Individual 5 Individual 6 Individual 7  \\\n",
       "0               0            0            0            0            0   \n",
       "1               0            0            0            0            0   \n",
       "2               0            0            0            0            0   \n",
       "3               0            0            0            0            0   \n",
       "4               0            0            0            0            0   \n",
       "...           ...          ...          ...          ...          ...   \n",
       "4380            0            0            0            0            0   \n",
       "4381            0            0            0            0            0   \n",
       "4382            0            0            0            0            0   \n",
       "4383            0            0            0            0            0   \n",
       "4384            0            0            0            0            0   \n",
       "\n",
       "     Individual 8  \n",
       "0               0  \n",
       "1               0  \n",
       "2               0  \n",
       "3               0  \n",
       "4               0  \n",
       "...           ...  \n",
       "4380            0  \n",
       "4381            0  \n",
       "4382            0  \n",
       "4383            0  \n",
       "4384            0  \n",
       "\n",
       "[4385 rows x 11 columns]"
      ]
     },
     "execution_count": 26,
     "metadata": {},
     "output_type": "execute_result"
    }
   ],
   "source": [
    "#note that for HHs with dependents, the first Individual slot will always contain a dependent of age 0-17\n",
    "#also note that HHs with non-dependent(s), the first Individual slot will always be a non-dependent\n",
    "#THE ASSIGNMENT OF THE RANGE OF AGES BELOW DEFINES THE PROBABILITY OF BEING ASSIGNED TO A HOUSEHOLD\n",
    "\n",
    "assign_single_indv(list(range(65,86)),'Household composition : One family only\\ All aged 65 and over - Unit : Households')\n",
    "\n",
    "assign_single_indv(list(range(23,65)),'Household composition : One family only\\ Married couple\\ No children - Unit : Households')\n",
    "assign_single_indv(list(range(0,18)),'Household composition : One family only\\ Married couple\\ One dependent child - Unit : Households')\n",
    "assign_single_indv(list(range(0,18)),'Household composition : One family only\\ Married couple\\ Two or more dependent children - Unit : Households')\n",
    "assign_single_indv(list(range(18,38)),'Household composition : One family only\\ Married couple\\ All children non-dependent - Unit : Households')\n",
    "\n",
    "assign_single_indv(list(range(23,65)),'Household composition : One family only\\ Same-sex civil partnership couple\\ No children - Unit : Households')\n",
    "assign_single_indv(list(range(0,18)),'Household composition : One family only\\ Same-sex civil partnership couple\\ One dependent child - Unit : Households')\n",
    "assign_single_indv(list(range(0,18)),'Household composition : One family only\\ Same-sex civil partnership couple\\ Two or more dependent children - Unit : Households')\n",
    "assign_single_indv(list(range(18,38)),'Household composition : One family only\\ Same-sex civil partnership couple\\ All children non-dependent - Unit : Households')\n",
    "\n",
    "assign_single_indv(list(range(23,65)),'Household composition : One family only\\ Cohabiting couple\\ No children - Unit : Households')\n",
    "assign_single_indv(list(range(0,18)),'Household composition : One family only\\ Cohabiting couple\\ One dependent child - Unit : Households')\n",
    "assign_single_indv(list(range(0,18)),'Household composition : One family only\\ Cohabiting couple\\ Two or more dependent children - Unit : Households')\n",
    "assign_single_indv(list(range(18,38)),'Household composition : One family only\\ Cohabiting couple\\ All children non-dependent - Unit : Households')\n",
    "\n",
    "assign_single_indv(list(range(0,18)),'Household composition : One family only\\ Lone parent\\ One dependent child - Unit : Households')\n",
    "assign_single_indv(list(range(0,18)),'Household composition : One family only\\ Lone parent\\ Two or more dependent children - Unit : Households')\n",
    "assign_single_indv(list(range(18,38)),'Household composition : One family only\\ Lone parent\\ All children non-dependent - Unit : Households')\n",
    "\n",
    "#other household types w/ dependents are not traditional, likely grandparent/older sibling with younger dependent\n",
    "assign_single_indv(list(range(0,18)),'Household composition : Other household types\\ With one dependent child - Unit : Households')\n",
    "assign_single_indv(list(range(0,18)),'Household composition : Other household types\\ With two or more dependent children - Unit : Households')\n",
    "\n",
    "assign_single_indv(list(range(18,30)),'Household composition : Other household types\\ All full-time students - Unit : Households')\n",
    "assign_single_indv(list(range(65,86)),'Household composition : Other household types\\ All aged 65 and over - Unit : Households')\n",
    "assign_single_indv(list(range(18,86)),'Household composition : Other household types\\ Other - Unit : Households')\n"
   ]
  },
  {
   "cell_type": "code",
   "execution_count": 27,
   "id": "7014c35b",
   "metadata": {},
   "outputs": [
    {
     "name": "stdout",
     "output_type": "stream",
     "text": [
      "2990\n"
     ]
    }
   ],
   "source": [
    "df_test['Individual 1'].value_counts().sort_index()\n",
    "print(len(indv_list))"
   ]
  },
  {
   "cell_type": "code",
   "execution_count": 28,
   "id": "e6aca7ec",
   "metadata": {},
   "outputs": [],
   "source": [
    "#get sex of existing person in HH\n",
    "def get_sex(HHsize,Comp_row):\n",
    "    '''Gets the sex of inputted individual from Household.'''\n",
    "    HHsize = str(HHsize)\n",
    "    if HHsize in \"Household size : 2 people in household - Unit : Household spaces\":\n",
    "        if 'Males' in Comp_row:\n",
    "            return 'Male'\n",
    "        if 'Females' in Comp_row:\n",
    "            return 'Female'"
   ]
  },
  {
   "cell_type": "code",
   "execution_count": 29,
   "id": "e17dfddc",
   "metadata": {},
   "outputs": [],
   "source": [
    "def assign_indv2(HHcomp):\n",
    "    '''Assigns individuals to the 2 person Households in column 'Individual 2'.'''\n",
    "    count = 0\n",
    "    for i in range(len(df_test)):\n",
    "        if (df_test['Household Composition'][i] == HHcomp) and (df_test['Individual 2'][i] == '0'):\n",
    "            if HHcomp == 'Household composition : One family only\\ All aged 65 and over - Unit : Households':\n",
    "                initial_age = int(df_test['Individual 1'][i][10:12]) #this is where the age is found in the string\n",
    "                initial_sex = get_sex(2,df_test['Individual 1'][i])\n",
    "                count += 1\n",
    "                if initial_age >= 81: #because ages end at '85 and over'\n",
    "                    ages = get_age_range(list(range(initial_age-5,85)))  #this is potential age distribution based off of Individual 1\n",
    "                else:\n",
    "                    ages = get_age_range(list(range(initial_age-5,initial_age+5)))   \n",
    "                if ages == []: #if this occurs I will need to increase potential age distribution above\n",
    "                    print('Error: No person to assign within desired age range.')\n",
    "                rand_indv = random.choice(ages)\n",
    "                if 'Males' not in ages:\n",
    "                    df_test['Individual 2'][i] = rand_indv #assigns chosen individual to the HH\n",
    "                    indv_list.remove(rand_indv)\n",
    "                elif 'Females' not in ages:\n",
    "                    df_test['Individual 2'][i] = rand_indv #assigns chosen individual to the HH\n",
    "                    indv_list.remove(rand_indv)\n",
    "                else: \n",
    "                    df_test['Individual 2'][i] = rand_indv #assigns chosen individual to the HH\n",
    "                    indv_list.remove(rand_indv)\n",
    "                    \n",
    "            \n",
    "            if (HHcomp == 'Household composition : One family only\\ Married couple\\ No children - Unit : Households') or (HHcomp == 'Household composition : One family only\\ Cohabiting couple\\ No children - Unit : Households'):\n",
    "                initial_age = int(df_test['Individual 1'][i][10:12]) #this is where the age is found in the string\n",
    "                initial_sex = get_sex(2,df_test['Individual 1'][i])\n",
    "                count += 1\n",
    "                age_range_used = list(range(initial_age-5,initial_age+5)) #assigns partner to existing adult in HH\n",
    "                ages = get_age_range(age_range_used) \n",
    "                if ages == []:\n",
    "                    age_range_used.insert(0,age_range_used[0]-1)\n",
    "                    age_range_used.append(age_range_used[-1]+1)\n",
    "                    print('Error: Added 1 year to each end of the desired age range.')\n",
    "                rand_indv = random.choice(ages)\n",
    "                while initial_sex == get_sex(2,rand_indv):\n",
    "                    rand_indv = random.choice(ages)\n",
    "                df_test['Individual 2'][i] = rand_indv #assigns chosen individual to the HH\n",
    "                indv_list.remove(rand_indv)\n",
    "        \n",
    "            \n",
    "            if HHcomp == 'Household composition : One family only\\ Same-sex civil partnership couple\\ No children - Unit : Households':\n",
    "                initial_age = int(df_test['Individual 1'][i][10:12]) #this is where the age is found in the string\n",
    "                initial_sex = get_sex(2,df_test['Individual 1'][i])\n",
    "                count += 1\n",
    "                age_range_used = list(range(initial_age-5,initial_age+5)) #assigns partner to exisitng adult in HH\n",
    "                ages = get_age_range(age_range_used) \n",
    "                if ages == []:\n",
    "                    age_range_used.insert(0,age_range_used[0]-1)\n",
    "                    age_range_used.append(age_range_used[-1]+1)\n",
    "                    print('Error: Added 1 year to each end of the desired age range.')\n",
    "                rand_indv = random.choice(ages)\n",
    "                while initial_sex != get_sex(2,rand_indv):\n",
    "                    rand_indv = random.choice(ages)\n",
    "                df_test['Individual 2'][i] = rand_indv #assigns chosen individual to the HH\n",
    "                indv_list.remove(rand_indv)\n",
    "            \n",
    "            \n",
    "            if (HHcomp == 'Household composition : One family only\\ Lone parent\\ One dependent child - Unit : Households') or (HHcomp == 'Household composition : One family only\\ Lone parent\\ Two or more dependent children - Unit : Households') or (HHcomp == 'Household composition : One family only\\ Married couple\\ One dependent child - Unit : Households') or (HHcomp == 'Household composition : One family only\\ Married couple\\ Two or more dependent children - Unit : Households') or (HHcomp == 'Household composition : One family only\\ Same-sex civil partnership couple\\ One dependent child - Unit : Households') or (HHcomp == 'Household composition : One family only\\ Same-sex civil partnership couple\\ Two or more dependent children - Unit : Households') or (HHcomp == 'Household composition : One family only\\ Cohabiting couple\\ One dependent child - Unit : Households') or (HHcomp == 'Household composition : One family only\\ Cohabiting couple\\ Two or more dependent children - Unit : Households') or (HHcomp == 'Household composition : One family only\\ Married couple\\ All children non-dependent - Unit : Households') or (HHcomp == 'Household composition : One family only\\ Same-sex civil partnership couple\\ All children non-dependent - Unit : Households') or (HHcomp == 'Household composition : One family only\\ Cohabiting couple\\ All children non-dependent - Unit : Households') or (HHcomp == 'Household composition : One family only\\ Lone parent\\ All children non-dependent - Unit : Households'):\n",
    "                if (df_test['Individual 1'][i] == 'Age : Age under 1 - Sex : Males - Unit : Persons') or (df_test['Individual 1'][i] == 'Age : Age under 1 - Sex : Females - Unit : Persons'):\n",
    "                    initial_age = 0\n",
    "                else:\n",
    "                    initial_age = int(df_test['Individual 1'][i][10:12].strip()) #this is where the age is found in the string\n",
    "                count += 1\n",
    "                age_range_used = list(range(initial_age+25,initial_age+35)) #assigns adult to exisitng child\n",
    "                ages = get_age_range(age_range_used)\n",
    "                if ages == []:\n",
    "                    age_range_used.insert(0,age_range_used[0]-1)\n",
    "                    age_range_used.append(age_range_used[-1]+1)\n",
    "                    print('Error: Added 1 year to each end of the desired age range.')\n",
    "                rand_indv = random.choice(ages)\n",
    "                df_test['Individual 2'][i] = rand_indv #assigns chosen individual to the HH\n",
    "                indv_list.remove(rand_indv)\n",
    "                \n",
    "            \n",
    "            if (HHcomp == 'Household composition : Other household types\\ With one dependent child - Unit : Households') or (HHcomp == 'Household composition : Other household types\\ With two or more dependent children - Unit : Households'):\n",
    "                if (df_test['Individual 1'][i] == 'Age : Age under 1 - Sex : Males - Unit : Persons') or (df_test['Individual 1'][i] == 'Age : Age under 1 - Sex : Females - Unit : Persons'):\n",
    "                    initial_age = 0\n",
    "                else:\n",
    "                    initial_age = int(df_test['Individual 1'][i][10:12].strip())                \n",
    "                count += 1\n",
    "                age_range_used = list(range(18,86)) #from older sibling ages through other family member ages to grandparent ages\n",
    "                ages = get_age_range(age_range_used)\n",
    "                if ages == []:\n",
    "                    age_range_used.insert(0,age_range_used[0]-1)\n",
    "                    age_range_used.append(age_range_used[-1]+1)\n",
    "                    print('Error: Added 1 year to each end of the desired age range.')\n",
    "                rand_indv = random.choice(ages)\n",
    "                df_test['Individual 2'][i] = rand_indv #assigns chosen individual to the HH\n",
    "                indv_list.remove(rand_indv) \n",
    "                \n",
    "                \n",
    "            if HHcomp == 'Household composition : Other household types\\ All full-time students - Unit : Households':\n",
    "                count += 1\n",
    "                age_range_used = list(range(18,30)) #any age of student can be with any other age of student\n",
    "                ages = get_age_range(age_range_used)\n",
    "                if ages == []:\n",
    "                    age_range_used.insert(0,age_range_used[0]-1)\n",
    "                    age_range_used.append(age_range_used[-1]+1)\n",
    "                    print('Error: Added 1 year to each end of the desired age range.')\n",
    "                rand_indv = random.choice(ages)\n",
    "                df_test['Individual 2'][i] = rand_indv #assigns chosen individual to the HH\n",
    "                indv_list.remove(rand_indv) \n",
    "            \n",
    "            \n",
    "            if HHcomp == 'Household composition : Other household types\\ All aged 65 and over - Unit : Households':\n",
    "                count += 1\n",
    "                age_range_used = list(range(65,86)) #any age over 65 can be with any other over 65\n",
    "                ages = get_age_range(age_range_used)\n",
    "                if ages == []:\n",
    "                    age_range_used.insert(0,age_range_used[0]-1)\n",
    "                    age_range_used.append(age_range_used[-1]+1)\n",
    "                    print('Error: Added 1 year to each end of the desired age range.')\n",
    "                rand_indv = random.choice(ages)\n",
    "                df_test['Individual 2'][i] = rand_indv #assigns chosen individual to the HH\n",
    "                indv_list.remove(rand_indv)             \n",
    "                \n",
    "                \n",
    "            if HHcomp == 'Household composition : Other household types\\ Other - Unit : Households':\n",
    "                count += 1\n",
    "                age_range_used = list(range(18,86)) #basically uses the left over ages\n",
    "                ages = get_age_range(age_range_used) #likely some sort of non-students flatmate situation\n",
    "                if ages == []:\n",
    "                    age_range_used.insert(0,age_range_used[0]-1)\n",
    "                    age_range_used.append(age_range_used[-1]+1)\n",
    "                    print('Error: Added 1 year to each end of the desired age range.')\n",
    "                rand_indv = random.choice(ages)\n",
    "                df_test['Individual 2'][i] = rand_indv #assigns chosen individual to the HH\n",
    "                indv_list.remove(rand_indv)                  \n",
    "        \n",
    "        \n",
    "    return len(indv_list),count"
   ]
  },
  {
   "cell_type": "code",
   "execution_count": 30,
   "id": "b46db061",
   "metadata": {},
   "outputs": [
    {
     "data": {
      "text/plain": [
       "(2853, 137)"
      ]
     },
     "execution_count": 30,
     "metadata": {},
     "output_type": "execute_result"
    }
   ],
   "source": [
    "assign_indv2('Household composition : One family only\\ All aged 65 and over - Unit : Households')"
   ]
  },
  {
   "cell_type": "code",
   "execution_count": 31,
   "id": "a9a9a6bf",
   "metadata": {},
   "outputs": [
    {
     "data": {
      "text/plain": [
       "(2387, 466)"
      ]
     },
     "execution_count": 31,
     "metadata": {},
     "output_type": "execute_result"
    }
   ],
   "source": [
    "assign_indv2('Household composition : One family only\\ Married couple\\ No children - Unit : Households')"
   ]
  },
  {
   "cell_type": "code",
   "execution_count": 32,
   "id": "d022d9e2",
   "metadata": {},
   "outputs": [
    {
     "data": {
      "text/plain": [
       "(2340, 47)"
      ]
     },
     "execution_count": 32,
     "metadata": {},
     "output_type": "execute_result"
    }
   ],
   "source": [
    "assign_indv2('Household composition : One family only\\ Same-sex civil partnership couple\\ No children - Unit : Households')"
   ]
  },
  {
   "cell_type": "code",
   "execution_count": 33,
   "id": "95ad3e0b",
   "metadata": {},
   "outputs": [
    {
     "data": {
      "text/plain": [
       "(1989, 351)"
      ]
     },
     "execution_count": 33,
     "metadata": {},
     "output_type": "execute_result"
    }
   ],
   "source": [
    "assign_indv2('Household composition : One family only\\ Cohabiting couple\\ No children - Unit : Households')"
   ]
  },
  {
   "cell_type": "code",
   "execution_count": 34,
   "id": "f3643db1",
   "metadata": {},
   "outputs": [
    {
     "data": {
      "text/plain": [
       "(1916, 73)"
      ]
     },
     "execution_count": 34,
     "metadata": {},
     "output_type": "execute_result"
    }
   ],
   "source": [
    "assign_indv2('Household composition : One family only\\ Lone parent\\ One dependent child - Unit : Households')"
   ]
  },
  {
   "cell_type": "code",
   "execution_count": 35,
   "id": "23e5216c",
   "metadata": {},
   "outputs": [
    {
     "data": {
      "text/plain": [
       "(1898, 18)"
      ]
     },
     "execution_count": 35,
     "metadata": {},
     "output_type": "execute_result"
    }
   ],
   "source": [
    "assign_indv2('Household composition : One family only\\ Lone parent\\ Two or more dependent children - Unit : Households')\n"
   ]
  },
  {
   "cell_type": "code",
   "execution_count": 36,
   "id": "0610916b",
   "metadata": {},
   "outputs": [
    {
     "data": {
      "text/plain": [
       "(1768, 130)"
      ]
     },
     "execution_count": 36,
     "metadata": {},
     "output_type": "execute_result"
    }
   ],
   "source": [
    "assign_indv2('Household composition : One family only\\ Married couple\\ One dependent child - Unit : Households')\n"
   ]
  },
  {
   "cell_type": "code",
   "execution_count": 37,
   "id": "537cd7ae",
   "metadata": {},
   "outputs": [
    {
     "data": {
      "text/plain": [
       "(1654, 114)"
      ]
     },
     "execution_count": 37,
     "metadata": {},
     "output_type": "execute_result"
    }
   ],
   "source": [
    "assign_indv2('Household composition : One family only\\ Married couple\\ Two or more dependent children - Unit : Households')\n"
   ]
  },
  {
   "cell_type": "code",
   "execution_count": 38,
   "id": "4960109b",
   "metadata": {},
   "outputs": [
    {
     "data": {
      "text/plain": [
       "(1654, 0)"
      ]
     },
     "execution_count": 38,
     "metadata": {},
     "output_type": "execute_result"
    }
   ],
   "source": [
    "assign_indv2('Household composition : One family only\\ Same-sex civil partnership couple\\ One dependent child - Unit : Households') \n"
   ]
  },
  {
   "cell_type": "code",
   "execution_count": 39,
   "id": "37280a7e",
   "metadata": {},
   "outputs": [
    {
     "data": {
      "text/plain": [
       "(1654, 0)"
      ]
     },
     "execution_count": 39,
     "metadata": {},
     "output_type": "execute_result"
    }
   ],
   "source": [
    "assign_indv2('Household composition : One family only\\ Same-sex civil partnership couple\\ Two or more dependent children - Unit : Households')\n"
   ]
  },
  {
   "cell_type": "code",
   "execution_count": 40,
   "id": "f9493fed",
   "metadata": {},
   "outputs": [
    {
     "data": {
      "text/plain": [
       "(1610, 44)"
      ]
     },
     "execution_count": 40,
     "metadata": {},
     "output_type": "execute_result"
    }
   ],
   "source": [
    "assign_indv2('Household composition : One family only\\ Cohabiting couple\\ One dependent child - Unit : Households')\n"
   ]
  },
  {
   "cell_type": "code",
   "execution_count": 41,
   "id": "7a72cf3b",
   "metadata": {},
   "outputs": [
    {
     "data": {
      "text/plain": [
       "(1592, 18)"
      ]
     },
     "execution_count": 41,
     "metadata": {},
     "output_type": "execute_result"
    }
   ],
   "source": [
    "assign_indv2('Household composition : One family only\\ Cohabiting couple\\ Two or more dependent children - Unit : Households')\n"
   ]
  },
  {
   "cell_type": "code",
   "execution_count": 42,
   "id": "98ca5bc2",
   "metadata": {},
   "outputs": [
    {
     "data": {
      "text/plain": [
       "(1533, 59)"
      ]
     },
     "execution_count": 42,
     "metadata": {},
     "output_type": "execute_result"
    }
   ],
   "source": [
    "assign_indv2('Household composition : One family only\\ Married couple\\ All children non-dependent - Unit : Households')\n"
   ]
  },
  {
   "cell_type": "code",
   "execution_count": 43,
   "id": "67a624da",
   "metadata": {},
   "outputs": [
    {
     "data": {
      "text/plain": [
       "(1533, 0)"
      ]
     },
     "execution_count": 43,
     "metadata": {},
     "output_type": "execute_result"
    }
   ],
   "source": [
    "assign_indv2('Household composition : One family only\\ Same-sex civil partnership couple\\ All children non-dependent - Unit : Households')\n"
   ]
  },
  {
   "cell_type": "code",
   "execution_count": 44,
   "id": "4d30cf4d",
   "metadata": {},
   "outputs": [
    {
     "data": {
      "text/plain": [
       "(1529, 4)"
      ]
     },
     "execution_count": 44,
     "metadata": {},
     "output_type": "execute_result"
    }
   ],
   "source": [
    "assign_indv2('Household composition : One family only\\ Cohabiting couple\\ All children non-dependent - Unit : Households')\n"
   ]
  },
  {
   "cell_type": "code",
   "execution_count": 45,
   "id": "06d90877",
   "metadata": {},
   "outputs": [
    {
     "data": {
      "text/plain": [
       "(1467, 62)"
      ]
     },
     "execution_count": 45,
     "metadata": {},
     "output_type": "execute_result"
    }
   ],
   "source": [
    "assign_indv2('Household composition : One family only\\ Lone parent\\ All children non-dependent - Unit : Households')\n"
   ]
  },
  {
   "cell_type": "code",
   "execution_count": 46,
   "id": "2f1ad39c",
   "metadata": {},
   "outputs": [
    {
     "data": {
      "text/plain": [
       "(1447, 20)"
      ]
     },
     "execution_count": 46,
     "metadata": {},
     "output_type": "execute_result"
    }
   ],
   "source": [
    "assign_indv2('Household composition : Other household types\\ With one dependent child - Unit : Households')\n"
   ]
  },
  {
   "cell_type": "code",
   "execution_count": 47,
   "id": "94b48eba",
   "metadata": {},
   "outputs": [
    {
     "data": {
      "text/plain": [
       "(1433, 14)"
      ]
     },
     "execution_count": 47,
     "metadata": {},
     "output_type": "execute_result"
    }
   ],
   "source": [
    "assign_indv2('Household composition : Other household types\\ With two or more dependent children - Unit : Households')\n"
   ]
  },
  {
   "cell_type": "code",
   "execution_count": 48,
   "id": "c38cecf4",
   "metadata": {},
   "outputs": [
    {
     "data": {
      "text/plain": [
       "(1403, 30)"
      ]
     },
     "execution_count": 48,
     "metadata": {},
     "output_type": "execute_result"
    }
   ],
   "source": [
    "assign_indv2('Household composition : Other household types\\ All full-time students - Unit : Households')"
   ]
  },
  {
   "cell_type": "code",
   "execution_count": 49,
   "id": "1217750e",
   "metadata": {},
   "outputs": [
    {
     "data": {
      "text/plain": [
       "(1387, 16)"
      ]
     },
     "execution_count": 49,
     "metadata": {},
     "output_type": "execute_result"
    }
   ],
   "source": [
    "assign_indv2('Household composition : Other household types\\ All aged 65 and over - Unit : Households')"
   ]
  },
  {
   "cell_type": "code",
   "execution_count": 50,
   "id": "95320639",
   "metadata": {},
   "outputs": [
    {
     "data": {
      "text/plain": [
       "(1077, 310)"
      ]
     },
     "execution_count": 50,
     "metadata": {},
     "output_type": "execute_result"
    }
   ],
   "source": [
    "assign_indv2('Household composition : Other household types\\ Other - Unit : Households')"
   ]
  },
  {
   "cell_type": "code",
   "execution_count": 51,
   "id": "3349dfb8",
   "metadata": {},
   "outputs": [],
   "source": [
    "#check if HHsize = 3\n",
    "#for rows with dependents, base Individual 3 assignment off of Individual 2 (which is an adult/spouse)\n",
    "#when I get to HHsize 4 (or larger), just add new dependents in age range -35 to -25 less than age of Individual 2/3\n"
   ]
  },
  {
   "cell_type": "code",
   "execution_count": 52,
   "id": "60dbd6c5",
   "metadata": {},
   "outputs": [],
   "source": [
    "def assign_indv3(HHcomp):\n",
    "    '''Assigns individuals to the 3 person Households in column 'Individual 3'.'''\n",
    "    count = 0\n",
    "    for i in range(len(df_test)):\n",
    "        if (df_test['Household Size'][i] == 'Household size : 3 people in household - Unit : Household spaces') or (df_test['Household Size'][i] == 'Household size : 4 people in household - Unit : Household spaces') or (df_test['Household Size'][i] == 'Household size : 5 people in household - Unit : Household spaces') or (df_test['Household Size'][i] == 'Household size : 6 people in household - Unit : Household spaces') or (df_test['Household Size'][i] == 'Household size : 7 people in household - Unit : Household spaces') or (df_test['Household Size'][i] == 'Household size : 8 people in household - Unit : Household spaces'):\n",
    "            if (df_test['Household Composition'][i] == HHcomp) and (df_test['Individual 3'][i] == '0'):\n",
    "                if (HHcomp == 'Household composition : One family only\\ All aged 65 and over - Unit : Households') or (HHcomp == 'Household composition : Other household types\\ All aged 65 and over - Unit : Households'):\n",
    "                    count += 1\n",
    "                    age_range_used = list(range(65,86)) #any over 65 can be with any other over 65\n",
    "                    ages = get_age_range(age_range_used)\n",
    "                    if ages == []:\n",
    "                        print('Error: Not enough over 65s. Need to fix the age range of another HH.')\n",
    "                    rand_indv = random.choice(ages)\n",
    "                    df_test['Individual 3'][i] = rand_indv #assigns chosen individual to the HH\n",
    "                    indv_list.remove(rand_indv)                \n",
    "            \n",
    "            \n",
    "                if (HHcomp == 'Household composition : One family only\\ Lone parent\\ Two or more dependent children - Unit : Households') or (HHcomp == 'Household composition : One family only\\ Lone parent\\ All children non-dependent - Unit : Households'): \n",
    "                    initial_age = int(df_test['Individual 2'][i][10:12].strip()) #this is where the age is found in the string\n",
    "                    count += 1\n",
    "                    age_range_used = list(range(initial_age-35,initial_age-25)) #assigns dependent aged child to HH\n",
    "                    ages = get_age_range(age_range_used)\n",
    "                    if ages == []:\n",
    "                        while ages == []:\n",
    "                            if age_range_used[0] == 0:\n",
    "                                age_range_used.append(age_range_used[-1]+1)\n",
    "                                ages = get_age_range(age_range_used)\n",
    "                            elif age_range_used[-1] == 85:\n",
    "                                age_range_used.insert(0,age_range_used[0]-1)\n",
    "                                ages = get_age_range(age_range_used)\n",
    "                            else:\n",
    "                                age_range_used.insert(0,age_range_used[0]-1)\n",
    "                                age_range_used.append(age_range_used[-1]+1)\n",
    "                                ages = get_age_range(age_range_used)\n",
    "                                print('Error: Added 1 year to each end of the desired age range.')\n",
    "                    rand_indv = random.choice(ages)\n",
    "                    df_test['Individual 3'][i] = rand_indv #assigns chosen individual to the HH\n",
    "                    indv_list.remove(rand_indv)\n",
    "                \n",
    "            \n",
    "                if (HHcomp == 'Household composition : One family only\\ Married couple\\ One dependent child - Unit : Households') or (HHcomp == 'Household composition : One family only\\ Cohabiting couple\\ One dependent child - Unit : Households') or (HHcomp == 'Household composition : One family only\\ Married couple\\ Two or more dependent children - Unit : Households') or (HHcomp == 'Household composition : One family only\\ Cohabiting couple\\ Two or more dependent children - Unit : Households') or (HHcomp == 'Household composition : One family only\\ Married couple\\ All children non-dependent - Unit : Households') or (HHcomp == 'Household composition : One family only\\ Cohabiting couple\\ All children non-dependent - Unit : Households'):\n",
    "                    initial_age = int(df_test['Individual 2'][i][10:12]) #this is where the age is found in the string\n",
    "                    initial_sex = get_sex(2,df_test['Individual 2'][i])\n",
    "                    count += 1\n",
    "                    age_range_used = list(range(initial_age-5,initial_age+5)) #assigns partner to existing adult\n",
    "                    ages = get_age_range(age_range_used) \n",
    "                    if ages == []:\n",
    "                        while ages == []:\n",
    "                            if age_range_used[0] == 0:\n",
    "                                age_range_used.append(age_range_used[-1]+1)\n",
    "                                ages = get_age_range(age_range_used)\n",
    "                                print('Error: Added 1 year to end of the desired age range.')\n",
    "                            elif age_range_used[-1] == 85:\n",
    "                                age_range_used.insert(0,age_range_used[0]-1)\n",
    "                                ages = get_age_range(age_range_used)   \n",
    "                            else:\n",
    "                                age_range_used.insert(0,age_range_used[0]-1)\n",
    "                                age_range_used.append(age_range_used[-1]+1)\n",
    "                                ages = get_age_range(age_range_used)\n",
    "                                print('Error: Added 1 year to each end of the desired age range.')\n",
    "                    if len([i for i in ages if initial_sex+'s' in i]) == len(ages):\n",
    "                        while len([i for i in ages if initial_sex+'s' in i]) == len(ages):\n",
    "                            if age_range_used[0] == 0:\n",
    "                                age_range_used.append(age_range_used[-1]+1)\n",
    "                                ages = get_age_range(age_range_used)\n",
    "                                print('Error: Added 1 year to end of the desired age range.')\n",
    "                            else:\n",
    "                                age_range_used.insert(0,age_range_used[0]-1)\n",
    "                                age_range_used.append(age_range_used[-1]+1)\n",
    "                                ages = get_age_range(age_range_used)\n",
    "                                print('Error: Added 1 year to each end of the desired age range.')\n",
    "                    rand_indv = random.choice(ages)\n",
    "                    if initial_sex == get_sex(2,rand_indv):\n",
    "                        rand_indv = random.choice(ages)\n",
    "                    df_test['Individual 3'][i] = rand_indv #assigns chosen individual to the HH\n",
    "                    indv_list.remove(rand_indv)\n",
    "            \n",
    "                \n",
    "                if (HHcomp == 'Household composition : One family only\\ Same-sex civil partnership couple\\ One dependent child - Unit : Households') or (HHcomp == 'Household composition : One family only\\ Same-sex civil partnership couple\\ Two or more dependent children - Unit : Households') or (HHcomp == 'Household composition : One family only\\ Same-sex civil partnership couple\\ All children non-dependent - Unit : Households'):\n",
    "                    initial_age = int(df_test['Individual 2'][i][10:12]) #this is where the age is found in the string\n",
    "                    initial_sex = get_sex(2,df_test['Individual 2'][i])\n",
    "                    count += 1\n",
    "                    age_range_used = list(range(initial_age-5,initial_age+5)) #assigns partner to existing adult\n",
    "                    ages = get_age_range(age_range_used)\n",
    "                    if ages == []:\n",
    "                        while ages == []:\n",
    "                            if age_range_used[0] == 0:\n",
    "                                age_range_used.append(age_range_used[-1]+1)\n",
    "                                ages = get_age_range(age_range_used)\n",
    "                            elif age_range_used[-1] == 85:\n",
    "                                age_range_used.insert(0,age_range_used[0]-1)\n",
    "                                ages = get_age_range(age_range_used)\n",
    "                            else:\n",
    "                                age_range_used.insert(0,age_range_used[0]-1)\n",
    "                                age_range_used.append(age_range_used[-1]+1)\n",
    "                                ages = get_age_range(age_range_used)\n",
    "                                print('Error: Added 1 year to each end of the desired age range.')\n",
    "                    if len([i for i in ages if initial_sex+'s' in i]) == len(ages):\n",
    "                        while len([i for i in ages if initial_sex+'s' in i]) == len(ages):\n",
    "                            if age_range_used[0] == 0:\n",
    "                                age_range_used.append(age_range_used[-1]+1)\n",
    "                                ages = get_age_range(age_range_used)\n",
    "                            else:\n",
    "                                age_range_used.insert(0,age_range_used[0]-1)\n",
    "                                age_range_used.append(age_range_used[-1]+1)\n",
    "                                ages = get_age_range(age_range_used)\n",
    "                                print('Error: Added 1 year to each end of the desired age range.')\n",
    "                    rand_indv = random.choice(ages)\n",
    "                    if initial_sex != get_sex(2,rand_indv):\n",
    "                        rand_indv = random.choice(ages)\n",
    "                    df_test['Individual 3'][i] = rand_indv #assigns chosen individual to the HH\n",
    "                    indv_list.remove(rand_indv)                \n",
    "                \n",
    "                \n",
    "                if (HHcomp == 'Household composition : Other household types\\ With one dependent child - Unit : Households') or (HHcomp == 'Household composition : Other household types\\ With two or more dependent children - Unit : Households'):\n",
    "                    initial_age = int(df_test['Individual 2'][i][10:12]) #this is where the age is found in the string\n",
    "                    count += 1\n",
    "                    age_range_used = list(range(initial_age-5,initial_age+6)) #assigns partner to existing adult\n",
    "                    ages = get_age_range(age_range_used)\n",
    "                    if ages == []:\n",
    "                        while ages == []:\n",
    "                            if age_range_used[0] == 0:\n",
    "                                age_range_used.append(age_range_used[-1]+1)\n",
    "                                ages = get_age_range(age_range_used)\n",
    "                            elif age_range_used[-1] == 85:\n",
    "                                age_range_used.insert(0,age_range_used[0]-1)\n",
    "                                ages = get_age_range(age_range_used)\n",
    "                            else:\n",
    "                                age_range_used.insert(0,age_range_used[0]-1)\n",
    "                                age_range_used.append(age_range_used[-1]+1)\n",
    "                                ages = get_age_range(age_range_used)\n",
    "                                print('Error: Added 1 year to each end of the desired age range.')\n",
    "                    rand_indv = random.choice(ages)\n",
    "                    df_test['Individual 3'][i] = rand_indv #assigns chosen individual to the HH\n",
    "                    indv_list.remove(rand_indv)                \n",
    "                \n",
    "                \n",
    "                if HHcomp == 'Household composition : Other household types\\ All full-time students - Unit : Households':\n",
    "                    count += 1\n",
    "                    age_range_used = list(range(18,30)) #any age of student can be with any other age of student\n",
    "                    ages = get_age_range(age_range_used)\n",
    "                    if ages == []:\n",
    "                        while ages == []:\n",
    "                            if age_range_used[0] == 0:\n",
    "                                age_range_used.append(age_range_used[-1]+1)\n",
    "                                ages = get_age_range(age_range_used)\n",
    "                            elif age_range_used[-1] == 85:\n",
    "                                age_range_used.insert(0,age_range_used[0]-1)\n",
    "                                ages = get_age_range(age_range_used)   \n",
    "                            else:\n",
    "                                age_range_used.insert(0,age_range_used[0]-1)\n",
    "                                age_range_used.append(age_range_used[-1]+1)\n",
    "                                ages = get_age_range(age_range_used)\n",
    "                                print('Error: Added 1 year to each end of the desired age range.')\n",
    "                    rand_indv = random.choice(ages)\n",
    "                    df_test['Individual 3'][i] = rand_indv #assigns chosen individual to the HH\n",
    "                    indv_list.remove(rand_indv)                \n",
    "                \n",
    "     \n",
    "                if HHcomp == 'Household composition : Other household types\\ Other - Unit : Households':\n",
    "                    count += 1\n",
    "                    age_range_used = list(range(18,86)) #basically uses the left over ages\n",
    "                    ages = get_age_range(age_range_used) #likely some sort of non-students flatmate situation\n",
    "                    if ages == []:\n",
    "                        while ages == []:\n",
    "                            if age_range_used[0] == 0:\n",
    "                                age_range_used.append(age_range_used[-1]+1)\n",
    "                                ages = get_age_range(age_range_used)\n",
    "                            elif age_range_used[-1] == 85:\n",
    "                                age_range_used.insert(0,age_range_used[0]-1)\n",
    "                                ages = get_age_range(age_range_used)  \n",
    "                            else:\n",
    "                                age_range_used.insert(0,age_range_used[0]-1)\n",
    "                                age_range_used.append(age_range_used[-1]+1)\n",
    "                                ages = get_age_range(age_range_used)\n",
    "                                print('Error: Added 1 year to each end of the desired age range.')\n",
    "                    rand_indv = random.choice(ages)\n",
    "                    df_test['Individual 3'][i] = rand_indv #assigns chosen individual to the HH\n",
    "                    indv_list.remove(rand_indv)       \n",
    "    \n",
    "    \n",
    "    return len(indv_list),count                "
   ]
  },
  {
   "cell_type": "code",
   "execution_count": 53,
   "id": "3f7557ef",
   "metadata": {},
   "outputs": [
    {
     "data": {
      "text/plain": [
       "(1038, 39)"
      ]
     },
     "execution_count": 53,
     "metadata": {},
     "output_type": "execute_result"
    }
   ],
   "source": [
    "assign_indv3('Household composition : One family only\\ All aged 65 and over - Unit : Households')\n"
   ]
  },
  {
   "cell_type": "code",
   "execution_count": 54,
   "id": "6a6f44b5",
   "metadata": {},
   "outputs": [
    {
     "data": {
      "text/plain": [
       "(1034, 4)"
      ]
     },
     "execution_count": 54,
     "metadata": {},
     "output_type": "execute_result"
    }
   ],
   "source": [
    "assign_indv3('Household composition : Other household types\\ All aged 65 and over - Unit : Households')\n"
   ]
  },
  {
   "cell_type": "code",
   "execution_count": 55,
   "id": "9facb238",
   "metadata": {},
   "outputs": [
    {
     "data": {
      "text/plain": [
       "(1016, 18)"
      ]
     },
     "execution_count": 55,
     "metadata": {},
     "output_type": "execute_result"
    }
   ],
   "source": [
    "assign_indv3('Household composition : One family only\\ Lone parent\\ Two or more dependent children - Unit : Households')\n"
   ]
  },
  {
   "cell_type": "code",
   "execution_count": 56,
   "id": "e2d47d72",
   "metadata": {},
   "outputs": [
    {
     "data": {
      "text/plain": [
       "(886, 130)"
      ]
     },
     "execution_count": 56,
     "metadata": {},
     "output_type": "execute_result"
    }
   ],
   "source": [
    "assign_indv3('Household composition : One family only\\ Married couple\\ One dependent child - Unit : Households')\n"
   ]
  },
  {
   "cell_type": "code",
   "execution_count": 57,
   "id": "32d05baa",
   "metadata": {},
   "outputs": [
    {
     "data": {
      "text/plain": [
       "(772, 114)"
      ]
     },
     "execution_count": 57,
     "metadata": {},
     "output_type": "execute_result"
    }
   ],
   "source": [
    "assign_indv3('Household composition : One family only\\ Married couple\\ Two or more dependent children - Unit : Households')\n"
   ]
  },
  {
   "cell_type": "code",
   "execution_count": 58,
   "id": "1a8a32c5",
   "metadata": {},
   "outputs": [
    {
     "data": {
      "text/plain": [
       "(772, 0)"
      ]
     },
     "execution_count": 58,
     "metadata": {},
     "output_type": "execute_result"
    }
   ],
   "source": [
    "assign_indv3('Household composition : One family only\\ Same-sex civil partnership couple\\ One dependent child - Unit : Households') \n"
   ]
  },
  {
   "cell_type": "code",
   "execution_count": 59,
   "id": "6382b792",
   "metadata": {},
   "outputs": [
    {
     "data": {
      "text/plain": [
       "(772, 0)"
      ]
     },
     "execution_count": 59,
     "metadata": {},
     "output_type": "execute_result"
    }
   ],
   "source": [
    "assign_indv3('Household composition : One family only\\ Same-sex civil partnership couple\\ Two or more dependent children - Unit : Households')\n"
   ]
  },
  {
   "cell_type": "code",
   "execution_count": 60,
   "id": "032b9ad9",
   "metadata": {},
   "outputs": [
    {
     "name": "stdout",
     "output_type": "stream",
     "text": [
      "Error: Added 1 year to each end of the desired age range.\n",
      "Error: Added 1 year to each end of the desired age range.\n",
      "Error: Added 1 year to each end of the desired age range.\n",
      "Error: Added 1 year to each end of the desired age range.\n",
      "Error: Added 1 year to each end of the desired age range.\n",
      "Error: Added 1 year to each end of the desired age range.\n",
      "Error: Added 1 year to each end of the desired age range.\n",
      "Error: Added 1 year to each end of the desired age range.\n",
      "Error: Added 1 year to each end of the desired age range.\n",
      "Error: Added 1 year to each end of the desired age range.\n",
      "Error: Added 1 year to each end of the desired age range.\n"
     ]
    },
    {
     "data": {
      "text/plain": [
       "(728, 44)"
      ]
     },
     "execution_count": 60,
     "metadata": {},
     "output_type": "execute_result"
    }
   ],
   "source": [
    "assign_indv3('Household composition : One family only\\ Cohabiting couple\\ One dependent child - Unit : Households')\n"
   ]
  },
  {
   "cell_type": "code",
   "execution_count": 61,
   "id": "0e23b21e",
   "metadata": {},
   "outputs": [
    {
     "name": "stdout",
     "output_type": "stream",
     "text": [
      "Error: Added 1 year to each end of the desired age range.\n",
      "Error: Added 1 year to each end of the desired age range.\n",
      "Error: Added 1 year to each end of the desired age range.\n",
      "Error: Added 1 year to each end of the desired age range.\n",
      "Error: Added 1 year to each end of the desired age range.\n",
      "Error: Added 1 year to each end of the desired age range.\n",
      "Error: Added 1 year to each end of the desired age range.\n",
      "Error: Added 1 year to each end of the desired age range.\n",
      "Error: Added 1 year to each end of the desired age range.\n",
      "Error: Added 1 year to each end of the desired age range.\n",
      "Error: Added 1 year to each end of the desired age range.\n"
     ]
    },
    {
     "data": {
      "text/plain": [
       "(710, 18)"
      ]
     },
     "execution_count": 61,
     "metadata": {},
     "output_type": "execute_result"
    }
   ],
   "source": [
    "assign_indv3('Household composition : One family only\\ Cohabiting couple\\ Two or more dependent children - Unit : Households')\n"
   ]
  },
  {
   "cell_type": "code",
   "execution_count": 62,
   "id": "d8c990d5",
   "metadata": {},
   "outputs": [
    {
     "data": {
      "text/plain": [
       "(651, 59)"
      ]
     },
     "execution_count": 62,
     "metadata": {},
     "output_type": "execute_result"
    }
   ],
   "source": [
    "assign_indv3('Household composition : One family only\\ Married couple\\ All children non-dependent - Unit : Households')\n"
   ]
  },
  {
   "cell_type": "code",
   "execution_count": 63,
   "id": "b05758b3",
   "metadata": {},
   "outputs": [
    {
     "data": {
      "text/plain": [
       "(651, 0)"
      ]
     },
     "execution_count": 63,
     "metadata": {},
     "output_type": "execute_result"
    }
   ],
   "source": [
    "assign_indv3('Household composition : One family only\\ Same-sex civil partnership couple\\ All children non-dependent - Unit : Households')\n"
   ]
  },
  {
   "cell_type": "code",
   "execution_count": 64,
   "id": "8ca46865",
   "metadata": {},
   "outputs": [
    {
     "data": {
      "text/plain": [
       "(647, 4)"
      ]
     },
     "execution_count": 64,
     "metadata": {},
     "output_type": "execute_result"
    }
   ],
   "source": [
    "assign_indv3('Household composition : One family only\\ Cohabiting couple\\ All children non-dependent - Unit : Households')\n"
   ]
  },
  {
   "cell_type": "code",
   "execution_count": 65,
   "id": "348bb1b3",
   "metadata": {},
   "outputs": [
    {
     "data": {
      "text/plain": [
       "(629, 18)"
      ]
     },
     "execution_count": 65,
     "metadata": {},
     "output_type": "execute_result"
    }
   ],
   "source": [
    "assign_indv3('Household composition : One family only\\ Lone parent\\ All children non-dependent - Unit : Households')\n"
   ]
  },
  {
   "cell_type": "code",
   "execution_count": 66,
   "id": "4977c522",
   "metadata": {},
   "outputs": [
    {
     "data": {
      "text/plain": [
       "(623, 6)"
      ]
     },
     "execution_count": 66,
     "metadata": {},
     "output_type": "execute_result"
    }
   ],
   "source": [
    "assign_indv3('Household composition : Other household types\\ With one dependent child - Unit : Households')\n"
   ]
  },
  {
   "cell_type": "code",
   "execution_count": 67,
   "id": "58775013",
   "metadata": {},
   "outputs": [
    {
     "data": {
      "text/plain": [
       "(609, 14)"
      ]
     },
     "execution_count": 67,
     "metadata": {},
     "output_type": "execute_result"
    }
   ],
   "source": [
    "assign_indv3('Household composition : Other household types\\ With two or more dependent children - Unit : Households')\n"
   ]
  },
  {
   "cell_type": "code",
   "execution_count": 68,
   "id": "eefb36df",
   "metadata": {},
   "outputs": [
    {
     "data": {
      "text/plain": [
       "(601, 8)"
      ]
     },
     "execution_count": 68,
     "metadata": {},
     "output_type": "execute_result"
    }
   ],
   "source": [
    "assign_indv3('Household composition : Other household types\\ All full-time students - Unit : Households')\n"
   ]
  },
  {
   "cell_type": "code",
   "execution_count": 69,
   "id": "e441b2a9",
   "metadata": {},
   "outputs": [
    {
     "data": {
      "text/plain": [
       "(520, 81)"
      ]
     },
     "execution_count": 69,
     "metadata": {},
     "output_type": "execute_result"
    }
   ],
   "source": [
    "assign_indv3('Household composition : Other household types\\ Other - Unit : Households')\n"
   ]
  },
  {
   "cell_type": "code",
   "execution_count": 70,
   "id": "a01d96ff",
   "metadata": {},
   "outputs": [],
   "source": [
    "def assign_indv4(HHcomp):\n",
    "    '''Assigns individuals to the 4 person Households in column 'Individual 4'.'''\n",
    "    count = 0\n",
    "    for i in range(len(df_test)):\n",
    "        if (df_test['Household Size'][i] == 'Household size : 4 people in household - Unit : Household spaces') or (df_test['Household Size'][i] == 'Household size : 5 people in household - Unit : Household spaces') or (df_test['Household Size'][i] == 'Household size : 6 people in household - Unit : Household spaces') or (df_test['Household Size'][i] == 'Household size : 7 people in household - Unit : Household spaces') or (df_test['Household Size'][i] == 'Household size : 8 people in household - Unit : Household spaces'):\n",
    "            if (df_test['Household Composition'][i] == HHcomp) and (df_test['Individual 4'][i] == '0'):\n",
    "                if HHcomp == 'Household composition : Other household types\\ All aged 65 and over - Unit : Households':\n",
    "                    count += 1\n",
    "                    age_range_used = list(range(65,86)) #any age of overr 65 can be with any other age of over 65\n",
    "                    ages = get_age_range(age_range_used)\n",
    "                    if ages == []:\n",
    "                        print('Error: Not enough over 65s. Need to fix the age range of another HH.')\n",
    "                    rand_indv = random.choice(ages)\n",
    "                    df_test['Individual 4'][i] = rand_indv #assigns chosen individual to the HH\n",
    "                    indv_list.remove(rand_indv)\n",
    "                    \n",
    "                    \n",
    "                if (HHcomp == 'Household composition : One family only\\ Lone parent\\ Two or more dependent children - Unit : Households') or (HHcomp == 'Household composition : One family only\\ Lone parent\\ All children non-dependent - Unit : Households'): \n",
    "                    initial_age = int(df_test['Individual 2'][i][10:12].strip()) #this is where the age is found in the string\n",
    "                    count += 1\n",
    "                    age_range_used = list(range(initial_age-35,initial_age-25)) #assigns another dependent aged child to HH\n",
    "                    ages = get_age_range(age_range_used)\n",
    "                    if ages == []:\n",
    "                        while ages == []:\n",
    "                            if age_range_used[0] == 0:\n",
    "                                age_range_used.append(age_range_used[-1]+1)\n",
    "                                ages = get_age_range(age_range_used)\n",
    "                            elif age_range_used[-1] == 85:\n",
    "                                age_range_used.insert(0,age_range_used[0]-1)\n",
    "                                ages = get_age_range(age_range_used)\n",
    "                            else:\n",
    "                                age_range_used.insert(0,age_range_used[0]-1)\n",
    "                                age_range_used.append(age_range_used[-1]+1)\n",
    "                                ages = get_age_range(age_range_used)\n",
    "                                print('Error: Added 1 year to each end of the desired age range.')\n",
    "                    rand_indv = random.choice(ages)\n",
    "                    df_test['Individual 4'][i] = rand_indv #assigns chosen individual to the HH\n",
    "                    indv_list.remove(rand_indv)\n",
    "                    \n",
    "                    \n",
    "                if (HHcomp == 'Household composition : One family only\\ Married couple\\ Two or more dependent children - Unit : Households') or (HHcomp == 'Household composition : One family only\\ Cohabiting couple\\ Two or more dependent children - Unit : Households') or (HHcomp == 'Household composition : One family only\\ Married couple\\ All children non-dependent - Unit : Households') or (HHcomp == 'Household composition : One family only\\ Cohabiting couple\\ All children non-dependent - Unit : Households') or (HHcomp == 'Household composition : One family only\\ Same-sex civil partnership couple\\ Two or more dependent children - Unit : Households') or (HHcomp == 'Household composition : One family only\\ Same-sex civil partnership couple\\ All children non-dependent - Unit : Households'):\n",
    "                    initial_age = int(df_test['Individual 2'][i][10:12]) #this is where the age is found in the string\n",
    "                    count += 1\n",
    "                    age_range_used = list(range(initial_age-35,initial_age-25)) #assigns another dependent aged child to HH\n",
    "                    ages = get_age_range(age_range_used) \n",
    "                    if ages == []:\n",
    "                        while ages == []:\n",
    "                            if age_range_used[0] == 0:\n",
    "                                age_range_used.append(age_range_used[-1]+1)\n",
    "                                ages = get_age_range(age_range_used)\n",
    "                                print('Error: Added 1 year to end of the desired age range.')\n",
    "                            elif age_range_used[-1] == 85:\n",
    "                                age_range_used.insert(0,age_range_used[0]-1)\n",
    "                                ages = get_age_range(age_range_used)   \n",
    "                            else:\n",
    "                                age_range_used.insert(0,age_range_used[0]-1)\n",
    "                                age_range_used.append(age_range_used[-1]+1)\n",
    "                                ages = get_age_range(age_range_used)\n",
    "                                print('Error: Added 1 year to each end of the desired age range.')\n",
    "                    rand_indv = random.choice(ages)\n",
    "                    df_test['Individual 4'][i] = rand_indv\n",
    "                    indv_list.remove(rand_indv)\n",
    "            \n",
    "   \n",
    "                if HHcomp == 'Household composition : Other household types\\ With two or more dependent children - Unit : Households':\n",
    "                    initial_age = int(df_test['Individual 2'][i][10:12]) #this is where the age is found in the string\n",
    "                    count += 1\n",
    "                    age_range_used = list(range(initial_age-35,initial_age-25)) #assigns another dependent aged child to HH\n",
    "                    ages = get_age_range(age_range_used)\n",
    "                    if ages == []:\n",
    "                        while ages == []:\n",
    "                            if age_range_used[0] == 0:\n",
    "                                age_range_used.append(age_range_used[-1]+1)\n",
    "                                ages = get_age_range(age_range_used)\n",
    "                            elif age_range_used[-1] == 85:\n",
    "                                age_range_used.insert(0,age_range_used[0]-1)\n",
    "                                ages = get_age_range(age_range_used)\n",
    "                            else:\n",
    "                                age_range_used.insert(0,age_range_used[0]-1)\n",
    "                                age_range_used.append(age_range_used[-1]+1)\n",
    "                                ages = get_age_range(age_range_used)\n",
    "                                print('Error: Added 1 year to each end of the desired age range.')\n",
    "                    rand_indv = random.choice(ages)\n",
    "                    df_test['Individual 4'][i] = rand_indv #assigns chosen individual to the HH\n",
    "                    indv_list.remove(rand_indv)                \n",
    "                \n",
    "                \n",
    "                if HHcomp == 'Household composition : Other household types\\ All full-time students - Unit : Households':\n",
    "                    count += 1\n",
    "                    age_range_used = list(range(18,30)) #any age of student can be with any other age of student\n",
    "                    ages = get_age_range(age_range_used)\n",
    "                    if ages == []:\n",
    "                        while ages == []:\n",
    "                            if age_range_used[0] == 0:\n",
    "                                age_range_used.append(age_range_used[-1]+1)\n",
    "                                ages = get_age_range(age_range_used)\n",
    "                            elif age_range_used[-1] == 85:\n",
    "                                age_range_used.insert(0,age_range_used[0]-1)\n",
    "                                ages = get_age_range(age_range_used)   \n",
    "                            else:\n",
    "                                age_range_used.insert(0,age_range_used[0]-1)\n",
    "                                age_range_used.append(age_range_used[-1]+1)\n",
    "                                ages = get_age_range(age_range_used)\n",
    "                                print('Error: Added 1 year to each end of the desired age range.')\n",
    "                    rand_indv = random.choice(ages)\n",
    "                    df_test['Individual 4'][i] = rand_indv #assigns chosen individual to the HH\n",
    "                    indv_list.remove(rand_indv)                \n",
    "                \n",
    "     \n",
    "                if (HHcomp == 'Household composition : Other household types\\ With one dependent child - Unit : Households') or (HHcomp == 'Household composition : Other household types\\ Other - Unit : Households'):\n",
    "                    count += 1\n",
    "                    age_range_used = list(range(18,86)) #basically uses the left over ages\n",
    "                    ages = get_age_range(age_range_used) #likely some sort of non-students flatmate situation\n",
    "                    if ages == []:\n",
    "                        while ages == []:\n",
    "                            if age_range_used[0] == 0:\n",
    "                                age_range_used.append(age_range_used[-1]+1)\n",
    "                                ages = get_age_range(age_range_used)\n",
    "                            elif age_range_used[-1] == 85:\n",
    "                                age_range_used.insert(0,age_range_used[0]-1)\n",
    "                                ages = get_age_range(age_range_used)  \n",
    "                            else:\n",
    "                                age_range_used.insert(0,age_range_used[0]-1)\n",
    "                                age_range_used.append(age_range_used[-1]+1)\n",
    "                                ages = get_age_range(age_range_used)\n",
    "                                print('Error: Added 1 year to each end of the desired age range.')\n",
    "                    rand_indv = random.choice(ages)\n",
    "                    df_test['Individual 4'][i] = rand_indv #assigns chosen individual to the HH\n",
    "                    indv_list.remove(rand_indv)       \n",
    "    \n",
    "    \n",
    "    return len(indv_list),count                                    "
   ]
  },
  {
   "cell_type": "code",
   "execution_count": 71,
   "id": "6e813d93",
   "metadata": {},
   "outputs": [
    {
     "data": {
      "text/plain": [
       "(519, 1)"
      ]
     },
     "execution_count": 71,
     "metadata": {},
     "output_type": "execute_result"
    }
   ],
   "source": [
    "assign_indv4('Household composition : Other household types\\ All aged 65 and over - Unit : Households')\n"
   ]
  },
  {
   "cell_type": "code",
   "execution_count": 72,
   "id": "85753e83",
   "metadata": {},
   "outputs": [
    {
     "data": {
      "text/plain": [
       "(512, 7)"
      ]
     },
     "execution_count": 72,
     "metadata": {},
     "output_type": "execute_result"
    }
   ],
   "source": [
    "assign_indv4('Household composition : One family only\\ Lone parent\\ Two or more dependent children - Unit : Households')\n"
   ]
  },
  {
   "cell_type": "code",
   "execution_count": 73,
   "id": "7159b7de",
   "metadata": {},
   "outputs": [
    {
     "name": "stdout",
     "output_type": "stream",
     "text": [
      "Error: Added 1 year to each end of the desired age range.\n",
      "Error: Added 1 year to each end of the desired age range.\n",
      "Error: Added 1 year to each end of the desired age range.\n"
     ]
    },
    {
     "data": {
      "text/plain": [
       "(398, 114)"
      ]
     },
     "execution_count": 73,
     "metadata": {},
     "output_type": "execute_result"
    }
   ],
   "source": [
    "assign_indv4('Household composition : One family only\\ Married couple\\ Two or more dependent children - Unit : Households')\n"
   ]
  },
  {
   "cell_type": "code",
   "execution_count": 74,
   "id": "62ddc2ed",
   "metadata": {},
   "outputs": [
    {
     "data": {
      "text/plain": [
       "(398, 0)"
      ]
     },
     "execution_count": 74,
     "metadata": {},
     "output_type": "execute_result"
    }
   ],
   "source": [
    "assign_indv4('Household composition : One family only\\ Same-sex civil partnership couple\\ Two or more dependent children - Unit : Households')\n"
   ]
  },
  {
   "cell_type": "code",
   "execution_count": 75,
   "id": "58cfa508",
   "metadata": {},
   "outputs": [
    {
     "name": "stdout",
     "output_type": "stream",
     "text": [
      "Error: Added 1 year to each end of the desired age range.\n"
     ]
    },
    {
     "data": {
      "text/plain": [
       "(380, 18)"
      ]
     },
     "execution_count": 75,
     "metadata": {},
     "output_type": "execute_result"
    }
   ],
   "source": [
    "assign_indv4('Household composition : One family only\\ Cohabiting couple\\ Two or more dependent children - Unit : Households')\n"
   ]
  },
  {
   "cell_type": "code",
   "execution_count": 76,
   "id": "c633452c",
   "metadata": {},
   "outputs": [
    {
     "data": {
      "text/plain": [
       "(353, 27)"
      ]
     },
     "execution_count": 76,
     "metadata": {},
     "output_type": "execute_result"
    }
   ],
   "source": [
    "assign_indv4('Household composition : One family only\\ Married couple\\ All children non-dependent - Unit : Households')\n"
   ]
  },
  {
   "cell_type": "code",
   "execution_count": 77,
   "id": "7f00d5d0",
   "metadata": {},
   "outputs": [
    {
     "data": {
      "text/plain": [
       "(353, 0)"
      ]
     },
     "execution_count": 77,
     "metadata": {},
     "output_type": "execute_result"
    }
   ],
   "source": [
    "assign_indv4('Household composition : One family only\\ Same-sex civil partnership couple\\ All children non-dependent - Unit : Households')\n"
   ]
  },
  {
   "cell_type": "code",
   "execution_count": 78,
   "id": "451f7fe8",
   "metadata": {},
   "outputs": [
    {
     "data": {
      "text/plain": [
       "(352, 1)"
      ]
     },
     "execution_count": 78,
     "metadata": {},
     "output_type": "execute_result"
    }
   ],
   "source": [
    "assign_indv4('Household composition : One family only\\ Cohabiting couple\\ All children non-dependent - Unit : Households')\n"
   ]
  },
  {
   "cell_type": "code",
   "execution_count": 79,
   "id": "85b92686",
   "metadata": {},
   "outputs": [
    {
     "name": "stdout",
     "output_type": "stream",
     "text": [
      "Error: Added 1 year to each end of the desired age range.\n",
      "Error: Added 1 year to each end of the desired age range.\n",
      "Error: Added 1 year to each end of the desired age range.\n",
      "Error: Added 1 year to each end of the desired age range.\n"
     ]
    },
    {
     "data": {
      "text/plain": [
       "(345, 7)"
      ]
     },
     "execution_count": 79,
     "metadata": {},
     "output_type": "execute_result"
    }
   ],
   "source": [
    "assign_indv4('Household composition : One family only\\ Lone parent\\ All children non-dependent - Unit : Households')\n"
   ]
  },
  {
   "cell_type": "code",
   "execution_count": 80,
   "id": "b2d72d40",
   "metadata": {},
   "outputs": [
    {
     "data": {
      "text/plain": [
       "(343, 2)"
      ]
     },
     "execution_count": 80,
     "metadata": {},
     "output_type": "execute_result"
    }
   ],
   "source": [
    "assign_indv4('Household composition : Other household types\\ With one dependent child - Unit : Households')\n"
   ]
  },
  {
   "cell_type": "code",
   "execution_count": 81,
   "id": "751a84c7",
   "metadata": {},
   "outputs": [
    {
     "name": "stdout",
     "output_type": "stream",
     "text": [
      "Error: Added 1 year to each end of the desired age range.\n",
      "Error: Added 1 year to each end of the desired age range.\n",
      "Error: Added 1 year to each end of the desired age range.\n",
      "Error: Added 1 year to each end of the desired age range.\n",
      "Error: Added 1 year to each end of the desired age range.\n",
      "Error: Added 1 year to each end of the desired age range.\n",
      "Error: Added 1 year to each end of the desired age range.\n",
      "Error: Added 1 year to each end of the desired age range.\n",
      "Error: Added 1 year to each end of the desired age range.\n",
      "Error: Added 1 year to each end of the desired age range.\n",
      "Error: Added 1 year to each end of the desired age range.\n",
      "Error: Added 1 year to each end of the desired age range.\n"
     ]
    },
    {
     "data": {
      "text/plain": [
       "(338, 5)"
      ]
     },
     "execution_count": 81,
     "metadata": {},
     "output_type": "execute_result"
    }
   ],
   "source": [
    "assign_indv4('Household composition : Other household types\\ With two or more dependent children - Unit : Households')\n"
   ]
  },
  {
   "cell_type": "code",
   "execution_count": 82,
   "id": "29abb037",
   "metadata": {},
   "outputs": [
    {
     "data": {
      "text/plain": [
       "(335, 3)"
      ]
     },
     "execution_count": 82,
     "metadata": {},
     "output_type": "execute_result"
    }
   ],
   "source": [
    "assign_indv4('Household composition : Other household types\\ All full-time students - Unit : Households')\n"
   ]
  },
  {
   "cell_type": "code",
   "execution_count": 83,
   "id": "b39a7cc3",
   "metadata": {},
   "outputs": [
    {
     "data": {
      "text/plain": [
       "(302, 33)"
      ]
     },
     "execution_count": 83,
     "metadata": {},
     "output_type": "execute_result"
    }
   ],
   "source": [
    "assign_indv4('Household composition : Other household types\\ Other - Unit : Households')\n"
   ]
  },
  {
   "cell_type": "code",
   "execution_count": 84,
   "id": "48c0a77f",
   "metadata": {},
   "outputs": [],
   "source": [
    "def assign_indv5(HHcomp):\n",
    "    '''Assigns individuals to the 5 person Households in column 'Individual 5'.'''\n",
    "    count = 0\n",
    "    for i in range(len(df_test)):\n",
    "        if (df_test['Household Size'][i] == 'Household size : 5 people in household - Unit : Household spaces') or (df_test['Household Size'][i] == 'Household size : 6 people in household - Unit : Household spaces') or (df_test['Household Size'][i] == 'Household size : 7 people in household - Unit : Household spaces') or (df_test['Household Size'][i] == 'Household size : 8 people in household - Unit : Household spaces'):\n",
    "            if (df_test['Household Composition'][i] == HHcomp) and (df_test['Individual 5'][i] == '0'):\n",
    "                if HHcomp == 'Household composition : Other household types\\ All aged 65 and over - Unit : Households':\n",
    "                    count += 1\n",
    "                    age_range_used = list(range(65,86)) #any age of over 65 can be with any other over 65\n",
    "                    ages = get_age_range(age_range_used)\n",
    "                    if ages == []:\n",
    "                        print('Error: Not enough over 65s. Need to fix the age range of another HH.')\n",
    "                    rand_indv = random.choice(ages)\n",
    "                    df_test['Individual 5'][i] = rand_indv #assigns chosen individual to the HH\n",
    "                    indv_list.remove(rand_indv)\n",
    "                    \n",
    "                    \n",
    "                if (HHcomp == 'Household composition : One family only\\ Lone parent\\ Two or more dependent children - Unit : Households') or (HHcomp == 'Household composition : One family only\\ Lone parent\\ All children non-dependent - Unit : Households'): \n",
    "                    initial_age = int(df_test['Individual 2'][i][10:12].strip()) #this is where the age is found in the string\n",
    "                    count += 1\n",
    "                    age_range_used = list(range(initial_age-35,initial_age-25)) #assigns another dependent aged child to HH\n",
    "                    ages = get_age_range(age_range_used)\n",
    "                    if ages == []:\n",
    "                        while ages == []:\n",
    "                            if age_range_used[0] == 0:\n",
    "                                age_range_used.append(age_range_used[-1]+1)\n",
    "                                ages = get_age_range(age_range_used)\n",
    "                            elif age_range_used[-1] == 85:\n",
    "                                age_range_used.insert(0,age_range_used[0]-1)\n",
    "                                ages = get_age_range(age_range_used)\n",
    "                            else:\n",
    "                                age_range_used.insert(0,age_range_used[0]-1)\n",
    "                                age_range_used.append(age_range_used[-1]+1)\n",
    "                                ages = get_age_range(age_range_used)\n",
    "                                print('Error: Added 1 year to each end of the desired age range.')\n",
    "                    rand_indv = random.choice(ages)\n",
    "                    df_test['Individual 5'][i] = rand_indv #assigns chosen individual to the HH\n",
    "                    indv_list.remove(rand_indv)\n",
    "                    \n",
    "                    \n",
    "                if (HHcomp == 'Household composition : One family only\\ Married couple\\ Two or more dependent children - Unit : Households') or (HHcomp == 'Household composition : One family only\\ Cohabiting couple\\ Two or more dependent children - Unit : Households') or (HHcomp == 'Household composition : One family only\\ Married couple\\ All children non-dependent - Unit : Households') or (HHcomp == 'Household composition : One family only\\ Cohabiting couple\\ All children non-dependent - Unit : Households') or (HHcomp == 'Household composition : One family only\\ Same-sex civil partnership couple\\ Two or more dependent children - Unit : Households') or (HHcomp == 'Household composition : One family only\\ Same-sex civil partnership couple\\ All children non-dependent - Unit : Households'):\n",
    "                    initial_age = int(df_test['Individual 2'][i][10:12]) #this is where the age is found in the string\n",
    "                    count += 1\n",
    "                    age_range_used = list(range(initial_age-35,initial_age-25)) #assigns another dependent aged child to HH\n",
    "                    ages = get_age_range(age_range_used) \n",
    "                    if ages == []:\n",
    "                        while ages == []:\n",
    "                            if age_range_used[0] == 0:\n",
    "                                age_range_used.append(age_range_used[-1]+1)\n",
    "                                ages = get_age_range(age_range_used)\n",
    "                                print('Error: Added 1 year to end of the desired age range.')\n",
    "                            elif age_range_used[-1] == 85:\n",
    "                                age_range_used.insert(0,age_range_used[0]-1)\n",
    "                                ages = get_age_range(age_range_used)   \n",
    "                            else:\n",
    "                                age_range_used.insert(0,age_range_used[0]-1)\n",
    "                                age_range_used.append(age_range_used[-1]+1)\n",
    "                                ages = get_age_range(age_range_used)\n",
    "                                print('Error: Added 1 year to each end of the desired age range.')\n",
    "                    rand_indv = random.choice(ages)\n",
    "                    df_test['Individual 5'][i] = rand_indv\n",
    "                    indv_list.remove(rand_indv)\n",
    "            \n",
    "   \n",
    "                if HHcomp == 'Household composition : Other household types\\ With two or more dependent children - Unit : Households':\n",
    "                    initial_age = int(df_test['Individual 2'][i][10:12]) #this is where the age is found in the string\n",
    "                    count += 1\n",
    "                    age_range_used = list(range(initial_age-35,initial_age-25)) #assigns another dependent aged child to HH\n",
    "                    ages = get_age_range(age_range_used)\n",
    "                    if ages == []:\n",
    "                        while ages == []:\n",
    "                            if age_range_used[0] == 0:\n",
    "                                age_range_used.append(age_range_used[-1]+1)\n",
    "                                ages = get_age_range(age_range_used)\n",
    "                            elif age_range_used[-1] == 85:\n",
    "                                age_range_used.insert(0,age_range_used[0]-1)\n",
    "                                ages = get_age_range(age_range_used)\n",
    "                            else:\n",
    "                                age_range_used.insert(0,age_range_used[0]-1)\n",
    "                                age_range_used.append(age_range_used[-1]+1)\n",
    "                                ages = get_age_range(age_range_used)\n",
    "                                print('Error: Added 1 year to each end of the desired age range.')\n",
    "                    rand_indv = random.choice(ages)\n",
    "                    df_test['Individual 5'][i] = rand_indv #assigns chosen individual to the HH\n",
    "                    indv_list.remove(rand_indv)                \n",
    "                \n",
    "                \n",
    "                if HHcomp == 'Household composition : Other household types\\ All full-time students - Unit : Households':\n",
    "                    count += 1\n",
    "                    age_range_used = list(range(18,30)) #any age of student can be with any other age of student\n",
    "                    ages = get_age_range(age_range_used)\n",
    "                    if ages == []:\n",
    "                        while ages == []:\n",
    "                            if age_range_used[0] == 0:\n",
    "                                age_range_used.append(age_range_used[-1]+1)\n",
    "                                ages = get_age_range(age_range_used)\n",
    "                            elif age_range_used[-1] == 85:\n",
    "                                age_range_used.insert(0,age_range_used[0]-1)\n",
    "                                ages = get_age_range(age_range_used)   \n",
    "                            else:\n",
    "                                age_range_used.insert(0,age_range_used[0]-1)\n",
    "                                age_range_used.append(age_range_used[-1]+1)\n",
    "                                ages = get_age_range(age_range_used)\n",
    "                                print('Error: Added 1 year to each end of the desired age range.')\n",
    "                    rand_indv = random.choice(ages)\n",
    "                    df_test['Individual 5'][i] = rand_indv #assigns chosen individual to the HH\n",
    "                    indv_list.remove(rand_indv)                \n",
    "                \n",
    "     \n",
    "                if (HHcomp == 'Household composition : Other household types\\ With one dependent child - Unit : Households') or (HHcomp == 'Household composition : Other household types\\ Other - Unit : Households'):\n",
    "                    count += 1\n",
    "                    age_range_used = list(range(18,86)) #basically uses the left over ages\n",
    "                    ages = get_age_range(age_range_used) #likely some sort of non-students flatmate situation\n",
    "                    if ages == []:\n",
    "                        while ages == []:\n",
    "                            if age_range_used[0] == 0:\n",
    "                                age_range_used.append(age_range_used[-1]+1)\n",
    "                                ages = get_age_range(age_range_used)\n",
    "                            elif age_range_used[-1] == 85:\n",
    "                                age_range_used.insert(0,age_range_used[0]-1)\n",
    "                                ages = get_age_range(age_range_used)  \n",
    "                            else:\n",
    "                                age_range_used.insert(0,age_range_used[0]-1)\n",
    "                                age_range_used.append(age_range_used[-1]+1)\n",
    "                                ages = get_age_range(age_range_used)\n",
    "                                print('Error: Added 1 year to each end of the desired age range.')\n",
    "                    rand_indv = random.choice(ages)\n",
    "                    df_test['Individual 5'][i] = rand_indv #assigns chosen individual to the HH\n",
    "                    indv_list.remove(rand_indv)       \n",
    "    \n",
    "    \n",
    "    return len(indv_list),count                                    "
   ]
  },
  {
   "cell_type": "code",
   "execution_count": 85,
   "id": "7af62feb",
   "metadata": {},
   "outputs": [
    {
     "data": {
      "text/plain": [
       "(302, 0)"
      ]
     },
     "execution_count": 85,
     "metadata": {},
     "output_type": "execute_result"
    }
   ],
   "source": [
    "assign_indv5('Household composition : Other household types\\ All aged 65 and over - Unit : Households')\n"
   ]
  },
  {
   "cell_type": "code",
   "execution_count": 86,
   "id": "c5ebefef",
   "metadata": {},
   "outputs": [
    {
     "data": {
      "text/plain": [
       "(300, 2)"
      ]
     },
     "execution_count": 86,
     "metadata": {},
     "output_type": "execute_result"
    }
   ],
   "source": [
    "assign_indv5('Household composition : One family only\\ Lone parent\\ Two or more dependent children - Unit : Households')\n"
   ]
  },
  {
   "cell_type": "code",
   "execution_count": 87,
   "id": "d8a2ee82",
   "metadata": {},
   "outputs": [
    {
     "name": "stdout",
     "output_type": "stream",
     "text": [
      "Error: Added 1 year to each end of the desired age range.\n",
      "Error: Added 1 year to each end of the desired age range.\n",
      "Error: Added 1 year to each end of the desired age range.\n",
      "Error: Added 1 year to each end of the desired age range.\n",
      "Error: Added 1 year to each end of the desired age range.\n",
      "Error: Added 1 year to each end of the desired age range.\n",
      "Error: Added 1 year to each end of the desired age range.\n",
      "Error: Added 1 year to each end of the desired age range.\n",
      "Error: Added 1 year to each end of the desired age range.\n"
     ]
    },
    {
     "data": {
      "text/plain": [
       "(265, 35)"
      ]
     },
     "execution_count": 87,
     "metadata": {},
     "output_type": "execute_result"
    }
   ],
   "source": [
    "assign_indv5('Household composition : One family only\\ Married couple\\ Two or more dependent children - Unit : Households')\n"
   ]
  },
  {
   "cell_type": "code",
   "execution_count": 88,
   "id": "0380122e",
   "metadata": {},
   "outputs": [
    {
     "data": {
      "text/plain": [
       "(265, 0)"
      ]
     },
     "execution_count": 88,
     "metadata": {},
     "output_type": "execute_result"
    }
   ],
   "source": [
    "assign_indv5('Household composition : One family only\\ Same-sex civil partnership couple\\ Two or more dependent children - Unit : Households')\n"
   ]
  },
  {
   "cell_type": "code",
   "execution_count": 89,
   "id": "0558233f",
   "metadata": {},
   "outputs": [
    {
     "name": "stdout",
     "output_type": "stream",
     "text": [
      "Error: Added 1 year to each end of the desired age range.\n",
      "Error: Added 1 year to each end of the desired age range.\n",
      "Error: Added 1 year to each end of the desired age range.\n",
      "Error: Added 1 year to each end of the desired age range.\n",
      "Error: Added 1 year to each end of the desired age range.\n",
      "Error: Added 1 year to each end of the desired age range.\n",
      "Error: Added 1 year to each end of the desired age range.\n",
      "Error: Added 1 year to each end of the desired age range.\n",
      "Error: Added 1 year to each end of the desired age range.\n",
      "Error: Added 1 year to each end of the desired age range.\n",
      "Error: Added 1 year to each end of the desired age range.\n",
      "Error: Added 1 year to each end of the desired age range.\n",
      "Error: Added 1 year to each end of the desired age range.\n"
     ]
    },
    {
     "data": {
      "text/plain": [
       "(261, 4)"
      ]
     },
     "execution_count": 89,
     "metadata": {},
     "output_type": "execute_result"
    }
   ],
   "source": [
    "assign_indv5('Household composition : One family only\\ Cohabiting couple\\ Two or more dependent children - Unit : Households')\n"
   ]
  },
  {
   "cell_type": "code",
   "execution_count": 90,
   "id": "c6c4310a",
   "metadata": {},
   "outputs": [
    {
     "name": "stdout",
     "output_type": "stream",
     "text": [
      "Error: Added 1 year to each end of the desired age range.\n",
      "Error: Added 1 year to each end of the desired age range.\n",
      "Error: Added 1 year to each end of the desired age range.\n"
     ]
    },
    {
     "data": {
      "text/plain": [
       "(253, 8)"
      ]
     },
     "execution_count": 90,
     "metadata": {},
     "output_type": "execute_result"
    }
   ],
   "source": [
    "assign_indv5('Household composition : One family only\\ Married couple\\ All children non-dependent - Unit : Households')\n"
   ]
  },
  {
   "cell_type": "code",
   "execution_count": 91,
   "id": "c4633c4b",
   "metadata": {},
   "outputs": [
    {
     "data": {
      "text/plain": [
       "(253, 0)"
      ]
     },
     "execution_count": 91,
     "metadata": {},
     "output_type": "execute_result"
    }
   ],
   "source": [
    "assign_indv5('Household composition : One family only\\ Same-sex civil partnership couple\\ All children non-dependent - Unit : Households')\n"
   ]
  },
  {
   "cell_type": "code",
   "execution_count": 92,
   "id": "a075a5bc",
   "metadata": {},
   "outputs": [
    {
     "data": {
      "text/plain": [
       "(253, 0)"
      ]
     },
     "execution_count": 92,
     "metadata": {},
     "output_type": "execute_result"
    }
   ],
   "source": [
    "assign_indv5('Household composition : One family only\\ Cohabiting couple\\ All children non-dependent - Unit : Households')\n"
   ]
  },
  {
   "cell_type": "code",
   "execution_count": 93,
   "id": "b019ec0d",
   "metadata": {},
   "outputs": [
    {
     "name": "stdout",
     "output_type": "stream",
     "text": [
      "Error: Added 1 year to each end of the desired age range.\n",
      "Error: Added 1 year to each end of the desired age range.\n",
      "Error: Added 1 year to each end of the desired age range.\n",
      "Error: Added 1 year to each end of the desired age range.\n",
      "Error: Added 1 year to each end of the desired age range.\n",
      "Error: Added 1 year to each end of the desired age range.\n"
     ]
    },
    {
     "data": {
      "text/plain": [
       "(251, 2)"
      ]
     },
     "execution_count": 93,
     "metadata": {},
     "output_type": "execute_result"
    }
   ],
   "source": [
    "assign_indv5('Household composition : One family only\\ Lone parent\\ All children non-dependent - Unit : Households')\n"
   ]
  },
  {
   "cell_type": "code",
   "execution_count": 94,
   "id": "bb3806d6",
   "metadata": {},
   "outputs": [
    {
     "data": {
      "text/plain": [
       "(251, 0)"
      ]
     },
     "execution_count": 94,
     "metadata": {},
     "output_type": "execute_result"
    }
   ],
   "source": [
    "assign_indv5('Household composition : Other household types\\ With one dependent child - Unit : Households')\n"
   ]
  },
  {
   "cell_type": "code",
   "execution_count": 95,
   "id": "4c2180f9",
   "metadata": {},
   "outputs": [
    {
     "name": "stdout",
     "output_type": "stream",
     "text": [
      "Error: Added 1 year to each end of the desired age range.\n",
      "Error: Added 1 year to each end of the desired age range.\n",
      "Error: Added 1 year to each end of the desired age range.\n",
      "Error: Added 1 year to each end of the desired age range.\n",
      "Error: Added 1 year to each end of the desired age range.\n",
      "Error: Added 1 year to each end of the desired age range.\n",
      "Error: Added 1 year to each end of the desired age range.\n",
      "Error: Added 1 year to each end of the desired age range.\n",
      "Error: Added 1 year to each end of the desired age range.\n",
      "Error: Added 1 year to each end of the desired age range.\n",
      "Error: Added 1 year to each end of the desired age range.\n",
      "Error: Added 1 year to each end of the desired age range.\n"
     ]
    },
    {
     "data": {
      "text/plain": [
       "(250, 1)"
      ]
     },
     "execution_count": 95,
     "metadata": {},
     "output_type": "execute_result"
    }
   ],
   "source": [
    "assign_indv5('Household composition : Other household types\\ With two or more dependent children - Unit : Households')\n"
   ]
  },
  {
   "cell_type": "code",
   "execution_count": 96,
   "id": "cc0db0a4",
   "metadata": {},
   "outputs": [
    {
     "data": {
      "text/plain": [
       "(249, 1)"
      ]
     },
     "execution_count": 96,
     "metadata": {},
     "output_type": "execute_result"
    }
   ],
   "source": [
    "assign_indv5('Household composition : Other household types\\ All full-time students - Unit : Households')\n"
   ]
  },
  {
   "cell_type": "code",
   "execution_count": 97,
   "id": "60ea95e9",
   "metadata": {},
   "outputs": [
    {
     "data": {
      "text/plain": [
       "(237, 12)"
      ]
     },
     "execution_count": 97,
     "metadata": {},
     "output_type": "execute_result"
    }
   ],
   "source": [
    "assign_indv5('Household composition : Other household types\\ Other - Unit : Households')\n"
   ]
  },
  {
   "cell_type": "code",
   "execution_count": 98,
   "id": "41d022d9",
   "metadata": {},
   "outputs": [],
   "source": [
    "def assign_indv6(HHcomp):\n",
    "    '''Assigns individuals to the 6 person Households in column 'Individual 6'.'''\n",
    "    count = 0\n",
    "    for i in range(len(df_test)):\n",
    "        if (df_test['Household Size'][i] == 'Household size : 6 people in household - Unit : Household spaces') or (df_test['Household Size'][i] == 'Household size : 7 people in household - Unit : Household spaces') or (df_test['Household Size'][i] == 'Household size : 8 people in household - Unit : Household spaces'):\n",
    "            if (df_test['Household Composition'][i] == HHcomp) and (df_test['Individual 6'][i] == '0'):\n",
    "                if HHcomp == 'Household composition : Other household types\\ All aged 65 and over - Unit : Households':\n",
    "                    count += 1\n",
    "                    age_range_used = list(range(65,86)) #any age of over 65 can be with any other over 65\n",
    "                    ages = get_age_range(age_range_used)\n",
    "                    if ages == []:\n",
    "                        print('Error: Not enough over 65s. Need to fix the age range of another HH.')\n",
    "                    rand_indv = random.choice(ages)\n",
    "                    df_test['Individual 6'][i] = rand_indv #assigns chosen individual to the HH\n",
    "                    indv_list.remove(rand_indv)\n",
    "                    \n",
    "                    \n",
    "                if (HHcomp == 'Household composition : One family only\\ Lone parent\\ Two or more dependent children - Unit : Households') or (HHcomp == 'Household composition : One family only\\ Lone parent\\ All children non-dependent - Unit : Households'): \n",
    "                    initial_age = int(df_test['Individual 2'][i][10:12].strip()) #this is where the age is found in the string\n",
    "                    count += 1\n",
    "                    age_range_used = list(range(initial_age-35,initial_age-25)) #assigns another dependent aged child to HH\n",
    "                    ages = get_age_range(age_range_used)\n",
    "                    if ages == []:\n",
    "                        while ages == []:\n",
    "                            if age_range_used[0] == 0:\n",
    "                                age_range_used.append(age_range_used[-1]+1)\n",
    "                                ages = get_age_range(age_range_used)\n",
    "                            elif age_range_used[-1] == 85:\n",
    "                                age_range_used.insert(0,age_range_used[0]-1)\n",
    "                                ages = get_age_range(age_range_used)\n",
    "                            else:\n",
    "                                age_range_used.insert(0,age_range_used[0]-1)\n",
    "                                age_range_used.append(age_range_used[-1]+1)\n",
    "                                ages = get_age_range(age_range_used)\n",
    "                                print('Error: Added 1 year to each end of the desired age range.')\n",
    "                    rand_indv = random.choice(ages)\n",
    "                    df_test['Individual 6'][i] = rand_indv #assigns chosen individual to the HH\n",
    "                    indv_list.remove(rand_indv)\n",
    "                    \n",
    "                    \n",
    "                if (HHcomp == 'Household composition : One family only\\ Married couple\\ Two or more dependent children - Unit : Households') or (HHcomp == 'Household composition : One family only\\ Cohabiting couple\\ Two or more dependent children - Unit : Households') or (HHcomp == 'Household composition : One family only\\ Married couple\\ All children non-dependent - Unit : Households') or (HHcomp == 'Household composition : One family only\\ Cohabiting couple\\ All children non-dependent - Unit : Households') or (HHcomp == 'Household composition : One family only\\ Same-sex civil partnership couple\\ Two or more dependent children - Unit : Households') or (HHcomp == 'Household composition : One family only\\ Same-sex civil partnership couple\\ All children non-dependent - Unit : Households'):\n",
    "                    initial_age = int(df_test['Individual 2'][i][10:12]) #this is where the age is found in the string\n",
    "                    count += 1\n",
    "                    age_range_used = list(range(initial_age-35,initial_age-25)) #assigns another dependent aged child to HH\n",
    "                    ages = get_age_range(age_range_used) \n",
    "                    if ages == []:\n",
    "                        while ages == []:\n",
    "                            if age_range_used[0] == 0:\n",
    "                                age_range_used.append(age_range_used[-1]+1)\n",
    "                                ages = get_age_range(age_range_used)\n",
    "                                print('Error: Added 1 year to end of the desired age range.')\n",
    "                            elif age_range_used[-1] == 85:\n",
    "                                age_range_used.insert(0,age_range_used[0]-1)\n",
    "                                ages = get_age_range(age_range_used)   \n",
    "                            else:\n",
    "                                age_range_used.insert(0,age_range_used[0]-1)\n",
    "                                age_range_used.append(age_range_used[-1]+1)\n",
    "                                ages = get_age_range(age_range_used)\n",
    "                                print('Error: Added 1 year to each end of the desired age range.')\n",
    "                    rand_indv = random.choice(ages)\n",
    "                    df_test['Individual 6'][i] = rand_indv\n",
    "                    indv_list.remove(rand_indv)\n",
    "            \n",
    "   \n",
    "                if HHcomp == 'Household composition : Other household types\\ With two or more dependent children - Unit : Households':\n",
    "                    initial_age = int(df_test['Individual 2'][i][10:12]) #this is where the age is found in the string\n",
    "                    count += 1\n",
    "                    age_range_used = list(range(initial_age-35,initial_age-25)) #assigns another dependent aged child to HH\n",
    "                    ages = get_age_range(age_range_used)\n",
    "                    if ages == []:\n",
    "                        while ages == []:\n",
    "                            if age_range_used[0] == 0:\n",
    "                                age_range_used.append(age_range_used[-1]+1)\n",
    "                                ages = get_age_range(age_range_used)\n",
    "                            elif age_range_used[-1] == 85:\n",
    "                                age_range_used.insert(0,age_range_used[0]-1)\n",
    "                                ages = get_age_range(age_range_used)\n",
    "                            else:\n",
    "                                age_range_used.insert(0,age_range_used[0]-1)\n",
    "                                age_range_used.append(age_range_used[-1]+1)\n",
    "                                ages = get_age_range(age_range_used)\n",
    "                                print('Error: Added 1 year to each end of the desired age range.')\n",
    "                    rand_indv = random.choice(ages)\n",
    "                    df_test['Individual 6'][i] = rand_indv #assigns chosen individual to the HH\n",
    "                    indv_list.remove(rand_indv)                \n",
    "                \n",
    "                \n",
    "                if HHcomp == 'Household composition : Other household types\\ All full-time students - Unit : Households':\n",
    "                    count += 1\n",
    "                    age_range_used = list(range(18,30)) #any age of student can be with any other age of student\n",
    "                    ages = get_age_range(age_range_used)\n",
    "                    if ages == []:\n",
    "                        while ages == []:\n",
    "                            if age_range_used[0] == 0:\n",
    "                                age_range_used.append(age_range_used[-1]+1)\n",
    "                                ages = get_age_range(age_range_used)\n",
    "                            elif age_range_used[-1] == 85:\n",
    "                                age_range_used.insert(0,age_range_used[0]-1)\n",
    "                                ages = get_age_range(age_range_used)   \n",
    "                            else:\n",
    "                                age_range_used.insert(0,age_range_used[0]-1)\n",
    "                                age_range_used.append(age_range_used[-1]+1)\n",
    "                                ages = get_age_range(age_range_used)\n",
    "                                print('Error: Added 1 year to each end of the desired age range.')\n",
    "                    rand_indv = random.choice(ages)\n",
    "                    df_test['Individual 6'][i] = rand_indv #assigns chosen individual to the HH\n",
    "                    indv_list.remove(rand_indv)                \n",
    "                \n",
    "     \n",
    "                if (HHcomp == 'Household composition : Other household types\\ With one dependent child - Unit : Households') or (HHcomp == 'Household composition : Other household types\\ Other - Unit : Households'):\n",
    "                    count += 1\n",
    "                    age_range_used = list(range(18,86)) #basically uses the left over ages\n",
    "                    ages = get_age_range(age_range_used) #likely some sort of non-students flatmate situation\n",
    "                    if ages == []:\n",
    "                        while ages == []:\n",
    "                            if age_range_used[0] == 0:\n",
    "                                age_range_used.append(age_range_used[-1]+1)\n",
    "                                ages = get_age_range(age_range_used)\n",
    "                            elif age_range_used[-1] == 85:\n",
    "                                age_range_used.insert(0,age_range_used[0]-1)\n",
    "                                ages = get_age_range(age_range_used)  \n",
    "                            else:\n",
    "                                age_range_used.insert(0,age_range_used[0]-1)\n",
    "                                age_range_used.append(age_range_used[-1]+1)\n",
    "                                ages = get_age_range(age_range_used)\n",
    "                                print('Error: Added 1 year to each end of the desired age range.')\n",
    "                    rand_indv = random.choice(ages)\n",
    "                    df_test['Individual 6'][i] = rand_indv #assigns chosen individual to the HH\n",
    "                    indv_list.remove(rand_indv)       \n",
    "    \n",
    "    \n",
    "    return len(indv_list),count                                    "
   ]
  },
  {
   "cell_type": "code",
   "execution_count": 99,
   "id": "77f0a7f3",
   "metadata": {},
   "outputs": [
    {
     "data": {
      "text/plain": [
       "(237, 0)"
      ]
     },
     "execution_count": 99,
     "metadata": {},
     "output_type": "execute_result"
    }
   ],
   "source": [
    "assign_indv6('Household composition : Other household types\\ All aged 65 and over - Unit : Households')\n"
   ]
  },
  {
   "cell_type": "code",
   "execution_count": 100,
   "id": "651e862a",
   "metadata": {},
   "outputs": [
    {
     "name": "stdout",
     "output_type": "stream",
     "text": [
      "Error: Added 1 year to each end of the desired age range.\n",
      "Error: Added 1 year to each end of the desired age range.\n",
      "Error: Added 1 year to each end of the desired age range.\n",
      "Error: Added 1 year to each end of the desired age range.\n"
     ]
    },
    {
     "data": {
      "text/plain": [
       "(236, 1)"
      ]
     },
     "execution_count": 100,
     "metadata": {},
     "output_type": "execute_result"
    }
   ],
   "source": [
    "assign_indv6('Household composition : One family only\\ Lone parent\\ Two or more dependent children - Unit : Households')\n"
   ]
  },
  {
   "cell_type": "code",
   "execution_count": 101,
   "id": "1e2def9f",
   "metadata": {},
   "outputs": [
    {
     "name": "stdout",
     "output_type": "stream",
     "text": [
      "Error: Added 1 year to each end of the desired age range.\n",
      "Error: Added 1 year to each end of the desired age range.\n",
      "Error: Added 1 year to each end of the desired age range.\n",
      "Error: Added 1 year to each end of the desired age range.\n",
      "Error: Added 1 year to each end of the desired age range.\n",
      "Error: Added 1 year to each end of the desired age range.\n",
      "Error: Added 1 year to each end of the desired age range.\n",
      "Error: Added 1 year to each end of the desired age range.\n",
      "Error: Added 1 year to end of the desired age range.\n",
      "Error: Added 1 year to each end of the desired age range.\n",
      "Error: Added 1 year to each end of the desired age range.\n",
      "Error: Added 1 year to each end of the desired age range.\n",
      "Error: Added 1 year to each end of the desired age range.\n",
      "Error: Added 1 year to each end of the desired age range.\n",
      "Error: Added 1 year to each end of the desired age range.\n",
      "Error: Added 1 year to each end of the desired age range.\n",
      "Error: Added 1 year to each end of the desired age range.\n",
      "Error: Added 1 year to each end of the desired age range.\n",
      "Error: Added 1 year to each end of the desired age range.\n",
      "Error: Added 1 year to each end of the desired age range.\n",
      "Error: Added 1 year to each end of the desired age range.\n",
      "Error: Added 1 year to each end of the desired age range.\n",
      "Error: Added 1 year to each end of the desired age range.\n",
      "Error: Added 1 year to each end of the desired age range.\n",
      "Error: Added 1 year to each end of the desired age range.\n",
      "Error: Added 1 year to each end of the desired age range.\n",
      "Error: Added 1 year to each end of the desired age range.\n",
      "Error: Added 1 year to each end of the desired age range.\n",
      "Error: Added 1 year to each end of the desired age range.\n",
      "Error: Added 1 year to each end of the desired age range.\n",
      "Error: Added 1 year to each end of the desired age range.\n",
      "Error: Added 1 year to each end of the desired age range.\n",
      "Error: Added 1 year to each end of the desired age range.\n",
      "Error: Added 1 year to each end of the desired age range.\n",
      "Error: Added 1 year to each end of the desired age range.\n",
      "Error: Added 1 year to each end of the desired age range.\n",
      "Error: Added 1 year to each end of the desired age range.\n",
      "Error: Added 1 year to each end of the desired age range.\n",
      "Error: Added 1 year to each end of the desired age range.\n",
      "Error: Added 1 year to each end of the desired age range.\n",
      "Error: Added 1 year to each end of the desired age range.\n",
      "Error: Added 1 year to each end of the desired age range.\n",
      "Error: Added 1 year to each end of the desired age range.\n",
      "Error: Added 1 year to each end of the desired age range.\n",
      "Error: Added 1 year to each end of the desired age range.\n",
      "Error: Added 1 year to each end of the desired age range.\n",
      "Error: Added 1 year to each end of the desired age range.\n"
     ]
    },
    {
     "data": {
      "text/plain": [
       "(220, 16)"
      ]
     },
     "execution_count": 101,
     "metadata": {},
     "output_type": "execute_result"
    }
   ],
   "source": [
    "assign_indv6('Household composition : One family only\\ Married couple\\ Two or more dependent children - Unit : Households')\n"
   ]
  },
  {
   "cell_type": "code",
   "execution_count": 102,
   "id": "bab63e22",
   "metadata": {},
   "outputs": [
    {
     "data": {
      "text/plain": [
       "(220, 0)"
      ]
     },
     "execution_count": 102,
     "metadata": {},
     "output_type": "execute_result"
    }
   ],
   "source": [
    "assign_indv6('Household composition : One family only\\ Same-sex civil partnership couple\\ Two or more dependent children - Unit : Households')\n"
   ]
  },
  {
   "cell_type": "code",
   "execution_count": 103,
   "id": "07f024fb",
   "metadata": {},
   "outputs": [
    {
     "name": "stdout",
     "output_type": "stream",
     "text": [
      "Error: Added 1 year to each end of the desired age range.\n",
      "Error: Added 1 year to each end of the desired age range.\n",
      "Error: Added 1 year to each end of the desired age range.\n",
      "Error: Added 1 year to each end of the desired age range.\n"
     ]
    },
    {
     "data": {
      "text/plain": [
       "(219, 1)"
      ]
     },
     "execution_count": 103,
     "metadata": {},
     "output_type": "execute_result"
    }
   ],
   "source": [
    "assign_indv6('Household composition : One family only\\ Cohabiting couple\\ Two or more dependent children - Unit : Households')\n"
   ]
  },
  {
   "cell_type": "code",
   "execution_count": 104,
   "id": "025ace76",
   "metadata": {},
   "outputs": [
    {
     "name": "stdout",
     "output_type": "stream",
     "text": [
      "Error: Added 1 year to each end of the desired age range.\n",
      "Error: Added 1 year to each end of the desired age range.\n",
      "Error: Added 1 year to each end of the desired age range.\n"
     ]
    },
    {
     "data": {
      "text/plain": [
       "(215, 4)"
      ]
     },
     "execution_count": 104,
     "metadata": {},
     "output_type": "execute_result"
    }
   ],
   "source": [
    "assign_indv6('Household composition : One family only\\ Married couple\\ All children non-dependent - Unit : Households')\n"
   ]
  },
  {
   "cell_type": "code",
   "execution_count": 105,
   "id": "1b54ba28",
   "metadata": {},
   "outputs": [
    {
     "data": {
      "text/plain": [
       "(215, 0)"
      ]
     },
     "execution_count": 105,
     "metadata": {},
     "output_type": "execute_result"
    }
   ],
   "source": [
    "assign_indv6('Household composition : One family only\\ Same-sex civil partnership couple\\ All children non-dependent - Unit : Households')\n"
   ]
  },
  {
   "cell_type": "code",
   "execution_count": 106,
   "id": "c81f6d52",
   "metadata": {},
   "outputs": [
    {
     "data": {
      "text/plain": [
       "(215, 0)"
      ]
     },
     "execution_count": 106,
     "metadata": {},
     "output_type": "execute_result"
    }
   ],
   "source": [
    "assign_indv6('Household composition : One family only\\ Cohabiting couple\\ All children non-dependent - Unit : Households')\n"
   ]
  },
  {
   "cell_type": "code",
   "execution_count": 107,
   "id": "4d7bc0e4",
   "metadata": {},
   "outputs": [
    {
     "name": "stdout",
     "output_type": "stream",
     "text": [
      "Error: Added 1 year to each end of the desired age range.\n",
      "Error: Added 1 year to each end of the desired age range.\n",
      "Error: Added 1 year to each end of the desired age range.\n",
      "Error: Added 1 year to each end of the desired age range.\n"
     ]
    },
    {
     "data": {
      "text/plain": [
       "(214, 1)"
      ]
     },
     "execution_count": 107,
     "metadata": {},
     "output_type": "execute_result"
    }
   ],
   "source": [
    "assign_indv6('Household composition : One family only\\ Lone parent\\ All children non-dependent - Unit : Households')\n"
   ]
  },
  {
   "cell_type": "code",
   "execution_count": 108,
   "id": "65bc43e9",
   "metadata": {},
   "outputs": [
    {
     "data": {
      "text/plain": [
       "(214, 0)"
      ]
     },
     "execution_count": 108,
     "metadata": {},
     "output_type": "execute_result"
    }
   ],
   "source": [
    "assign_indv6('Household composition : Other household types\\ With one dependent child - Unit : Households')\n"
   ]
  },
  {
   "cell_type": "code",
   "execution_count": 109,
   "id": "d89758e1",
   "metadata": {},
   "outputs": [
    {
     "data": {
      "text/plain": [
       "(214, 0)"
      ]
     },
     "execution_count": 109,
     "metadata": {},
     "output_type": "execute_result"
    }
   ],
   "source": [
    "assign_indv6('Household composition : Other household types\\ With two or more dependent children - Unit : Households')\n"
   ]
  },
  {
   "cell_type": "code",
   "execution_count": 110,
   "id": "224dd7f4",
   "metadata": {},
   "outputs": [
    {
     "data": {
      "text/plain": [
       "(214, 0)"
      ]
     },
     "execution_count": 110,
     "metadata": {},
     "output_type": "execute_result"
    }
   ],
   "source": [
    "assign_indv6('Household composition : Other household types\\ All full-time students - Unit : Households')\n"
   ]
  },
  {
   "cell_type": "code",
   "execution_count": 111,
   "id": "4f55e852",
   "metadata": {},
   "outputs": [
    {
     "data": {
      "text/plain": [
       "(208, 6)"
      ]
     },
     "execution_count": 111,
     "metadata": {},
     "output_type": "execute_result"
    }
   ],
   "source": [
    "assign_indv6('Household composition : Other household types\\ Other - Unit : Households')\n"
   ]
  },
  {
   "cell_type": "code",
   "execution_count": 112,
   "id": "1a955056",
   "metadata": {},
   "outputs": [],
   "source": [
    "def assign_indv7(HHcomp):\n",
    "    '''Assigns individuals to the 7 person Households in column 'Individual 7'.'''\n",
    "    count = 0\n",
    "    for i in range(len(df_test)):\n",
    "        if (df_test['Household Size'][i] == 'Household size : 7 people in household - Unit : Household spaces') or (df_test['Household Size'][i] == 'Household size : 8 people in household - Unit : Household spaces'):\n",
    "            if (df_test['Household Composition'][i] == HHcomp) and (df_test['Individual 7'][i] == '0'):\n",
    "                if HHcomp == 'Household composition : Other household types\\ All aged 65 and over - Unit : Households':\n",
    "                    count += 1\n",
    "                    age_range_used = list(range(65,86)) #any age of over 65 can be with any other over 65\n",
    "                    ages = get_age_range(age_range_used)\n",
    "                    if ages == []:\n",
    "                        print('Error: Not enough over 65s. Need to fix the age range of another HH.')\n",
    "                    rand_indv = random.choice(ages)\n",
    "                    df_test['Individual 7'][i] = rand_indv #assigns chosen individual to the HH\n",
    "                    indv_list.remove(rand_indv)\n",
    "                    \n",
    "                    \n",
    "                if (HHcomp == 'Household composition : One family only\\ Lone parent\\ Two or more dependent children - Unit : Households') or (HHcomp == 'Household composition : One family only\\ Lone parent\\ All children non-dependent - Unit : Households'): \n",
    "                    initial_age = int(df_test['Individual 2'][i][10:12].strip()) #this is where the age is found in the string\n",
    "                    count += 1\n",
    "                    age_range_used = list(range(initial_age-35,initial_age-25)) #assigns another dependent aged child to HH\n",
    "                    ages = get_age_range(age_range_used)\n",
    "                    if ages == []:\n",
    "                        while ages == []:\n",
    "                            if age_range_used[0] == 0:\n",
    "                                age_range_used.append(age_range_used[-1]+1)\n",
    "                                ages = get_age_range(age_range_used)\n",
    "                            elif age_range_used[-1] == 85:\n",
    "                                age_range_used.insert(0,age_range_used[0]-1)\n",
    "                                ages = get_age_range(age_range_used)\n",
    "                            else:\n",
    "                                age_range_used.insert(0,age_range_used[0]-1)\n",
    "                                age_range_used.append(age_range_used[-1]+1)\n",
    "                                ages = get_age_range(age_range_used)\n",
    "                                print('Error: Added 1 year to each end of the desired age range.')\n",
    "                    rand_indv = random.choice(ages)\n",
    "                    df_test['Individual 7'][i] = rand_indv #assigns chosen individual to the HH\n",
    "                    indv_list.remove(rand_indv)\n",
    "                    \n",
    "                    \n",
    "                if (HHcomp == 'Household composition : One family only\\ Married couple\\ Two or more dependent children - Unit : Households') or (HHcomp == 'Household composition : One family only\\ Cohabiting couple\\ Two or more dependent children - Unit : Households') or (HHcomp == 'Household composition : One family only\\ Married couple\\ All children non-dependent - Unit : Households') or (HHcomp == 'Household composition : One family only\\ Cohabiting couple\\ All children non-dependent - Unit : Households') or (HHcomp == 'Household composition : One family only\\ Same-sex civil partnership couple\\ Two or more dependent children - Unit : Households') or (HHcomp == 'Household composition : One family only\\ Same-sex civil partnership couple\\ All children non-dependent - Unit : Households'):\n",
    "                    initial_age = int(df_test['Individual 2'][i][10:12]) #this is where the age is found in the string\n",
    "                    count += 1\n",
    "                    age_range_used = list(range(initial_age-35,initial_age-25)) #assigns another dependent aged child to HH\n",
    "                    ages = get_age_range(age_range_used) \n",
    "                    if ages == []:\n",
    "                        while ages == []:\n",
    "                            if age_range_used[0] == 0:\n",
    "                                age_range_used.append(age_range_used[-1]+1)\n",
    "                                ages = get_age_range(age_range_used)\n",
    "                                print('Error: Added 1 year to end of the desired age range.')\n",
    "                            elif age_range_used[-1] == 85:\n",
    "                                age_range_used.insert(0,age_range_used[0]-1)\n",
    "                                ages = get_age_range(age_range_used)   \n",
    "                            else:\n",
    "                                age_range_used.insert(0,age_range_used[0]-1)\n",
    "                                age_range_used.append(age_range_used[-1]+1)\n",
    "                                ages = get_age_range(age_range_used)\n",
    "                                print('Error: Added 1 year to each end of the desired age range.')\n",
    "                    rand_indv = random.choice(ages)\n",
    "                    df_test['Individual 7'][i] = rand_indv\n",
    "                    indv_list.remove(rand_indv)\n",
    "            \n",
    "   \n",
    "                if HHcomp == 'Household composition : Other household types\\ With two or more dependent children - Unit : Households':\n",
    "                    initial_age = int(df_test['Individual 2'][i][10:12]) #this is where the age is found in the string\n",
    "                    count += 1\n",
    "                    age_range_used = list(range(initial_age-35,initial_age-25)) #assigns another dependent aged child to HH\n",
    "                    ages = get_age_range(age_range_used)\n",
    "                    if ages == []:\n",
    "                        while ages == []:\n",
    "                            if age_range_used[0] == 0:\n",
    "                                age_range_used.append(age_range_used[-1]+1)\n",
    "                                ages = get_age_range(age_range_used)\n",
    "                            elif age_range_used[-1] == 85:\n",
    "                                age_range_used.insert(0,age_range_used[0]-1)\n",
    "                                ages = get_age_range(age_range_used)\n",
    "                            else:\n",
    "                                age_range_used.insert(0,age_range_used[0]-1)\n",
    "                                age_range_used.append(age_range_used[-1]+1)\n",
    "                                ages = get_age_range(age_range_used)\n",
    "                                print('Error: Added 1 year to each end of the desired age range.')\n",
    "                    rand_indv = random.choice(ages)\n",
    "                    df_test['Individual 7'][i] = rand_indv #assigns chosen individual to the HH\n",
    "                    indv_list.remove(rand_indv)                \n",
    "                \n",
    "                \n",
    "                if HHcomp == 'Household composition : Other household types\\ All full-time students - Unit : Households':\n",
    "                    count += 1\n",
    "                    age_range_used = list(range(18,30)) #any age of student can be with any other age of student\n",
    "                    ages = get_age_range(age_range_used)\n",
    "                    if ages == []:\n",
    "                        while ages == []:\n",
    "                            if age_range_used[0] == 0:\n",
    "                                age_range_used.append(age_range_used[-1]+1)\n",
    "                                ages = get_age_range(age_range_used)\n",
    "                            elif age_range_used[-1] == 85:\n",
    "                                age_range_used.insert(0,age_range_used[0]-1)\n",
    "                                ages = get_age_range(age_range_used)   \n",
    "                            else:\n",
    "                                age_range_used.insert(0,age_range_used[0]-1)\n",
    "                                age_range_used.append(age_range_used[-1]+1)\n",
    "                                ages = get_age_range(age_range_used)\n",
    "                                print('Error: Added 1 year to each end of the desired age range.')\n",
    "                    rand_indv = random.choice(ages)\n",
    "                    df_test['Individual 7'][i] = rand_indv #assigns chosen individual to the HH\n",
    "                    indv_list.remove(rand_indv)                \n",
    "                \n",
    "     \n",
    "                if (HHcomp == 'Household composition : Other household types\\ With one dependent child - Unit : Households') or (HHcomp == 'Household composition : Other household types\\ Other - Unit : Households'):\n",
    "                    count += 1\n",
    "                    age_range_used = list(range(18,86)) #basically uses the left over ages\n",
    "                    ages = get_age_range(age_range_used) #likely some sort of non-students flatmate situation\n",
    "                    if ages == []:\n",
    "                        while ages == []:\n",
    "                            if age_range_used[0] == 0:\n",
    "                                age_range_used.append(age_range_used[-1]+1)\n",
    "                                ages = get_age_range(age_range_used)\n",
    "                            elif age_range_used[-1] == 85:\n",
    "                                age_range_used.insert(0,age_range_used[0]-1)\n",
    "                                ages = get_age_range(age_range_used)  \n",
    "                            else:\n",
    "                                age_range_used.insert(0,age_range_used[0]-1)\n",
    "                                age_range_used.append(age_range_used[-1]+1)\n",
    "                                ages = get_age_range(age_range_used)\n",
    "                                print('Error: Added 1 year to each end of the desired age range.')\n",
    "                    rand_indv = random.choice(ages)\n",
    "                    df_test['Individual 7'][i] = rand_indv #assigns chosen individual to the HH\n",
    "                    indv_list.remove(rand_indv)       \n",
    "    \n",
    "    \n",
    "    return len(indv_list),count                                    "
   ]
  },
  {
   "cell_type": "code",
   "execution_count": 113,
   "id": "4d07ce50",
   "metadata": {},
   "outputs": [
    {
     "data": {
      "text/plain": [
       "(208, 0)"
      ]
     },
     "execution_count": 113,
     "metadata": {},
     "output_type": "execute_result"
    }
   ],
   "source": [
    "assign_indv7('Household composition : Other household types\\ All aged 65 and over - Unit : Households')\n"
   ]
  },
  {
   "cell_type": "code",
   "execution_count": 114,
   "id": "ab5e4668",
   "metadata": {},
   "outputs": [
    {
     "data": {
      "text/plain": [
       "(208, 0)"
      ]
     },
     "execution_count": 114,
     "metadata": {},
     "output_type": "execute_result"
    }
   ],
   "source": [
    "assign_indv7('Household composition : One family only\\ Lone parent\\ Two or more dependent children - Unit : Households')\n"
   ]
  },
  {
   "cell_type": "code",
   "execution_count": 115,
   "id": "a9eda26e",
   "metadata": {},
   "outputs": [
    {
     "name": "stdout",
     "output_type": "stream",
     "text": [
      "Error: Added 1 year to each end of the desired age range.\n",
      "Error: Added 1 year to each end of the desired age range.\n",
      "Error: Added 1 year to each end of the desired age range.\n",
      "Error: Added 1 year to each end of the desired age range.\n",
      "Error: Added 1 year to each end of the desired age range.\n",
      "Error: Added 1 year to each end of the desired age range.\n",
      "Error: Added 1 year to each end of the desired age range.\n",
      "Error: Added 1 year to each end of the desired age range.\n",
      "Error: Added 1 year to each end of the desired age range.\n",
      "Error: Added 1 year to each end of the desired age range.\n",
      "Error: Added 1 year to each end of the desired age range.\n",
      "Error: Added 1 year to each end of the desired age range.\n",
      "Error: Added 1 year to each end of the desired age range.\n",
      "Error: Added 1 year to each end of the desired age range.\n",
      "Error: Added 1 year to each end of the desired age range.\n",
      "Error: Added 1 year to each end of the desired age range.\n",
      "Error: Added 1 year to each end of the desired age range.\n",
      "Error: Added 1 year to each end of the desired age range.\n",
      "Error: Added 1 year to each end of the desired age range.\n",
      "Error: Added 1 year to each end of the desired age range.\n",
      "Error: Added 1 year to each end of the desired age range.\n",
      "Error: Added 1 year to each end of the desired age range.\n",
      "Error: Added 1 year to each end of the desired age range.\n",
      "Error: Added 1 year to each end of the desired age range.\n",
      "Error: Added 1 year to each end of the desired age range.\n",
      "Error: Added 1 year to each end of the desired age range.\n",
      "Error: Added 1 year to each end of the desired age range.\n",
      "Error: Added 1 year to each end of the desired age range.\n",
      "Error: Added 1 year to each end of the desired age range.\n",
      "Error: Added 1 year to each end of the desired age range.\n",
      "Error: Added 1 year to each end of the desired age range.\n",
      "Error: Added 1 year to each end of the desired age range.\n",
      "Error: Added 1 year to each end of the desired age range.\n",
      "Error: Added 1 year to each end of the desired age range.\n"
     ]
    },
    {
     "data": {
      "text/plain": [
       "(201, 7)"
      ]
     },
     "execution_count": 115,
     "metadata": {},
     "output_type": "execute_result"
    }
   ],
   "source": [
    "assign_indv7('Household composition : One family only\\ Married couple\\ Two or more dependent children - Unit : Households')\n"
   ]
  },
  {
   "cell_type": "code",
   "execution_count": 116,
   "id": "ce1d733d",
   "metadata": {},
   "outputs": [
    {
     "data": {
      "text/plain": [
       "(201, 0)"
      ]
     },
     "execution_count": 116,
     "metadata": {},
     "output_type": "execute_result"
    }
   ],
   "source": [
    "assign_indv7('Household composition : One family only\\ Same-sex civil partnership couple\\ Two or more dependent children - Unit : Households')\n"
   ]
  },
  {
   "cell_type": "code",
   "execution_count": 117,
   "id": "845799d1",
   "metadata": {},
   "outputs": [
    {
     "data": {
      "text/plain": [
       "(201, 0)"
      ]
     },
     "execution_count": 117,
     "metadata": {},
     "output_type": "execute_result"
    }
   ],
   "source": [
    "assign_indv7('Household composition : One family only\\ Cohabiting couple\\ Two or more dependent children - Unit : Households')\n"
   ]
  },
  {
   "cell_type": "code",
   "execution_count": 118,
   "id": "3e0606ca",
   "metadata": {},
   "outputs": [
    {
     "data": {
      "text/plain": [
       "(199, 2)"
      ]
     },
     "execution_count": 118,
     "metadata": {},
     "output_type": "execute_result"
    }
   ],
   "source": [
    "assign_indv7('Household composition : One family only\\ Married couple\\ All children non-dependent - Unit : Households')\n"
   ]
  },
  {
   "cell_type": "code",
   "execution_count": 119,
   "id": "11c60590",
   "metadata": {},
   "outputs": [
    {
     "data": {
      "text/plain": [
       "(199, 0)"
      ]
     },
     "execution_count": 119,
     "metadata": {},
     "output_type": "execute_result"
    }
   ],
   "source": [
    "assign_indv7('Household composition : One family only\\ Same-sex civil partnership couple\\ All children non-dependent - Unit : Households')\n"
   ]
  },
  {
   "cell_type": "code",
   "execution_count": 120,
   "id": "a63ac2b0",
   "metadata": {},
   "outputs": [
    {
     "data": {
      "text/plain": [
       "(199, 0)"
      ]
     },
     "execution_count": 120,
     "metadata": {},
     "output_type": "execute_result"
    }
   ],
   "source": [
    "assign_indv7('Household composition : One family only\\ Cohabiting couple\\ All children non-dependent - Unit : Households')\n"
   ]
  },
  {
   "cell_type": "code",
   "execution_count": 121,
   "id": "c9c28aeb",
   "metadata": {},
   "outputs": [
    {
     "data": {
      "text/plain": [
       "(199, 0)"
      ]
     },
     "execution_count": 121,
     "metadata": {},
     "output_type": "execute_result"
    }
   ],
   "source": [
    "assign_indv7('Household composition : One family only\\ Lone parent\\ All children non-dependent - Unit : Households')\n"
   ]
  },
  {
   "cell_type": "code",
   "execution_count": 122,
   "id": "1b9a4220",
   "metadata": {},
   "outputs": [
    {
     "data": {
      "text/plain": [
       "(199, 0)"
      ]
     },
     "execution_count": 122,
     "metadata": {},
     "output_type": "execute_result"
    }
   ],
   "source": [
    "assign_indv7('Household composition : Other household types\\ With one dependent child - Unit : Households')\n"
   ]
  },
  {
   "cell_type": "code",
   "execution_count": 123,
   "id": "47b6b4a0",
   "metadata": {},
   "outputs": [
    {
     "data": {
      "text/plain": [
       "(199, 0)"
      ]
     },
     "execution_count": 123,
     "metadata": {},
     "output_type": "execute_result"
    }
   ],
   "source": [
    "assign_indv7('Household composition : Other household types\\ With two or more dependent children - Unit : Households')\n"
   ]
  },
  {
   "cell_type": "code",
   "execution_count": 124,
   "id": "028e83ab",
   "metadata": {},
   "outputs": [
    {
     "data": {
      "text/plain": [
       "(199, 0)"
      ]
     },
     "execution_count": 124,
     "metadata": {},
     "output_type": "execute_result"
    }
   ],
   "source": [
    "assign_indv7('Household composition : Other household types\\ All full-time students - Unit : Households')\n"
   ]
  },
  {
   "cell_type": "code",
   "execution_count": 125,
   "id": "985c476d",
   "metadata": {},
   "outputs": [
    {
     "data": {
      "text/plain": [
       "(196, 3)"
      ]
     },
     "execution_count": 125,
     "metadata": {},
     "output_type": "execute_result"
    }
   ],
   "source": [
    "assign_indv7('Household composition : Other household types\\ Other - Unit : Households')\n"
   ]
  },
  {
   "cell_type": "code",
   "execution_count": 126,
   "id": "b8efc083",
   "metadata": {},
   "outputs": [],
   "source": [
    "def assign_indv8(HHcomp):\n",
    "    '''Assigns individuals to the 8 person Households in column 'Individual 8' using inputted HHcomp name.'''\n",
    "    count = 0\n",
    "    for i in range(len(df_test)):\n",
    "        if df_test['Household Size'][i] == 'Household size : 8 people in household - Unit : Household spaces':\n",
    "            if (df_test['Household Composition'][i] == HHcomp) and (df_test['Individual 8'][i] == '0'):\n",
    "                if HHcomp == 'Household composition : Other household types\\ All aged 65 and over - Unit : Households':\n",
    "                    count += 1\n",
    "                    age_range_used = list(range(65,86)) #any age of over 65 can be with any other over 65\n",
    "                    ages = get_age_range(age_range_used)\n",
    "                    if ages == []: #could cause issues in other MSOAs\n",
    "                        print('Error: Not enough over 65s. Need to fix the age range of another HH.')\n",
    "                    rand_indv = random.choice(ages)\n",
    "                    df_test['Individual 8'][i] = rand_indv #assigns chosen individual to the HH\n",
    "                    indv_list.remove(rand_indv)\n",
    "                    \n",
    "                    \n",
    "                if (HHcomp == 'Household composition : One family only\\ Lone parent\\ Two or more dependent children - Unit : Households') or (HHcomp == 'Household composition : One family only\\ Lone parent\\ All children non-dependent - Unit : Households'): \n",
    "                    initial_age = int(df_test['Individual 2'][i][10:12].strip()) #this is where the age is found in the string\n",
    "                    count += 1\n",
    "                    age_range_used = list(range(initial_age-35,initial_age-25)) #assigns another dependent aged child to HH\n",
    "                    ages = get_age_range(age_range_used)\n",
    "                    if ages == []:\n",
    "                        while ages == []:\n",
    "                            if age_range_used[0] == 0:\n",
    "                                age_range_used.append(age_range_used[-1]+1)\n",
    "                                ages = get_age_range(age_range_used)\n",
    "                            elif age_range_used[-1] == 85:\n",
    "                                age_range_used.insert(0,age_range_used[0]-1)\n",
    "                                ages = get_age_range(age_range_used)\n",
    "                            else:\n",
    "                                age_range_used.insert(0,age_range_used[0]-1)\n",
    "                                age_range_used.append(age_range_used[-1]+1)\n",
    "                                ages = get_age_range(age_range_used)\n",
    "                                print('Error: Added 1 year to each end of the desired age range.')\n",
    "                    rand_indv = random.choice(ages)\n",
    "                    df_test['Individual 8'][i] = rand_indv #assigns chosen individual to the HH\n",
    "                    indv_list.remove(rand_indv)\n",
    "                    \n",
    "                    \n",
    "                if (HHcomp == 'Household composition : One family only\\ Married couple\\ Two or more dependent children - Unit : Households') or (HHcomp == 'Household composition : One family only\\ Cohabiting couple\\ Two or more dependent children - Unit : Households') or (HHcomp == 'Household composition : One family only\\ Married couple\\ All children non-dependent - Unit : Households') or (HHcomp == 'Household composition : One family only\\ Cohabiting couple\\ All children non-dependent - Unit : Households') or (HHcomp == 'Household composition : One family only\\ Same-sex civil partnership couple\\ Two or more dependent children - Unit : Households') or (HHcomp == 'Household composition : One family only\\ Same-sex civil partnership couple\\ All children non-dependent - Unit : Households'):\n",
    "                    initial_age = int(df_test['Individual 2'][i][10:12]) #this is where the age is found in the string\n",
    "                    count += 1\n",
    "                    age_range_used = list(range(initial_age-35,initial_age-25)) #assigns another dependent aged child\n",
    "                    ages = get_age_range(age_range_used) \n",
    "                    if ages == []:\n",
    "                        while ages == []:\n",
    "                            if age_range_used[0] == 0:\n",
    "                                age_range_used.append(age_range_used[-1]+1)\n",
    "                                ages = get_age_range(age_range_used)\n",
    "                                print('Error: Added 1 year to end of the desired age range.')\n",
    "                            elif age_range_used[-1] == 85:\n",
    "                                age_range_used.insert(0,age_range_used[0]-1)\n",
    "                                ages = get_age_range(age_range_used)   \n",
    "                            else:\n",
    "                                age_range_used.insert(0,age_range_used[0]-1)\n",
    "                                age_range_used.append(age_range_used[-1]+1)\n",
    "                                ages = get_age_range(age_range_used)\n",
    "                                print('Error: Added 1 year to each end of the desired age range.')\n",
    "                    rand_indv = random.choice(ages)\n",
    "                    df_test['Individual 8'][i] = rand_indv\n",
    "                    indv_list.remove(rand_indv)\n",
    "            \n",
    "   \n",
    "                if HHcomp == 'Household composition : Other household types\\ With two or more dependent children - Unit : Households':\n",
    "                    initial_age = int(df_test['Individual 2'][i][10:12]) #this is where the age is found in the string\n",
    "                    count += 1\n",
    "                    age_range_used = list(range(initial_age-35,initial_age-25)) #assigns another dependent to HH\n",
    "                    ages = get_age_range(age_range_used)\n",
    "                    if ages == []:\n",
    "                        while ages == []:\n",
    "                            if age_range_used[0] == 0:\n",
    "                                age_range_used.append(age_range_used[-1]+1)\n",
    "                                ages = get_age_range(age_range_used)\n",
    "                            elif age_range_used[-1] == 85:\n",
    "                                age_range_used.insert(0,age_range_used[0]-1)\n",
    "                                ages = get_age_range(age_range_used)\n",
    "                            else:\n",
    "                                age_range_used.insert(0,age_range_used[0]-1)\n",
    "                                age_range_used.append(age_range_used[-1]+1)\n",
    "                                ages = get_age_range(age_range_used)\n",
    "                                print('Error: Added 1 year to each end of the desired age range.')\n",
    "                    rand_indv = random.choice(ages)\n",
    "                    df_test['Individual 8'][i] = rand_indv #assigns chosen individual to the HH\n",
    "                    indv_list.remove(rand_indv)                \n",
    "                \n",
    "                \n",
    "                if HHcomp == 'Household composition : Other household types\\ All full-time students - Unit : Households':\n",
    "                    count += 1\n",
    "                    age_range_used = list(range(18,30)) #any age of student can be with any other age of student\n",
    "                    ages = get_age_range(age_range_used)\n",
    "                    if ages == []:\n",
    "                        while ages == []:\n",
    "                            if age_range_used[0] == 0:\n",
    "                                age_range_used.append(age_range_used[-1]+1)\n",
    "                                ages = get_age_range(age_range_used)\n",
    "                            elif age_range_used[-1] == 85:\n",
    "                                age_range_used.insert(0,age_range_used[0]-1)\n",
    "                                ages = get_age_range(age_range_used)   \n",
    "                            else:\n",
    "                                age_range_used.insert(0,age_range_used[0]-1)\n",
    "                                age_range_used.append(age_range_used[-1]+1)\n",
    "                                ages = get_age_range(age_range_used)\n",
    "                                print('Error: Added 1 year to each end of the desired age range.')\n",
    "                    rand_indv = random.choice(ages)\n",
    "                    df_test['Individual 8'][i] = rand_indv #assigns chosen individual to the HH\n",
    "                    indv_list.remove(rand_indv)                \n",
    "                \n",
    "     \n",
    "                if (HHcomp == 'Household composition : Other household types\\ With one dependent child - Unit : Households') or (HHcomp == 'Household composition : Other household types\\ Other - Unit : Households'):\n",
    "                    count += 1\n",
    "                    age_range_used = list(range(18,86)) #basically uses the left over ages\n",
    "                    ages = get_age_range(age_range_used) #likely some sort of non-students flatmate situation\n",
    "                    if ages == []:\n",
    "                        while ages == []:\n",
    "                            if age_range_used[0] == 0:\n",
    "                                age_range_used.append(age_range_used[-1]+1)\n",
    "                                ages = get_age_range(age_range_used)\n",
    "                            elif age_range_used[-1] == 85:\n",
    "                                age_range_used.insert(0,age_range_used[0]-1)\n",
    "                                ages = get_age_range(age_range_used)  \n",
    "                            else:\n",
    "                                age_range_used.insert(0,age_range_used[0]-1)\n",
    "                                age_range_used.append(age_range_used[-1]+1)\n",
    "                                ages = get_age_range(age_range_used)\n",
    "                                print('Error: Added 1 year to each end of the desired age range.')\n",
    "                    rand_indv = random.choice(ages)\n",
    "                    df_test['Individual 8'][i] = rand_indv #assigns chosen individual to the HH\n",
    "                    indv_list.remove(rand_indv)       \n",
    "    \n",
    "    \n",
    "    return len(indv_list),count                                    "
   ]
  },
  {
   "cell_type": "code",
   "execution_count": 127,
   "id": "ab59d9e6",
   "metadata": {},
   "outputs": [
    {
     "data": {
      "text/plain": [
       "(196, 0)"
      ]
     },
     "execution_count": 127,
     "metadata": {},
     "output_type": "execute_result"
    }
   ],
   "source": [
    "assign_indv8('Household composition : Other household types\\ All aged 65 and over - Unit : Households')\n"
   ]
  },
  {
   "cell_type": "code",
   "execution_count": 128,
   "id": "3471467c",
   "metadata": {},
   "outputs": [
    {
     "data": {
      "text/plain": [
       "(196, 0)"
      ]
     },
     "execution_count": 128,
     "metadata": {},
     "output_type": "execute_result"
    }
   ],
   "source": [
    "assign_indv8('Household composition : One family only\\ Lone parent\\ Two or more dependent children - Unit : Households')\n"
   ]
  },
  {
   "cell_type": "code",
   "execution_count": 129,
   "id": "c3559c95",
   "metadata": {},
   "outputs": [
    {
     "name": "stdout",
     "output_type": "stream",
     "text": [
      "Error: Added 1 year to each end of the desired age range.\n",
      "Error: Added 1 year to each end of the desired age range.\n",
      "Error: Added 1 year to each end of the desired age range.\n",
      "Error: Added 1 year to each end of the desired age range.\n",
      "Error: Added 1 year to each end of the desired age range.\n"
     ]
    },
    {
     "data": {
      "text/plain": [
       "(193, 3)"
      ]
     },
     "execution_count": 129,
     "metadata": {},
     "output_type": "execute_result"
    }
   ],
   "source": [
    "assign_indv8('Household composition : One family only\\ Married couple\\ Two or more dependent children - Unit : Households')\n"
   ]
  },
  {
   "cell_type": "code",
   "execution_count": 130,
   "id": "233fc822",
   "metadata": {},
   "outputs": [
    {
     "data": {
      "text/plain": [
       "(193, 0)"
      ]
     },
     "execution_count": 130,
     "metadata": {},
     "output_type": "execute_result"
    }
   ],
   "source": [
    "assign_indv8('Household composition : One family only\\ Same-sex civil partnership couple\\ Two or more dependent children - Unit : Households')\n"
   ]
  },
  {
   "cell_type": "code",
   "execution_count": 131,
   "id": "874f8212",
   "metadata": {},
   "outputs": [
    {
     "data": {
      "text/plain": [
       "(193, 0)"
      ]
     },
     "execution_count": 131,
     "metadata": {},
     "output_type": "execute_result"
    }
   ],
   "source": [
    "assign_indv8('Household composition : One family only\\ Cohabiting couple\\ Two or more dependent children - Unit : Households')\n"
   ]
  },
  {
   "cell_type": "code",
   "execution_count": 132,
   "id": "38110428",
   "metadata": {},
   "outputs": [
    {
     "data": {
      "text/plain": [
       "(192, 1)"
      ]
     },
     "execution_count": 132,
     "metadata": {},
     "output_type": "execute_result"
    }
   ],
   "source": [
    "assign_indv8('Household composition : One family only\\ Married couple\\ All children non-dependent - Unit : Households')\n"
   ]
  },
  {
   "cell_type": "code",
   "execution_count": 133,
   "id": "e84ecc2f",
   "metadata": {},
   "outputs": [
    {
     "data": {
      "text/plain": [
       "(192, 0)"
      ]
     },
     "execution_count": 133,
     "metadata": {},
     "output_type": "execute_result"
    }
   ],
   "source": [
    "assign_indv8('Household composition : One family only\\ Same-sex civil partnership couple\\ All children non-dependent - Unit : Households')\n"
   ]
  },
  {
   "cell_type": "code",
   "execution_count": 134,
   "id": "9a3846ac",
   "metadata": {},
   "outputs": [
    {
     "data": {
      "text/plain": [
       "(192, 0)"
      ]
     },
     "execution_count": 134,
     "metadata": {},
     "output_type": "execute_result"
    }
   ],
   "source": [
    "assign_indv8('Household composition : One family only\\ Cohabiting couple\\ All children non-dependent - Unit : Households')\n"
   ]
  },
  {
   "cell_type": "code",
   "execution_count": 135,
   "id": "3ea38c25",
   "metadata": {},
   "outputs": [
    {
     "data": {
      "text/plain": [
       "(192, 0)"
      ]
     },
     "execution_count": 135,
     "metadata": {},
     "output_type": "execute_result"
    }
   ],
   "source": [
    "assign_indv8('Household composition : One family only\\ Lone parent\\ All children non-dependent - Unit : Households')\n"
   ]
  },
  {
   "cell_type": "code",
   "execution_count": 136,
   "id": "dbe161be",
   "metadata": {},
   "outputs": [
    {
     "data": {
      "text/plain": [
       "(192, 0)"
      ]
     },
     "execution_count": 136,
     "metadata": {},
     "output_type": "execute_result"
    }
   ],
   "source": [
    "assign_indv8('Household composition : Other household types\\ With one dependent child - Unit : Households')\n"
   ]
  },
  {
   "cell_type": "code",
   "execution_count": 137,
   "id": "85681d4b",
   "metadata": {},
   "outputs": [
    {
     "data": {
      "text/plain": [
       "(192, 0)"
      ]
     },
     "execution_count": 137,
     "metadata": {},
     "output_type": "execute_result"
    }
   ],
   "source": [
    "assign_indv8('Household composition : Other household types\\ With two or more dependent children - Unit : Households')\n"
   ]
  },
  {
   "cell_type": "code",
   "execution_count": 138,
   "id": "15ff635a",
   "metadata": {},
   "outputs": [
    {
     "data": {
      "text/plain": [
       "(192, 0)"
      ]
     },
     "execution_count": 138,
     "metadata": {},
     "output_type": "execute_result"
    }
   ],
   "source": [
    "assign_indv8('Household composition : Other household types\\ All full-time students - Unit : Households')\n"
   ]
  },
  {
   "cell_type": "code",
   "execution_count": 139,
   "id": "09ce2419",
   "metadata": {},
   "outputs": [
    {
     "data": {
      "text/plain": [
       "(191, 1)"
      ]
     },
     "execution_count": 139,
     "metadata": {},
     "output_type": "execute_result"
    }
   ],
   "source": [
    "assign_indv8('Household composition : Other household types\\ Other - Unit : Households')\n"
   ]
  },
  {
   "cell_type": "code",
   "execution_count": 140,
   "id": "585da9d8",
   "metadata": {},
   "outputs": [
    {
     "name": "stdout",
     "output_type": "stream",
     "text": [
      "['Age : Age 13 - Sex : Males - Unit : Persons', 'Age : Age 14 - Sex : Males - Unit : Persons', 'Age : Age 15 - Sex : Males - Unit : Persons', 'Age : Age 16 - Sex : Females - Unit : Persons', 'Age : Age 17 - Sex : Males - Unit : Persons', 'Age : Age 17 - Sex : Males - Unit : Persons', 'Age : Age 17 - Sex : Males - Unit : Persons', 'Age : Age 18 - Sex : Males - Unit : Persons', 'Age : Age 19 - Sex : Females - Unit : Persons', 'Age : Age 20 - Sex : Females - Unit : Persons', 'Age : Age 21 - Sex : Males - Unit : Persons', 'Age : Age 22 - Sex : Males - Unit : Persons', 'Age : Age 22 - Sex : Females - Unit : Persons', 'Age : Age 23 - Sex : Males - Unit : Persons', 'Age : Age 24 - Sex : Females - Unit : Persons', 'Age : Age 48 - Sex : Males - Unit : Persons', 'Age : Age 49 - Sex : Males - Unit : Persons', 'Age : Age 49 - Sex : Males - Unit : Persons', 'Age : Age 50 - Sex : Males - Unit : Persons', 'Age : Age 51 - Sex : Males - Unit : Persons', 'Age : Age 52 - Sex : Males - Unit : Persons', 'Age : Age 54 - Sex : Males - Unit : Persons', 'Age : Age 55 - Sex : Males - Unit : Persons', 'Age : Age 56 - Sex : Males - Unit : Persons', 'Age : Age 58 - Sex : Males - Unit : Persons', 'Age : Age 61 - Sex : Males - Unit : Persons', 'Age : Age 61 - Sex : Females - Unit : Persons', 'Age : Age 60 - Sex : Females - Unit : Persons', 'Age : Age 62 - Sex : Males - Unit : Persons', 'Age : Age 63 - Sex : Males - Unit : Persons', 'Age : Age 64 - Sex : Males - Unit : Persons', 'Age : Age 66 - Sex : Females - Unit : Persons', 'Age : Age 70 - Sex : Females - Unit : Persons', 'Age : Age 73 - Sex : Males - Unit : Persons', 'Age : Age 75 - Sex : Females - Unit : Persons', 'Age : Age 80 - Sex : Males - Unit : Persons', 'Age : Age 83 - Sex : Females - Unit : Persons', 'Age : Age 85 and over - Sex : Females - Unit : Persons', 'Age : Age 85 and over - Sex : Females - Unit : Persons']\n"
     ]
    }
   ],
   "source": [
    "#append new values to individual 8 slot value?\n",
    "print(indv_list[::5])"
   ]
  },
  {
   "cell_type": "code",
   "execution_count": 141,
   "id": "ef048573",
   "metadata": {},
   "outputs": [
    {
     "data": {
      "text/plain": [
       "Household size : 1 person in household - Unit : Household spaces            2472\n",
       "Household size : 2 people in household - Unit : Household spaces            1356\n",
       "Household size : 3 people in household - Unit : Household spaces             339\n",
       "Household size : 4 people in household - Unit : Household spaces             153\n",
       "Household size : 5 people in household - Unit : Household spaces              36\n",
       "Household size : 6 people in household - Unit : Household spaces              17\n",
       "Household size : 7 people in household - Unit : Household spaces               7\n",
       "Household size : 8 or more people in household - Unit : Household spaces       5\n",
       "Name: Household Size, dtype: int64"
      ]
     },
     "execution_count": 141,
     "metadata": {},
     "output_type": "execute_result"
    }
   ],
   "source": [
    "#changing 8 person HH to 8 person or more HH (which is the correct name)\n",
    "for i in range(len(df_test)):\n",
    "    if df_test['Household Size'][i] == 'Household size : 8 people in household - Unit : Household spaces':\n",
    "        df_test['Household Size'][i] = 'Household size : 8 or more people in household - Unit : Household spaces'\n",
    "df_test['Household Size'].value_counts().sort_index()"
   ]
  },
  {
   "cell_type": "code",
   "execution_count": 142,
   "id": "3c2e5e3c",
   "metadata": {},
   "outputs": [
    {
     "name": "stdout",
     "output_type": "stream",
     "text": [
      "191\n",
      "3\n"
     ]
    }
   ],
   "source": [
    "#uses only inputted row of MSOA sheet\n",
    "communal_indv = get_communal_res(MsoaData.communal_res).iloc[MSOA_row][2] #number of individuals in communal spaces in MSOA\n",
    "remaining_indv = len(indv_list) - get_communal_res(MsoaData.communal_res).iloc[MSOA_row][2]\n",
    "print(len(indv_list))\n",
    "print(remaining_indv)#individuals to be assgined to 'normal' households\n",
    "if remaining_indv < 0: #shouldnt ever happen?\n",
    "    print('Issue here')\n",
    "    "
   ]
  },
  {
   "cell_type": "code",
   "execution_count": 143,
   "id": "7df22987",
   "metadata": {},
   "outputs": [
    {
     "name": "stdout",
     "output_type": "stream",
     "text": [
      "{'Household composition : One family only\\\\ Married couple\\\\ Two or more dependent children - Unit : Households': 3, 'Household composition : One family only\\\\ Married couple\\\\ All children non-dependent - Unit : Households': 1, 'Household composition : Other household types\\\\ Other - Unit : Households': 1}\n",
      "{'Household composition : One family only\\\\ Married couple\\\\ Two or more dependent children - Unit : Households': 2, 'Household composition : One family only\\\\ Married couple\\\\ All children non-dependent - Unit : Households': 1, 'Household composition : Other household types\\\\ Other - Unit : Households': 188}\n"
     ]
    }
   ],
   "source": [
    "from collections import Counter #for creating dictionary\n",
    "over8_HHcomps = [] #used to find HHcomps with '8 or more' individuals\n",
    "for i in range(len(df_test)):\n",
    "    if df_test['Household Size'][i] == 'Household size : 8 or more people in household - Unit : Household spaces':\n",
    "        over8_HHcomps.append(df_test['Household Composition'][i])\n",
    "over8_dict = dict(Counter(over8_HHcomps)) #this is how many 8 or mores are in df of HHcomps\n",
    "print(over8_dict) #a dictionary containing he HHcomps of 8 or more and how many instances of them\n",
    "\n",
    "over8_probs = [] #for assigning probabilities to HHcomps that are One Family HHs\n",
    "over8_other_probs = [] #for assigning probabilities to HHcomps that are of type Other\n",
    "family_8s = 0 #total number of HHcomps that are One family\n",
    "other_8s = 0 #total number of HHcomps that are of type Other\n",
    "for j in over8_dict.keys(): #finds the total numbers of those types of HHcomps\n",
    "    if 'One family' in j:\n",
    "        family_8s += over8_dict[j]\n",
    "    else: #'Other' categories\n",
    "        other_8s += over8_dict[j]\n",
    "\n",
    "for k in over8_dict.keys(): #finds the probabilities of HHcomps\n",
    "    if 'One family' in k:\n",
    "        prob = over8_dict[k]/family_8s\n",
    "        over8_probs.append(prob)\n",
    "    else:\n",
    "        prob = over8_dict[k]/other_8s\n",
    "        over8_other_probs.append(prob)\n",
    "        \n",
    "over8_dependent_assigns = [round(i*remaining_indv) for i in over8_probs] #how many individuals in 'one family' to assign\n",
    "over8_other_assign = [round(i*communal_indv) for i in over8_other_probs] #how many individuals in 'other' to assign\n",
    "all_over8s = over8_dependent_assigns+over8_other_assign\n",
    "over8_dict_assigns = {i:j for i,j in zip(over8_dict.keys(),all_over8s)}\n",
    "print(over8_dict_assigns) #this is how many individuals we have available to assign to corresponding HHcomps"
   ]
  },
  {
   "cell_type": "code",
   "execution_count": 144,
   "id": "ce512ccd",
   "metadata": {},
   "outputs": [
    {
     "name": "stdout",
     "output_type": "stream",
     "text": [
      "191\n",
      "191\n",
      "191\n"
     ]
    }
   ],
   "source": [
    "print(sum(over8_dict_assigns.values()))\n",
    "if sum(over8_dict_assigns.values()) > len(indv_list):\n",
    "    over8_dict_assigns[list(over8_dict_assigns.keys())[-1]] = list(over8_dict_assigns.values())[-1] - (sum(over8_dict_assigns.values()) - len(indv_list))\n",
    "elif sum(over8_dict_assigns.values()) < len(indv_list):\n",
    "    over8_dict_assigns[list(over8_dict_assigns.keys())[-1]] = list(over8_dict_assigns.values())[-1] - (sum(over8_dict_assigns.values()) - len(indv_list))\n",
    "print(sum(over8_dict_assigns.values()))\n",
    "print(len(indv_list))"
   ]
  },
  {
   "cell_type": "code",
   "execution_count": 145,
   "id": "3320c039",
   "metadata": {},
   "outputs": [
    {
     "name": "stdout",
     "output_type": "stream",
     "text": [
      "Household composition : One family only\\ Married couple\\ Two or more dependent children - Unit : Households 1\n",
      "Household composition : One family only\\ Married couple\\ Two or more dependent children - Unit : Households 0\n",
      "Household composition : One family only\\ Married couple\\ All children non-dependent - Unit : Households 0\n",
      "Household composition : Other household types\\ Other - Unit : Households 187\n",
      "0\n"
     ]
    }
   ],
   "source": [
    "import math\n",
    "#after getting a dictionary of HHcomp:number of people to assign\n",
    "#random.choice(indv_list) with a given age range\n",
    "for j in over8_dict_assigns.keys(): #takes in the HHcomps that have non-empty Individual 8 slots\n",
    "    for i in range(len(df_test)):\n",
    "        #check to see if the row's HHcomp is one of the ones found above and make sure it is 8 or more in size\n",
    "        if (df_test['Household Composition'][i] == j) and (df_test['Household Size'][i] == 'Household size : 8 or more people in household - Unit : Household spaces'):\n",
    "            if '65' in j: #finds the HHcomps that are over 65s\n",
    "                if over8_dict[j] == 1: #checks to see if there is only one of that type of HHcomp to assign to\n",
    "                    for z in range(over8_dict_assigns[j]): #assigns all of its designated proportion of indviduals\n",
    "                        age_range_used = list(range(65,86))\n",
    "                        ages = get_age_range(age_range_used)\n",
    "                        rand_indv = random.choice(ages)\n",
    "                        df_test['Individual 8'][i] = df_test['Individual 8'][i] + ','+ rand_indv #appends to existing string of individuals in Inidividual 8 spot\n",
    "                        indv_list.remove(rand_indv)\n",
    "                else: #if there are multiple instances of the HHcomp having 8 or more individuals\n",
    "                    for y in range(math.ceil(over8_dict_assigns[j]/over8_dict[j])):\n",
    "                        age_range_used = list(range(65,86))\n",
    "                        ages = get_age_range(age_range_used)\n",
    "                        rand_indv = random.choice(ages)\n",
    "                        df_test['Individual 8'][i] = df_test['Individual 8'][i] + ','+ rand_indv\n",
    "                        indv_list.remove(rand_indv)\n",
    "                over8_dict_assigns[j] -= 1 #makes sure that the HHcomp doesn't get more individuals than alloted\n",
    "\n",
    "            elif 'students' in j: #if the HHcomp is all students\n",
    "                if over8_dict[j] == 1:\n",
    "                    for z in range(over8_dict_assigns[j]):\n",
    "                        age_range_used = list(range(18,30))\n",
    "                        ages = get_age_range(age_range_used)\n",
    "                        if ages == []:\n",
    "                            while ages == []:\n",
    "                                age_range_used.insert(0,age_range_used[0]-1)\n",
    "                                age_range_used.append(age_range_used[-1]+1)\n",
    "                                ages = get_age_range(age_range_used)\n",
    "                        rand_indv = random.choice(ages)\n",
    "                        df_test['Individual 8'][i] = df_test['Individual 8'][i] + ','+ rand_indv\n",
    "                        indv_list.remove(rand_indv)\n",
    "                else:\n",
    "                    for y in range(math.ceil(over8_dict_assigns[j]/over8_dict[j])):\n",
    "                        age_range_used = list(range(18,30))\n",
    "                        ages = get_age_range(age_range_used)\n",
    "                        if ages == []:\n",
    "                            while ages == []:\n",
    "                                age_range_used.insert(0,age_range_used[0]-1)\n",
    "                                age_range_used.append(age_range_used[-1]+1)\n",
    "                                ages = get_age_range(age_range_used)\n",
    "                        rand_indv = random.choice(ages)\n",
    "                        df_test['Individual 8'][i] = df_test['Individual 8'][i] + ','+ rand_indv\n",
    "                        indv_list.remove(rand_indv)\n",
    "                over8_dict_assigns[j] -= 1\n",
    "\n",
    "            elif 'non-dependent' in j: #if the HHcomp contains all non-dependent children\n",
    "                if over8_dict[j] == 1:\n",
    "                    for z in range(over8_dict_assigns[j]):\n",
    "                        age_range_used = list(range(18,86))\n",
    "                        ages = get_age_range(age_range_used)\n",
    "                        rand_indv = random.choice(ages)\n",
    "                        df_test['Individual 8'][i] = df_test['Individual 8'][i] + ','+ rand_indv\n",
    "                        indv_list.remove(rand_indv)\n",
    "                else:\n",
    "                    for y in range(math.ceil(over8_dict_assigns[j]/over8_dict[j])):\n",
    "                        age_range_used = list(range(18,86))\n",
    "                        ages = get_age_range(age_range_used)\n",
    "                        rand_indv = random.choice(ages)\n",
    "                        df_test['Individual 8'][i] = df_test['Individual 8'][i] + ','+ rand_indv\n",
    "                        indv_list.remove(rand_indv)\n",
    "                over8_dict_assigns[j] -= 1\n",
    "                print(j,over8_dict_assigns[j])\n",
    "\n",
    "            elif ('One dependent' in j) or ('Two or more dependent' in j): #if the HHcomp has any dependent children\n",
    "                if over8_dict[j] == 1:\n",
    "                    for z in range(over8_dict_assigns[j]):\n",
    "                        age_range_used = list(range(0,86))\n",
    "                        ages = get_age_range(age_range_used)\n",
    "                        rand_indv = random.choice(ages)\n",
    "                        df_test['Individual 8'][i] = df_test['Individual 8'][i] + ','+ rand_indv\n",
    "                        indv_list.remove(rand_indv)\n",
    "                else:\n",
    "                    for y in range(math.ceil(over8_dict_assigns[j]/over8_dict[j])):\n",
    "                        age_range_used = list(range(0,86))\n",
    "                        ages = get_age_range(age_range_used)\n",
    "                        rand_indv = random.choice(ages)\n",
    "                        df_test['Individual 8'][i] = df_test['Individual 8'][i] + ','+ rand_indv\n",
    "                        indv_list.remove(rand_indv)\n",
    "                over8_dict_assigns[j] -= 1\n",
    "                print(j,over8_dict_assigns[j])\n",
    "\n",
    "            else: #'Other/ Other category'\n",
    "                if over8_dict[j] == 1:\n",
    "                    for z in range(over8_dict_assigns[j]):\n",
    "                        age_range_used = list(range(0,86))\n",
    "                        ages = get_age_range(age_range_used)\n",
    "                        rand_indv = random.choice(ages)\n",
    "                        df_test['Individual 8'][i] = df_test['Individual 8'][i] + ','+ rand_indv\n",
    "                        indv_list.remove(rand_indv)\n",
    "                else:\n",
    "                    for y in range(math.ceil(over8_dict_assigns[j]/over8_dict[j])):\n",
    "                        age_range_used = list(range(0,86))\n",
    "                        ages = get_age_range(age_range_used)\n",
    "                        rand_indv = random.choice(ages)\n",
    "                        df_test['Individual 8'][i] = df_test['Individual 8'][i] + ','+ rand_indv\n",
    "                        indv_list.remove(rand_indv)\n",
    "                over8_dict_assigns[j] -= 1\n",
    "                print(j,over8_dict_assigns[j])\n",
    "                    \n",
    "        if over8_dict_assigns[j] == 0: #breaks out of inner loop when there are no more rows of the HHcomp left\n",
    "            break\n",
    "                    \n",
    "print(len(indv_list))"
   ]
  },
  {
   "cell_type": "code",
   "execution_count": 146,
   "id": "d7b4fecf",
   "metadata": {},
   "outputs": [
    {
     "name": "stdout",
     "output_type": "stream",
     "text": [
      "[]\n"
     ]
    }
   ],
   "source": [
    "print(indv_list)"
   ]
  },
  {
   "cell_type": "code",
   "execution_count": 147,
   "id": "ce91cc4b",
   "metadata": {},
   "outputs": [
    {
     "name": "stdout",
     "output_type": "stream",
     "text": [
      "<class 'list'>\n",
      "<class 'list'>\n",
      "<class 'list'>\n",
      "<class 'list'>\n"
     ]
    }
   ],
   "source": [
    "#turning the 'Individual 8' column slots that have more than one person assigned into a list of those people.\n",
    "for i in range(len(df_test)): \n",
    "    if (df_test['Individual 8'][i] != 0) and (',' in df_test['Individual 8'][i]):\n",
    "        df_test['Individual 8'][i] = df_test['Individual 8'][i].split(',') #splits the string of people by a comma\n",
    "        print(type(df_test['Individual 8'][i]))"
   ]
  },
  {
   "cell_type": "markdown",
   "id": "c676153b",
   "metadata": {},
   "source": [
    "## Adding Employment Status"
   ]
  },
  {
   "cell_type": "code",
   "execution_count": 148,
   "id": "c81cc59f",
   "metadata": {},
   "outputs": [
    {
     "data": {
      "text/plain": [
       "GEO_CODE                                                                                                                                                     E02000001\n",
       "GEO_LABEL                                                                                                                                           City of London 001\n",
       "Age : Age 16 to 19 - Economic activity : In employment the week before the census - Hours worked : Part-time - Sex : Males - Unit : Persons                        8.0\n",
       "Age : Age 16 to 19 - Economic activity : In employment the week before the census - Hours worked : Part-time - Sex : Females - Unit : Persons                      8.0\n",
       "Age : Age 16 to 19 - Economic activity : In employment the week before the census - Hours worked : Full-time - Sex : Males - Unit : Persons                        3.0\n",
       "Age : Age 16 to 19 - Economic activity : In employment the week before the census - Hours worked : Full-time - Sex : Females - Unit : Persons                      8.0\n",
       "Age : Age 20 to 21 - Economic activity : In employment the week before the census - Hours worked : Part-time - Sex : Males - Unit : Persons                        8.0\n",
       "Age : Age 20 to 21 - Economic activity : In employment the week before the census - Hours worked : Part-time - Sex : Females - Unit : Persons                     15.0\n",
       "Age : Age 20 to 21 - Economic activity : In employment the week before the census - Hours worked : Full-time - Sex : Males - Unit : Persons                       15.0\n",
       "Age : Age 20 to 21 - Economic activity : In employment the week before the census - Hours worked : Full-time - Sex : Females - Unit : Persons                      9.0\n",
       "Age : Age 22 to 24 - Economic activity : In employment the week before the census - Hours worked : Part-time - Sex : Males - Unit : Persons                       24.0\n",
       "Age : Age 22 to 24 - Economic activity : In employment the week before the census - Hours worked : Part-time - Sex : Females - Unit : Persons                     16.0\n",
       "Age : Age 22 to 24 - Economic activity : In employment the week before the census - Hours worked : Full-time - Sex : Males - Unit : Persons                      129.0\n",
       "Age : Age 22 to 24 - Economic activity : In employment the week before the census - Hours worked : Full-time - Sex : Females - Unit : Persons                    110.0\n",
       "Age : Age 25 to 29 - Economic activity : In employment the week before the census - Hours worked : Part-time - Sex : Males - Unit : Persons                       26.0\n",
       "Age : Age 25 to 29 - Economic activity : In employment the week before the census - Hours worked : Part-time - Sex : Females - Unit : Persons                     35.0\n",
       "Age : Age 25 to 29 - Economic activity : In employment the week before the census - Hours worked : Full-time - Sex : Males - Unit : Persons                      458.0\n",
       "Age : Age 25 to 29 - Economic activity : In employment the week before the census - Hours worked : Full-time - Sex : Females - Unit : Persons                    319.0\n",
       "Age : Age 30 to 34 - Economic activity : In employment the week before the census - Hours worked : Part-time - Sex : Males - Unit : Persons                       19.0\n",
       "Age : Age 30 to 34 - Economic activity : In employment the week before the census - Hours worked : Part-time - Sex : Females - Unit : Persons                     38.0\n",
       "Age : Age 30 to 34 - Economic activity : In employment the week before the census - Hours worked : Full-time - Sex : Males - Unit : Persons                      410.0\n",
       "Age : Age 30 to 34 - Economic activity : In employment the week before the census - Hours worked : Full-time - Sex : Females - Unit : Persons                    262.0\n",
       "Age : Age 35 to 39 - Economic activity : In employment the week before the census - Hours worked : Part-time - Sex : Males - Unit : Persons                       31.0\n",
       "Age : Age 35 to 39 - Economic activity : In employment the week before the census - Hours worked : Part-time - Sex : Females - Unit : Persons                     38.0\n",
       "Age : Age 35 to 39 - Economic activity : In employment the week before the census - Hours worked : Full-time - Sex : Males - Unit : Persons                      303.0\n",
       "Age : Age 35 to 39 - Economic activity : In employment the week before the census - Hours worked : Full-time - Sex : Females - Unit : Persons                    171.0\n",
       "Age : Age 40 to 44 - Economic activity : In employment the week before the census - Hours worked : Part-time - Sex : Males - Unit : Persons                       30.0\n",
       "Age : Age 40 to 44 - Economic activity : In employment the week before the census - Hours worked : Part-time - Sex : Females - Unit : Persons                     44.0\n",
       "Age : Age 40 to 44 - Economic activity : In employment the week before the census - Hours worked : Full-time - Sex : Males - Unit : Persons                      318.0\n",
       "Age : Age 40 to 44 - Economic activity : In employment the week before the census - Hours worked : Full-time - Sex : Females - Unit : Persons                    160.0\n",
       "Age : Age 45 to 49 - Economic activity : In employment the week before the census - Hours worked : Part-time - Sex : Males - Unit : Persons                       20.0\n",
       "Age : Age 45 to 49 - Economic activity : In employment the week before the census - Hours worked : Part-time - Sex : Females - Unit : Persons                     34.0\n",
       "Age : Age 45 to 49 - Economic activity : In employment the week before the census - Hours worked : Full-time - Sex : Males - Unit : Persons                      294.0\n",
       "Age : Age 45 to 49 - Economic activity : In employment the week before the census - Hours worked : Full-time - Sex : Females - Unit : Persons                    164.0\n",
       "Age : Age 50 to 54 - Economic activity : In employment the week before the census - Hours worked : Part-time - Sex : Males - Unit : Persons                       26.0\n",
       "Age : Age 50 to 54 - Economic activity : In employment the week before the census - Hours worked : Part-time - Sex : Females - Unit : Persons                     28.0\n",
       "Age : Age 50 to 54 - Economic activity : In employment the week before the census - Hours worked : Full-time - Sex : Males - Unit : Persons                      237.0\n",
       "Age : Age 50 to 54 - Economic activity : In employment the week before the census - Hours worked : Full-time - Sex : Females - Unit : Persons                     99.0\n",
       "Age : Age 55 to 59 - Economic activity : In employment the week before the census - Hours worked : Part-time - Sex : Males - Unit : Persons                       31.0\n",
       "Age : Age 55 to 59 - Economic activity : In employment the week before the census - Hours worked : Part-time - Sex : Females - Unit : Persons                     38.0\n",
       "Age : Age 55 to 59 - Economic activity : In employment the week before the census - Hours worked : Full-time - Sex : Males - Unit : Persons                      179.0\n",
       "Age : Age 55 to 59 - Economic activity : In employment the week before the census - Hours worked : Full-time - Sex : Females - Unit : Persons                    105.0\n",
       "Age : Age 60 to 64 - Economic activity : In employment the week before the census - Hours worked : Part-time - Sex : Males - Unit : Persons                       47.0\n",
       "Age : Age 60 to 64 - Economic activity : In employment the week before the census - Hours worked : Part-time - Sex : Females - Unit : Persons                     29.0\n",
       "Age : Age 60 to 64 - Economic activity : In employment the week before the census - Hours worked : Full-time - Sex : Males - Unit : Persons                      123.0\n",
       "Age : Age 60 to 64 - Economic activity : In employment the week before the census - Hours worked : Full-time - Sex : Females - Unit : Persons                     86.0\n",
       "Age : Age 65 and over - Economic activity : In employment the week before the census - Hours worked : Part-time - Sex : Males - Unit : Persons                    69.0\n",
       "Age : Age 65 and over - Economic activity : In employment the week before the census - Hours worked : Part-time - Sex : Females - Unit : Persons                  34.0\n",
       "Age : Age 65 and over - Economic activity : In employment the week before the census - Hours worked : Full-time - Sex : Males - Unit : Persons                   100.0\n",
       "Age : Age 65 and over - Economic activity : In employment the week before the census - Hours worked : Full-time - Sex : Females - Unit : Persons                  27.0\n",
       "Name: 0, dtype: object"
      ]
     },
     "execution_count": 148,
     "metadata": {},
     "output_type": "execute_result"
    }
   ],
   "source": [
    "# randomly(?) get row number from df, \n",
    "#check age and sex of each individual in columnn 1 if Age == 16-19\n",
    "\n",
    "#initialize new column by adding empty string? then append to string when adding employment status\n",
    "#create dictionary of df below?\n",
    "#get every row (into a list) from df that has individual within age group and sex (ex: 16-19 Males)\n",
    "#zero out the 3 types of employment (part, full, unemployed/retired)\n",
    "#new column contains list in each row (like what was done with 8 or more HHs) of employment statuses\n",
    "df_test['Employment Status'] = ['' for i in range(len(df_test))]\n",
    "get_employment(MsoaData.age_by_sex_by_employment).iloc[0]"
   ]
  },
  {
   "cell_type": "code",
   "execution_count": 149,
   "id": "aad312a1",
   "metadata": {},
   "outputs": [],
   "source": [
    "import numpy as np\n",
    "def assign_employment_status(age_range,sex,MSOA_row = MSOA_row):\n",
    "    if age_range == [65]:\n",
    "        part_time = f'Age : Age 65 and over - Economic activity : In employment the week before the census - Hours worked : Part-time - Sex : {sex} - Unit : Persons'\n",
    "        full_time = f'Age : Age 65 and over - Economic activity : In employment the week before the census - Hours worked : Full-time - Sex : {sex} - Unit : Persons'\n",
    "    else:\n",
    "        part_time = f'Age : Age {age_range[0]} to {age_range[-1]} - Economic activity : In employment the week before the census - Hours worked : Part-time - Sex : {sex} - Unit : Persons'\n",
    "        full_time = f'Age : Age {age_range[0]} to {age_range[-1]} - Economic activity : In employment the week before the census - Hours worked : Full-time - Sex : {sex} - Unit : Persons' \n",
    "    employ_dct = {i:j for i,j in zip(list(get_employment(MsoaData.age_by_sex_by_employment).iloc[MSOA_row].keys())[2:],list(get_employment(MsoaData.age_by_sex_by_employment).iloc[MSOA_row].values)[2:])}\n",
    "    row_list = []\n",
    "    num_of_occur = []\n",
    "    for i in range(len(df_test)):\n",
    "        ages_results = []\n",
    "        ages_results.append(df_test['Individual 1'][i][10:12].strip() + ' ' + df_test['Individual 1'][i][20:27].strip()) #always a dependent\n",
    "        ages_results.append(df_test['Individual 2'][i][10:12].strip() + ' ' + df_test['Individual 2'][i][20:27].strip()) #always a parent\n",
    "        ages_results.append(df_test['Individual 3'][i][10:12].strip() + ' ' + df_test['Individual 3'][i][20:27].strip()) #always a parent\n",
    "        ages_results.append(df_test['Individual 4'][i][10:12].strip() + ' ' + df_test['Individual 4'][i][20:27].strip())\n",
    "        ages_results.append(df_test['Individual 5'][i][10:12].strip() + ' ' + df_test['Individual 5'][i][20:27].strip())\n",
    "        ages_results.append(df_test['Individual 6'][i][10:12].strip() + ' ' + df_test['Individual 6'][i][20:27].strip())\n",
    "        ages_results.append(df_test['Individual 7'][i][10:12].strip() + ' ' + df_test['Individual 7'][i][20:27].strip())\n",
    "\n",
    "        if type(df_test['Individual 8'][i]) == list:\n",
    "            for j in df_test['Individual 8'][i]:\n",
    "                ages_results.append(j[10:12].strip() + ' ' + j[20:27].strip())\n",
    "            df_test['Individual 8'][i]\n",
    "        else:   \n",
    "            ages_results.append(df_test['Individual 8'][i][10:12].strip() + ' ' + df_test['Individual 8'][i][20:27].strip())\n",
    "        for k in ages_results:    \n",
    "            if 'un' in k: #changes 'under age 1' to age 0\n",
    "                indx = ages_results.index(k)\n",
    "                ages_results[indx] = '0'\n",
    "            elif 'r - Sex' in k:\n",
    "                indx = ages_results.index(k)\n",
    "                ages_results[indx] = '85' #note that 85 and ups will not include their sex in this case\n",
    "        ages_results = list(filter((' ').__ne__, ages_results))  #removes empty strings\n",
    "        if sex == 'Females':\n",
    "            sex = 'Female'\n",
    "        \n",
    "        if (age_range == [16,17,18,19]) and ((f'16 {sex}' in ages_results) or (f'17 {sex}' in ages_results) or (f'18 {sex}' in ages_results) or (f'19 {sex}' in ages_results)):\n",
    "            row_list.append(i)\n",
    "            num_of_occur.append(ages_results.count(f'16 {sex}')+ages_results.count(f'17 {sex}')+ages_results.count(f'18 {sex}')+ages_results.count(f'19 {sex}'))\n",
    "            \n",
    "        if (age_range == [20,21]) and ((f'20 {sex}' in ages_results) or (f'21 {sex}' in ages_results)):\n",
    "            row_list.append(i)\n",
    "            num_of_occur.append(ages_results.count(f'20 {sex}')+ages_results.count(f'21 {sex}'))\n",
    "        \n",
    "        if (age_range == [22,23,24]) and ((f'22 {sex}' in ages_results) or (f'23 {sex}' in ages_results) or (f'24 {sex}' in ages_results)):\n",
    "            row_list.append(i)\n",
    "            num_of_occur.append(ages_results.count(f'22 {sex}')+ages_results.count(f'23 {sex}')+ages_results.count(f'24 {sex}'))\n",
    "        \n",
    "        if (len(age_range) == 5) and ((f'{age_range[0]} {sex}' in ages_results) or (f'{age_range[1]} {sex}' in ages_results) or (f'{age_range[2]} {sex}' in ages_results) or (f'{age_range[3]} {sex}' in ages_results) or (f'{age_range[3]+1} {sex}' in ages_results)):\n",
    "            row_list.append(i)\n",
    "            num_of_occur.append(ages_results.count(f'{age_range[0]} {sex}')+ages_results.count(f'{age_range[1]} {sex}')+ages_results.count(f'{age_range[2]} {sex}')+ages_results.count(f'{age_range[3]} {sex}')+ages_results.count(f'{age_range[3]+1} {sex}'))\n",
    "        \n",
    "        if age_range == [65]:\n",
    "            count = 0\n",
    "            for person in ages_results:\n",
    "                if int(person[:2]) >= 65:\n",
    "                    count +=1\n",
    "            if count >= 1:\n",
    "                row_list.append(i)\n",
    "                num_of_occur.append(count)\n",
    "                    \n",
    "            \n",
    "    row_occur_dict = {i:j for i,j in zip(row_list,num_of_occur)}\n",
    "    for i in range(int(employ_dct[part_time])):\n",
    "        row = random.choice(row_list)\n",
    "        df_test['Employment Status'][row] = df_test['Employment Status'][row] + ',' + part_time\n",
    "        if row_occur_dict[row] == 1:     \n",
    "            row_list.remove(row)\n",
    "        else:\n",
    "            row_occur_dict[row] -= 1\n",
    "    for i in range(int(employ_dct[full_time])):\n",
    "        row = random.choice(row_list)\n",
    "        df_test['Employment Status'][row] = df_test['Employment Status'][row] + ',' + full_time\n",
    "        if row_occur_dict[row] == 1:     \n",
    "            row_list.remove(row)\n",
    "        else:\n",
    "            row_occur_dict[row] -= 1\n",
    "            \n",
    "    return df_test['Employment Status'].value_counts()"
   ]
  },
  {
   "cell_type": "code",
   "execution_count": 150,
   "id": "e54a5884",
   "metadata": {},
   "outputs": [
    {
     "data": {
      "text/plain": [
       "                                                                                                                                                                                                                                                                                                                                                                                                                                          915\n",
       ",Age : Age 25 to 29 - Economic activity : In employment the week before the census - Hours worked : Full-time - Sex : Males - Unit : Persons                                                                                                                                                                                                                                                                                              209\n",
       ",Age : Age 30 to 34 - Economic activity : In employment the week before the census - Hours worked : Full-time - Sex : Males - Unit : Persons                                                                                                                                                                                                                                                                                              194\n",
       ",Age : Age 25 to 29 - Economic activity : In employment the week before the census - Hours worked : Full-time - Sex : Females - Unit : Persons                                                                                                                                                                                                                                                                                            157\n",
       ",Age : Age 45 to 49 - Economic activity : In employment the week before the census - Hours worked : Full-time - Sex : Males - Unit : Persons                                                                                                                                                                                                                                                                                              152\n",
       "                                                                                                                                                                                                                                                                                                                                                                                                                                         ... \n",
       ",Age : Age 45 to 49 - Economic activity : In employment the week before the census - Hours worked : Full-time - Sex : Males - Unit : Persons,Age : Age 45 to 49 - Economic activity : In employment the week before the census - Hours worked : Full-time - Sex : Males - Unit : Persons,Age : Age 45 to 49 - Economic activity : In employment the week before the census - Hours worked : Full-time - Sex : Females - Unit : Persons      1\n",
       ",Age : Age 25 to 29 - Economic activity : In employment the week before the census - Hours worked : Full-time - Sex : Females - Unit : Persons,Age : Age 60 to 64 - Economic activity : In employment the week before the census - Hours worked : Full-time - Sex : Males - Unit : Persons                                                                                                                                                  1\n",
       ",Age : Age 25 to 29 - Economic activity : In employment the week before the census - Hours worked : Full-time - Sex : Females - Unit : Persons,Age : Age 60 to 64 - Economic activity : In employment the week before the census - Hours worked : Part-time - Sex : Females - Unit : Persons                                                                                                                                                1\n",
       ",Age : Age 20 to 21 - Economic activity : In employment the week before the census - Hours worked : Part-time - Sex : Females - Unit : Persons,Age : Age 45 to 49 - Economic activity : In employment the week before the census - Hours worked : Full-time - Sex : Males - Unit : Persons                                                                                                                                                  1\n",
       ",Age : Age 22 to 24 - Economic activity : In employment the week before the census - Hours worked : Full-time - Sex : Males - Unit : Persons,Age : Age 60 to 64 - Economic activity : In employment the week before the census - Hours worked : Part-time - Sex : Males - Unit : Persons                                                                                                                                                    1\n",
       "Name: Employment Status, Length: 396, dtype: int64"
      ]
     },
     "execution_count": 150,
     "metadata": {},
     "output_type": "execute_result"
    }
   ],
   "source": [
    "assign_employment_status([16,17,18,19],'Males')\n",
    "assign_employment_status([16,17,18,19],'Females')\n",
    "\n",
    "assign_employment_status([20,21],'Males')\n",
    "assign_employment_status([20,21],'Females')\n",
    "\n",
    "assign_employment_status([22,23,24],'Males')\n",
    "assign_employment_status([22,23,24],'Females')\n",
    "\n",
    "assign_employment_status([25,26,27,28,29],'Males')\n",
    "assign_employment_status([25,26,27,28,29],'Females')\n",
    "\n",
    "assign_employment_status([30,31,32,33,34],'Males')\n",
    "assign_employment_status([30,31,32,33,34],'Females')\n",
    "\n",
    "assign_employment_status([35,36,37,38,39],'Males')\n",
    "assign_employment_status([35,36,37,38,39],'Females')\n",
    "\n",
    "assign_employment_status([40,41,42,43,44],'Males')\n",
    "assign_employment_status([40,41,42,43,44],'Females')\n",
    "\n",
    "assign_employment_status([45,46,47,48,49],'Males')\n",
    "assign_employment_status([45,46,47,48,49],'Females')\n",
    "\n",
    "assign_employment_status([50,51,52,53,54],'Males')\n",
    "assign_employment_status([50,51,52,53,54],'Females')\n",
    "\n",
    "assign_employment_status([55,56,57,58,59],'Males')\n",
    "assign_employment_status([55,56,57,58,59],'Females')\n",
    "\n",
    "assign_employment_status([60,61,62,63,64],'Males')\n",
    "assign_employment_status([60,61,62,63,64],'Females')\n",
    "\n",
    "assign_employment_status([65],'Males')\n",
    "assign_employment_status([65],'Females')"
   ]
  },
  {
   "cell_type": "code",
   "execution_count": 151,
   "id": "4958f085",
   "metadata": {},
   "outputs": [],
   "source": [
    "for i in range(len(df_test)): \n",
    "    if df_test['Employment Status'][i] != '':\n",
    "        df_test['Employment Status'][i] = df_test['Employment Status'][i][1:]"
   ]
  },
  {
   "cell_type": "code",
   "execution_count": 152,
   "id": "72a6bad8",
   "metadata": {},
   "outputs": [],
   "source": [
    "for i in range(len(df_test)): \n",
    "    if (df_test['Employment Status'][i] != '') and (',' in df_test['Employment Status'][i]):\n",
    "        df_test['Employment Status'][i] = df_test['Employment Status'][i].split(',') #splits the string of people by a comma\n",
    "        "
   ]
  },
  {
   "cell_type": "markdown",
   "id": "45ed4e87",
   "metadata": {},
   "source": [
    "### Download MSOA datframe as csv?"
   ]
  },
  {
   "cell_type": "code",
   "execution_count": 153,
   "id": "bf56752f",
   "metadata": {},
   "outputs": [
    {
     "name": "stdout",
     "output_type": "stream",
     "text": [
      "Do you want to download the csv file of your most recent run of the code?no\n",
      "The csv file was not downloaded.\n"
     ]
    }
   ],
   "source": [
    "#downloads the csv to designated path if 'yes' or 'Yes' is inputted.\n",
    "\n",
    "download_df = input('Do you want to download the csv file of your most recent run of the code?')\n",
    "if (download_df == 'Yes') or (download_df == 'yes'):\n",
    "    df_test.to_csv(r'/Users/matthewsenseman/Desktop/Dissertation/2011 MSOA Data\\df_test.csv')\n",
    "else:\n",
    "    print('The csv file was not downloaded.')"
   ]
  },
  {
   "cell_type": "markdown",
   "id": "87f5a44d",
   "metadata": {},
   "source": [
    "## Shortcomings of this model so far...\n",
    "\n",
    "1. There are several instances where my own bias is added. Such as when I define what range of HHsize and HHcomp can be assigned to. Also when defining age ranges of individuals to be assigned. This allows for a not truly random pick from the distributions, but I think it is necessary to include. i.e. I narrowed age ranges for households with no children so that only adults were included. \n",
    "\n",
    "2. Because there are arbitrary categories of HHsize and HHcomp, it is not possible to correctly match individuals into HHs. So these HHs with their individuals become the 'probable' households in the MSOA based on the distribution of the data. Without the original de-anonymized version of the data (whihc isn't released for 100 years), there is no way to know for certain the exact age/sex makeup (and sometimes size) of the 'real-life' HHs.\n",
    "\n",
    "3. If communal HHs or HHs with more than 8 people exist in the MSOA, then knowing which of the '8 or more' HHs has a bunch of people is very difficult to determine. My probability function above is likely not accurate.\n",
    "\n",
    "4. Because of the random element of assigning individuals into HHs, each time this code file is ran, a slighlty different assortment of HHs (i.e. individuals of different ages or sexes) are created and assigned into the df.\n",
    "\n",
    "5. The employment status category is a bit vague because of how that census table was formatted."
   ]
  },
  {
   "cell_type": "markdown",
   "id": "97ec849b",
   "metadata": {},
   "source": [
    "# Results"
   ]
  },
  {
   "cell_type": "code",
   "execution_count": 154,
   "id": "0d22493f",
   "metadata": {},
   "outputs": [
    {
     "name": "stdout",
     "output_type": "stream",
     "text": [
      "Pres any key to continue...\n"
     ]
    },
    {
     "data": {
      "text/plain": [
       "''"
      ]
     },
     "execution_count": 154,
     "metadata": {},
     "output_type": "execute_result"
    }
   ],
   "source": [
    "input('Pres any key to continue...')"
   ]
  },
  {
   "cell_type": "code",
   "execution_count": 155,
   "id": "094ce483",
   "metadata": {},
   "outputs": [
    {
     "data": {
      "text/plain": [
       "{'Age : Age under 1 - Sex : Males - Unit : Persons': 26,\n",
       " 'Age : Age under 1 - Sex : Females - Unit : Persons': 44,\n",
       " 'Age : Age 1 - Sex : Males - Unit : Persons': 20,\n",
       " 'Age : Age 1 - Sex : Females - Unit : Persons': 32,\n",
       " 'Age : Age 2 - Sex : Males - Unit : Persons': 14,\n",
       " 'Age : Age 2 - Sex : Females - Unit : Persons': 27,\n",
       " 'Age : Age 3 - Sex : Males - Unit : Persons': 17,\n",
       " 'Age : Age 3 - Sex : Females - Unit : Persons': 17,\n",
       " 'Age : Age 4 - Sex : Males - Unit : Persons': 15,\n",
       " 'Age : Age 4 - Sex : Females - Unit : Persons': 24,\n",
       " 'Age : Age 5 - Sex : Males - Unit : Persons': 19,\n",
       " 'Age : Age 5 - Sex : Females - Unit : Persons': 13,\n",
       " 'Age : Age 6 - Sex : Males - Unit : Persons': 24,\n",
       " 'Age : Age 6 - Sex : Females - Unit : Persons': 23,\n",
       " 'Age : Age 7 - Sex : Males - Unit : Persons': 16,\n",
       " 'Age : Age 7 - Sex : Females - Unit : Persons': 22,\n",
       " 'Age : Age 8 - Sex : Males - Unit : Persons': 25,\n",
       " 'Age : Age 8 - Sex : Females - Unit : Persons': 15,\n",
       " 'Age : Age 9 - Sex : Males - Unit : Persons': 13,\n",
       " 'Age : Age 9 - Sex : Females - Unit : Persons': 12,\n",
       " 'Age : Age 10 - Sex : Males - Unit : Persons': 23,\n",
       " 'Age : Age 10 - Sex : Females - Unit : Persons': 16,\n",
       " 'Age : Age 11 - Sex : Males - Unit : Persons': 16,\n",
       " 'Age : Age 11 - Sex : Females - Unit : Persons': 12,\n",
       " 'Age : Age 12 - Sex : Males - Unit : Persons': 23,\n",
       " 'Age : Age 12 - Sex : Females - Unit : Persons': 12,\n",
       " 'Age : Age 13 - Sex : Males - Unit : Persons': 21,\n",
       " 'Age : Age 13 - Sex : Females - Unit : Persons': 20,\n",
       " 'Age : Age 14 - Sex : Males - Unit : Persons': 12,\n",
       " 'Age : Age 14 - Sex : Females - Unit : Persons': 14,\n",
       " 'Age : Age 15 - Sex : Males - Unit : Persons': 18,\n",
       " 'Age : Age 15 - Sex : Females - Unit : Persons': 15,\n",
       " 'Age : Age 16 - Sex : Males - Unit : Persons': 12,\n",
       " 'Age : Age 16 - Sex : Females - Unit : Persons': 19,\n",
       " 'Age : Age 17 - Sex : Males - Unit : Persons': 27,\n",
       " 'Age : Age 17 - Sex : Females - Unit : Persons': 14,\n",
       " 'Age : Age 18 - Sex : Males - Unit : Persons': 22,\n",
       " 'Age : Age 18 - Sex : Females - Unit : Persons': 29,\n",
       " 'Age : Age 19 - Sex : Males - Unit : Persons': 21,\n",
       " 'Age : Age 19 - Sex : Females - Unit : Persons': 20,\n",
       " 'Age : Age 20 - Sex : Males - Unit : Persons': 29,\n",
       " 'Age : Age 20 - Sex : Females - Unit : Persons': 41,\n",
       " 'Age : Age 21 - Sex : Males - Unit : Persons': 32,\n",
       " 'Age : Age 21 - Sex : Females - Unit : Persons': 28,\n",
       " 'Age : Age 22 - Sex : Males - Unit : Persons': 69,\n",
       " 'Age : Age 22 - Sex : Females - Unit : Persons': 54,\n",
       " 'Age : Age 23 - Sex : Males - Unit : Persons': 73,\n",
       " 'Age : Age 23 - Sex : Females - Unit : Persons': 70,\n",
       " 'Age : Age 24 - Sex : Males - Unit : Persons': 85,\n",
       " 'Age : Age 24 - Sex : Females - Unit : Persons': 64,\n",
       " 'Age : Age 25 - Sex : Males - Unit : Persons': 92,\n",
       " 'Age : Age 25 - Sex : Females - Unit : Persons': 78,\n",
       " 'Age : Age 26 - Sex : Males - Unit : Persons': 85,\n",
       " 'Age : Age 26 - Sex : Females - Unit : Persons': 104,\n",
       " 'Age : Age 27 - Sex : Males - Unit : Persons': 118,\n",
       " 'Age : Age 27 - Sex : Females - Unit : Persons': 75,\n",
       " 'Age : Age 28 - Sex : Males - Unit : Persons': 139,\n",
       " 'Age : Age 28 - Sex : Females - Unit : Persons': 81,\n",
       " 'Age : Age 29 - Sex : Males - Unit : Persons': 102,\n",
       " 'Age : Age 29 - Sex : Females - Unit : Persons': 82,\n",
       " 'Age : Age 30 - Sex : Males - Unit : Persons': 111,\n",
       " 'Age : Age 30 - Sex : Females - Unit : Persons': 71,\n",
       " 'Age : Age 31 - Sex : Males - Unit : Persons': 103,\n",
       " 'Age : Age 31 - Sex : Females - Unit : Persons': 79,\n",
       " 'Age : Age 32 - Sex : Males - Unit : Persons': 89,\n",
       " 'Age : Age 32 - Sex : Females - Unit : Persons': 64,\n",
       " 'Age : Age 33 - Sex : Males - Unit : Persons': 93,\n",
       " 'Age : Age 33 - Sex : Females - Unit : Persons': 60,\n",
       " 'Age : Age 34 - Sex : Males - Unit : Persons': 75,\n",
       " 'Age : Age 34 - Sex : Females - Unit : Persons': 75,\n",
       " 'Age : Age 35 - Sex : Males - Unit : Persons': 64,\n",
       " 'Age : Age 35 - Sex : Females - Unit : Persons': 58,\n",
       " 'Age : Age 36 - Sex : Males - Unit : Persons': 77,\n",
       " 'Age : Age 36 - Sex : Females - Unit : Persons': 59,\n",
       " 'Age : Age 37 - Sex : Males - Unit : Persons': 65,\n",
       " 'Age : Age 37 - Sex : Females - Unit : Persons': 39,\n",
       " 'Age : Age 38 - Sex : Males - Unit : Persons': 74,\n",
       " 'Age : Age 38 - Sex : Females - Unit : Persons': 44,\n",
       " 'Age : Age 39 - Sex : Males - Unit : Persons': 73,\n",
       " 'Age : Age 39 - Sex : Females - Unit : Persons': 45,\n",
       " 'Age : Age 41 - Sex : Males - Unit : Persons': 59,\n",
       " 'Age : Age 41 - Sex : Females - Unit : Persons': 42,\n",
       " 'Age : Age 40 - Sex : Males - Unit : Persons': 80,\n",
       " 'Age : Age 40 - Sex : Females - Unit : Persons': 61,\n",
       " 'Age : Age 42 - Sex : Males - Unit : Persons': 84,\n",
       " 'Age : Age 42 - Sex : Females - Unit : Persons': 52,\n",
       " 'Age : Age 43 - Sex : Males - Unit : Persons': 98,\n",
       " 'Age : Age 43 - Sex : Females - Unit : Persons': 53,\n",
       " 'Age : Age 44 - Sex : Males - Unit : Persons': 57,\n",
       " 'Age : Age 44 - Sex : Females - Unit : Persons': 41,\n",
       " 'Age : Age 45 - Sex : Males - Unit : Persons': 72,\n",
       " 'Age : Age 45 - Sex : Females - Unit : Persons': 54,\n",
       " 'Age : Age 46 - Sex : Males - Unit : Persons': 77,\n",
       " 'Age : Age 46 - Sex : Females - Unit : Persons': 56,\n",
       " 'Age : Age 47 - Sex : Males - Unit : Persons': 70,\n",
       " 'Age : Age 47 - Sex : Females - Unit : Persons': 45,\n",
       " 'Age : Age 48 - Sex : Males - Unit : Persons': 69,\n",
       " 'Age : Age 48 - Sex : Females - Unit : Persons': 47,\n",
       " 'Age : Age 49 - Sex : Males - Unit : Persons': 66,\n",
       " 'Age : Age 49 - Sex : Females - Unit : Persons': 44,\n",
       " 'Age : Age 50 - Sex : Males - Unit : Persons': 59,\n",
       " 'Age : Age 50 - Sex : Females - Unit : Persons': 38,\n",
       " 'Age : Age 51 - Sex : Males - Unit : Persons': 58,\n",
       " 'Age : Age 51 - Sex : Females - Unit : Persons': 30,\n",
       " 'Age : Age 52 - Sex : Males - Unit : Persons': 63,\n",
       " 'Age : Age 52 - Sex : Females - Unit : Persons': 31,\n",
       " 'Age : Age 53 - Sex : Males - Unit : Persons': 70,\n",
       " 'Age : Age 53 - Sex : Females - Unit : Persons': 38,\n",
       " 'Age : Age 54 - Sex : Males - Unit : Persons': 53,\n",
       " 'Age : Age 54 - Sex : Females - Unit : Persons': 31,\n",
       " 'Age : Age 55 - Sex : Males - Unit : Persons': 48,\n",
       " 'Age : Age 55 - Sex : Females - Unit : Persons': 42,\n",
       " 'Age : Age 56 - Sex : Males - Unit : Persons': 51,\n",
       " 'Age : Age 56 - Sex : Females - Unit : Persons': 55,\n",
       " 'Age : Age 57 - Sex : Males - Unit : Persons': 52,\n",
       " 'Age : Age 57 - Sex : Females - Unit : Persons': 41,\n",
       " 'Age : Age 58 - Sex : Males - Unit : Persons': 57,\n",
       " 'Age : Age 58 - Sex : Females - Unit : Persons': 36,\n",
       " 'Age : Age 59 - Sex : Males - Unit : Persons': 51,\n",
       " 'Age : Age 59 - Sex : Females - Unit : Persons': 43,\n",
       " 'Age : Age 61 - Sex : Males - Unit : Persons': 38,\n",
       " 'Age : Age 61 - Sex : Females - Unit : Persons': 54,\n",
       " 'Age : Age 60 - Sex : Males - Unit : Persons': 54,\n",
       " 'Age : Age 60 - Sex : Females - Unit : Persons': 34,\n",
       " 'Age : Age 62 - Sex : Males - Unit : Persons': 45,\n",
       " 'Age : Age 62 - Sex : Females - Unit : Persons': 42,\n",
       " 'Age : Age 63 - Sex : Males - Unit : Persons': 57,\n",
       " 'Age : Age 63 - Sex : Females - Unit : Persons': 58,\n",
       " 'Age : Age 64 - Sex : Males - Unit : Persons': 45,\n",
       " 'Age : Age 64 - Sex : Females - Unit : Persons': 36,\n",
       " 'Age : Age 65 - Sex : Males - Unit : Persons': 45,\n",
       " 'Age : Age 65 - Sex : Females - Unit : Persons': 28,\n",
       " 'Age : Age 66 - Sex : Males - Unit : Persons': 40,\n",
       " 'Age : Age 66 - Sex : Females - Unit : Persons': 34,\n",
       " 'Age : Age 67 - Sex : Males - Unit : Persons': 33,\n",
       " 'Age : Age 67 - Sex : Females - Unit : Persons': 27,\n",
       " 'Age : Age 68 - Sex : Males - Unit : Persons': 44,\n",
       " 'Age : Age 68 - Sex : Females - Unit : Persons': 29,\n",
       " 'Age : Age 69 - Sex : Males - Unit : Persons': 27,\n",
       " 'Age : Age 69 - Sex : Females - Unit : Persons': 22,\n",
       " 'Age : Age 70 - Sex : Males - Unit : Persons': 24,\n",
       " 'Age : Age 70 - Sex : Females - Unit : Persons': 30,\n",
       " 'Age : Age 71 - Sex : Males - Unit : Persons': 27,\n",
       " 'Age : Age 71 - Sex : Females - Unit : Persons': 27,\n",
       " 'Age : Age 72 - Sex : Males - Unit : Persons': 38,\n",
       " 'Age : Age 72 - Sex : Females - Unit : Persons': 24,\n",
       " 'Age : Age 73 - Sex : Males - Unit : Persons': 30,\n",
       " 'Age : Age 73 - Sex : Females - Unit : Persons': 16,\n",
       " 'Age : Age 74 - Sex : Males - Unit : Persons': 25,\n",
       " 'Age : Age 74 - Sex : Females - Unit : Persons': 17,\n",
       " 'Age : Age 75 - Sex : Males - Unit : Persons': 19,\n",
       " 'Age : Age 75 - Sex : Females - Unit : Persons': 31,\n",
       " 'Age : Age 76 - Sex : Males - Unit : Persons': 17,\n",
       " 'Age : Age 76 - Sex : Females - Unit : Persons': 17,\n",
       " 'Age : Age 77 - Sex : Males - Unit : Persons': 11,\n",
       " 'Age : Age 77 - Sex : Females - Unit : Persons': 15,\n",
       " 'Age : Age 78 - Sex : Males - Unit : Persons': 14,\n",
       " 'Age : Age 78 - Sex : Females - Unit : Persons': 24,\n",
       " 'Age : Age 79 - Sex : Males - Unit : Persons': 17,\n",
       " 'Age : Age 79 - Sex : Females - Unit : Persons': 20,\n",
       " 'Age : Age 80 - Sex : Males - Unit : Persons': 15,\n",
       " 'Age : Age 80 - Sex : Females - Unit : Persons': 13,\n",
       " 'Age : Age 81 - Sex : Males - Unit : Persons': 12,\n",
       " 'Age : Age 81 - Sex : Females - Unit : Persons': 13,\n",
       " 'Age : Age 82 - Sex : Males - Unit : Persons': 15,\n",
       " 'Age : Age 82 - Sex : Females - Unit : Persons': 16,\n",
       " 'Age : Age 83 - Sex : Males - Unit : Persons': 17,\n",
       " 'Age : Age 83 - Sex : Females - Unit : Persons': 21,\n",
       " 'Age : Age 84 - Sex : Males - Unit : Persons': 11,\n",
       " 'Age : Age 84 - Sex : Females - Unit : Persons': 13,\n",
       " 'Age : Age 85 and over - Sex : Males - Unit : Persons': 45,\n",
       " 'Age : Age 85 and over - Sex : Females - Unit : Persons': 72}"
      ]
     },
     "execution_count": 155,
     "metadata": {},
     "output_type": "execute_result"
    }
   ],
   "source": [
    "#finds the count of Age/Sex values in our created DataFrame\n",
    "df_AgeSex = []\n",
    "for i in get_age_by_sex(MsoaData.age_by_sex).columns[5:]:\n",
    "    df_AgeSex.append(sum((df_test == i).sum().values))\n",
    "\n",
    "df_AgeSex_vals = {i:j for i,j in zip(get_age_by_sex(MsoaData.age_by_sex).columns[5:],df_AgeSex)}    \n",
    "    \n",
    "dict_list = []\n",
    "for i in range(len(df_test)):\n",
    "    if (df_test['Individual 8'][i] != 0) and (type(df_test['Individual 8'][i]) == list):\n",
    "        x = dict(Counter(df_test['Individual 8'][i]))\n",
    "        dict_list.append(x)\n",
    "for i in dict_list:   \n",
    "    for j in df_AgeSex_vals.keys():\n",
    "        if j in i.keys():\n",
    "            df_AgeSex_vals[j] += i[j] \n",
    "            \n",
    "df_AgeSex_vals"
   ]
  },
  {
   "cell_type": "code",
   "execution_count": 156,
   "id": "9b1310cc",
   "metadata": {},
   "outputs": [
    {
     "data": {
      "text/plain": [
       "{'Age : Age 16 to 19 - Economic activity : In employment the week before the census - Hours worked : Part-time - Sex : Males - Unit : Persons': 8,\n",
       " 'Age : Age 16 to 19 - Economic activity : In employment the week before the census - Hours worked : Part-time - Sex : Females - Unit : Persons': 8,\n",
       " 'Age : Age 16 to 19 - Economic activity : In employment the week before the census - Hours worked : Full-time - Sex : Males - Unit : Persons': 3,\n",
       " 'Age : Age 16 to 19 - Economic activity : In employment the week before the census - Hours worked : Full-time - Sex : Females - Unit : Persons': 8,\n",
       " 'Age : Age 20 to 21 - Economic activity : In employment the week before the census - Hours worked : Part-time - Sex : Males - Unit : Persons': 8,\n",
       " 'Age : Age 20 to 21 - Economic activity : In employment the week before the census - Hours worked : Part-time - Sex : Females - Unit : Persons': 15,\n",
       " 'Age : Age 20 to 21 - Economic activity : In employment the week before the census - Hours worked : Full-time - Sex : Males - Unit : Persons': 15,\n",
       " 'Age : Age 20 to 21 - Economic activity : In employment the week before the census - Hours worked : Full-time - Sex : Females - Unit : Persons': 9,\n",
       " 'Age : Age 22 to 24 - Economic activity : In employment the week before the census - Hours worked : Part-time - Sex : Males - Unit : Persons': 24,\n",
       " 'Age : Age 22 to 24 - Economic activity : In employment the week before the census - Hours worked : Part-time - Sex : Females - Unit : Persons': 16,\n",
       " 'Age : Age 22 to 24 - Economic activity : In employment the week before the census - Hours worked : Full-time - Sex : Males - Unit : Persons': 129,\n",
       " 'Age : Age 22 to 24 - Economic activity : In employment the week before the census - Hours worked : Full-time - Sex : Females - Unit : Persons': 110,\n",
       " 'Age : Age 25 to 29 - Economic activity : In employment the week before the census - Hours worked : Part-time - Sex : Males - Unit : Persons': 26,\n",
       " 'Age : Age 25 to 29 - Economic activity : In employment the week before the census - Hours worked : Part-time - Sex : Females - Unit : Persons': 35,\n",
       " 'Age : Age 25 to 29 - Economic activity : In employment the week before the census - Hours worked : Full-time - Sex : Males - Unit : Persons': 458,\n",
       " 'Age : Age 25 to 29 - Economic activity : In employment the week before the census - Hours worked : Full-time - Sex : Females - Unit : Persons': 319,\n",
       " 'Age : Age 30 to 34 - Economic activity : In employment the week before the census - Hours worked : Part-time - Sex : Males - Unit : Persons': 19,\n",
       " 'Age : Age 30 to 34 - Economic activity : In employment the week before the census - Hours worked : Part-time - Sex : Females - Unit : Persons': 38,\n",
       " 'Age : Age 30 to 34 - Economic activity : In employment the week before the census - Hours worked : Full-time - Sex : Males - Unit : Persons': 410,\n",
       " 'Age : Age 30 to 34 - Economic activity : In employment the week before the census - Hours worked : Full-time - Sex : Females - Unit : Persons': 262,\n",
       " 'Age : Age 35 to 39 - Economic activity : In employment the week before the census - Hours worked : Part-time - Sex : Males - Unit : Persons': 31,\n",
       " 'Age : Age 35 to 39 - Economic activity : In employment the week before the census - Hours worked : Part-time - Sex : Females - Unit : Persons': 38,\n",
       " 'Age : Age 35 to 39 - Economic activity : In employment the week before the census - Hours worked : Full-time - Sex : Males - Unit : Persons': 303,\n",
       " 'Age : Age 35 to 39 - Economic activity : In employment the week before the census - Hours worked : Full-time - Sex : Females - Unit : Persons': 171,\n",
       " 'Age : Age 40 to 44 - Economic activity : In employment the week before the census - Hours worked : Part-time - Sex : Males - Unit : Persons': 30,\n",
       " 'Age : Age 40 to 44 - Economic activity : In employment the week before the census - Hours worked : Part-time - Sex : Females - Unit : Persons': 44,\n",
       " 'Age : Age 40 to 44 - Economic activity : In employment the week before the census - Hours worked : Full-time - Sex : Males - Unit : Persons': 318,\n",
       " 'Age : Age 40 to 44 - Economic activity : In employment the week before the census - Hours worked : Full-time - Sex : Females - Unit : Persons': 160,\n",
       " 'Age : Age 45 to 49 - Economic activity : In employment the week before the census - Hours worked : Part-time - Sex : Males - Unit : Persons': 20,\n",
       " 'Age : Age 45 to 49 - Economic activity : In employment the week before the census - Hours worked : Part-time - Sex : Females - Unit : Persons': 34,\n",
       " 'Age : Age 45 to 49 - Economic activity : In employment the week before the census - Hours worked : Full-time - Sex : Males - Unit : Persons': 294,\n",
       " 'Age : Age 45 to 49 - Economic activity : In employment the week before the census - Hours worked : Full-time - Sex : Females - Unit : Persons': 164,\n",
       " 'Age : Age 50 to 54 - Economic activity : In employment the week before the census - Hours worked : Part-time - Sex : Males - Unit : Persons': 26,\n",
       " 'Age : Age 50 to 54 - Economic activity : In employment the week before the census - Hours worked : Part-time - Sex : Females - Unit : Persons': 28,\n",
       " 'Age : Age 50 to 54 - Economic activity : In employment the week before the census - Hours worked : Full-time - Sex : Males - Unit : Persons': 237,\n",
       " 'Age : Age 50 to 54 - Economic activity : In employment the week before the census - Hours worked : Full-time - Sex : Females - Unit : Persons': 99,\n",
       " 'Age : Age 55 to 59 - Economic activity : In employment the week before the census - Hours worked : Part-time - Sex : Males - Unit : Persons': 31,\n",
       " 'Age : Age 55 to 59 - Economic activity : In employment the week before the census - Hours worked : Part-time - Sex : Females - Unit : Persons': 38,\n",
       " 'Age : Age 55 to 59 - Economic activity : In employment the week before the census - Hours worked : Full-time - Sex : Males - Unit : Persons': 179,\n",
       " 'Age : Age 55 to 59 - Economic activity : In employment the week before the census - Hours worked : Full-time - Sex : Females - Unit : Persons': 105,\n",
       " 'Age : Age 60 to 64 - Economic activity : In employment the week before the census - Hours worked : Part-time - Sex : Males - Unit : Persons': 47,\n",
       " 'Age : Age 60 to 64 - Economic activity : In employment the week before the census - Hours worked : Part-time - Sex : Females - Unit : Persons': 29,\n",
       " 'Age : Age 60 to 64 - Economic activity : In employment the week before the census - Hours worked : Full-time - Sex : Males - Unit : Persons': 123,\n",
       " 'Age : Age 60 to 64 - Economic activity : In employment the week before the census - Hours worked : Full-time - Sex : Females - Unit : Persons': 86,\n",
       " 'Age : Age 65 and over - Economic activity : In employment the week before the census - Hours worked : Part-time - Sex : Males - Unit : Persons': 69,\n",
       " 'Age : Age 65 and over - Economic activity : In employment the week before the census - Hours worked : Part-time - Sex : Females - Unit : Persons': 34,\n",
       " 'Age : Age 65 and over - Economic activity : In employment the week before the census - Hours worked : Full-time - Sex : Males - Unit : Persons': 100,\n",
       " 'Age : Age 65 and over - Economic activity : In employment the week before the census - Hours worked : Full-time - Sex : Females - Unit : Persons': 27}"
      ]
     },
     "execution_count": 156,
     "metadata": {},
     "output_type": "execute_result"
    }
   ],
   "source": [
    "#finds the count of Employment values in our created DataFrame\n",
    "\n",
    "df_Emply = []\n",
    "for i in get_employment(MsoaData.age_by_sex_by_employment).columns[2:]:\n",
    "    df_Emply.append(sum((df_test == i).sum().values))\n",
    "df_Emply\n",
    "df_Emply_vals = {i:j for i,j in zip(get_employment(MsoaData.age_by_sex_by_employment).columns[2:],df_Emply)}    \n",
    "    \n",
    "emply_list = []\n",
    "for i in range(len(df_test)):\n",
    "    if (df_test['Employment Status'][i] != '') and (type(df_test['Employment Status'][i]) == list):\n",
    "        x = dict(Counter(df_test['Employment Status'][i]))\n",
    "        emply_list.append(x)\n",
    "for i in emply_list:   \n",
    "    for j in df_Emply_vals.keys():\n",
    "        if j in i.keys():\n",
    "            df_Emply_vals[j] += i[j] \n",
    "            \n",
    "df_Emply_vals"
   ]
  },
  {
   "cell_type": "code",
   "execution_count": 157,
   "id": "528701d8",
   "metadata": {
    "scrolled": true
   },
   "outputs": [
    {
     "name": "stdout",
     "output_type": "stream",
     "text": [
      "0\n",
      "Household size : 1 person in household - Unit : Household spaces            0\n",
      "Household size : 2 people in household - Unit : Household spaces            0\n",
      "Household size : 3 people in household - Unit : Household spaces            0\n",
      "Household size : 4 people in household - Unit : Household spaces            0\n",
      "Household size : 5 people in household - Unit : Household spaces            0\n",
      "Household size : 6 people in household - Unit : Household spaces            0\n",
      "Household size : 7 people in household - Unit : Household spaces            0\n",
      "Household size : 8 or more people in household - Unit : Household spaces    0\n",
      "Name: Household Size, dtype: object\n",
      "[0 0 0 0 0 -1 -1 0.0 0.0 0.0 0.0 0 0 1 1 0 0 0 0 0 0 0 0]\n",
      "0.0\n",
      "[0.0 0.0 0.0 0.0 0.0 0.0 0.0 0.0 0.0 0.0 0.0 0.0 0.0 0.0 0.0 0.0 0.0 0.0\n",
      " 0.0 0.0 0.0 0.0 0.0 0.0 0.0 0.0 0.0 0.0 0.0 0.0 0 0 0.0 0.0 0.0 0.0 0.0\n",
      " 0.0 0.0 0.0 0.0 0.0 0.0 0.0 0.0 0.0 0.0 0.0 0.0 0.0 0.0 0.0 0.0 0.0 0.0\n",
      " 0.0 0.0 0.0 0.0 0.0 0.0 0.0 0.0 0.0 0.0 0.0 0.0 0.0 0.0 0.0 0.0 0.0 0.0\n",
      " 0.0 0.0 0.0 0.0 0.0 0.0 0.0 0.0 0.0 0.0 0.0 0.0 0.0 0.0 0.0 0.0 0.0 0.0\n",
      " 0.0 0.0 0.0 0.0 0.0 0.0 0.0 0.0 0.0 0.0 0.0 0.0 0.0 0.0 0.0 0.0 0.0 0.0\n",
      " 0.0 0.0 0.0 0.0 0.0 0.0 0.0 0.0 0.0 0.0 0.0 0.0 0.0 0.0 0.0 0.0 0.0 0.0\n",
      " 0.0 0.0 0.0 0.0 0.0 0.0 0.0 0.0 0.0 0.0 0.0 0.0 0.0 0.0 0.0 0.0 0.0 0.0\n",
      " 0.0 0.0 0.0 0.0 0.0 0.0 0.0 0.0 0.0 0.0 0.0 0.0 0.0 0.0 0.0 0.0 0.0 0.0\n",
      " 0.0 0.0 0.0 0.0 0.0 0.0 0.0 0.0 0.0]\n",
      "0.0\n",
      "[0.0 0.0 0.0 0.0 0.0 0.0 0.0 0.0 0.0 0.0 0.0 0.0 0.0 0.0 0.0 0.0 0.0 0.0\n",
      " 0.0 0.0 0.0 0.0 0.0 0.0 0.0 0.0 0.0 0.0 0.0 0.0 0.0 0.0 0.0 0.0 0.0 0.0\n",
      " 0.0 0.0 0.0 0.0 0.0 0.0 0.0 0.0 0.0 0.0 0.0 0.0]\n",
      "0.0\n"
     ]
    }
   ],
   "source": [
    "#finding differences in:\n",
    "#Number of households\n",
    "#only uses first MSOA below\n",
    "census_HHs = get_household_size(MsoaData.household_size)['Household size : Total\\ Household size - Unit : Household spaces'][MSOA_row]\n",
    "df_HHs = len(df_test)\n",
    "dif_HHs = census_HHs-df_HHs\n",
    "print(dif_HHs)\n",
    "\n",
    "#Number of houshold sizes\n",
    "census_HHsizes = get_household_size(MsoaData.household_size).iloc[MSOA_row][3:-1].values\n",
    "df_HHsizes = df_test['Household Size'].value_counts().sort_index()\n",
    "dif_HHsizes = census_HHsizes-df_HHsizes\n",
    "print(dif_HHsizes)\n",
    "\n",
    "#Number of household comps\n",
    "census_HHcomps = get_household_by_composition(MsoaData.household_comp).iloc[MSOA_row][3:].values\n",
    "df_HHcomps = []\n",
    "for j in get_household_by_composition(MsoaData.household_comp).columns[3:]:\n",
    "    df_HHcomps.append(sum([i for i in df_test['Household Composition'] == j]))\n",
    "dif_HHcomps = census_HHcomps-df_HHcomps\n",
    "print(dif_HHcomps)\n",
    "print(sum(dif_HHcomps))\n",
    "\n",
    "#Number of individuals by age/sex\n",
    "census_indvs = get_age_by_sex(MsoaData.age_by_sex).iloc[MSOA_row][5:].values\n",
    "df_indvs = list(df_AgeSex_vals.values())\n",
    "dif_indvs = census_indvs-df_indvs\n",
    "print(dif_indvs)\n",
    "print(sum(dif_indvs))\n",
    "\n",
    "#Number of employed people in MSOA\n",
    "census_emply = get_employment(MsoaData.age_by_sex_by_employment).loc[MSOA_row][2:].values\n",
    "df_emply = list(df_Emply_vals.values())\n",
    "dif_emplys = census_emply-df_emply\n",
    "print(dif_emplys)\n",
    "print(sum(dif_emplys))"
   ]
  },
  {
   "cell_type": "markdown",
   "id": "5e0de48e",
   "metadata": {},
   "source": [
    "# Creating Visualizations"
   ]
  },
  {
   "cell_type": "code",
   "execution_count": 158,
   "id": "ec55c36c",
   "metadata": {},
   "outputs": [],
   "source": [
    "#differences above\n",
    "import matplotlib.pyplot as plt\n",
    "import numpy as np"
   ]
  },
  {
   "cell_type": "code",
   "execution_count": 159,
   "id": "6c4d7cd7",
   "metadata": {},
   "outputs": [
    {
     "data": {
      "image/png": "[encoded data removed]",
      "text/plain": [
       "<Figure size 640x480 with 1 Axes>"
      ]
     },
     "metadata": {},
     "output_type": "display_data"
    }
   ],
   "source": [
    "#average age in MSOA\n",
    "age_vals = list(df_AgeSex_vals.values())\n",
    "males = np.array(age_vals[::2])\n",
    "females = np.array(age_vals[1::2])\n",
    "age_totals = males+females\n",
    "plt.bar(np.arange(86),age_totals)\n",
    "plt.xticks([10,20,30,40,50,60,70,80], ('10 years old','20 years old','30 years old','40 years old','50 years old','60 years old','70 years old','80 years old'),rotation = 'vertical')\n",
    "\n",
    "ages = [age_totals[i] * [str(list(range(86))[i])] for i in range(86)]\n",
    "ages = [int(i) for i in list(chain.from_iterable(ages))] #excludes over 86 yr olds\n",
    "\n",
    "plt.bar(np.mean(ages),max(age_totals),color='red',label=f'Mean MSOA Age: {np.mean(ages):.2f}')\n",
    "plt.bar(np.median(ages),max(age_totals),color='yellow',label = f'Median MSOA Age: {np.median(ages):.2f}')\n",
    "plt.legend()\n",
    "plt.plot(np.arange(86),age_totals,color='black')\n",
    "\n",
    "plt.xlabel('Ages of Individulas in MSOA')\n",
    "plt.ylabel('Number of Individuals')\n",
    "plt.title(f'Ages of MSOA {MSOA_name}')\n",
    "plt.show()"
   ]
  },
  {
   "cell_type": "code",
   "execution_count": 160,
   "id": "6d730c02",
   "metadata": {},
   "outputs": [
    {
     "data": {
      "image/png": "[encoded data removed]",
      "text/plain": [
       "<Figure size 640x480 with 1 Axes>"
      ]
     },
     "metadata": {},
     "output_type": "display_data"
    }
   ],
   "source": [
    "#visualization of sexes in MSOA\n",
    "age_vals = list(df_AgeSex_vals.values())\n",
    "males = sum(age_vals[::2])\n",
    "females = sum(age_vals[1::2])\n",
    "plt.bar(['Males'],[males],color='navy')\n",
    "plt.bar(['Females'],[females],color = 'magenta')\n",
    "\n",
    "plt.xlabel('Sex of Individulas in MSOA')\n",
    "plt.ylabel('Total Number of Sex in MSOA')\n",
    "plt.title(f'Sexes of Individuals in MSOA {MSOA_name}')\n",
    "plt.show()"
   ]
  },
  {
   "cell_type": "code",
   "execution_count": 161,
   "id": "f97e013e",
   "metadata": {},
   "outputs": [
    {
     "data": {
      "image/png": "[encoded data removed]",
      "text/plain": [
       "<Figure size 640x480 with 1 Axes>"
      ]
     },
     "metadata": {},
     "output_type": "display_data"
    }
   ],
   "source": [
    "#average HHsize in MSOA vs synthetic pop\n",
    "plt.plot(['1 person','2 people','3 people','4 people','5 people','6 people','7 people','8 people or more'],df_HHsizes,color = 'gray')\n",
    "plt.xticks(rotation = 'vertical')\n",
    "plt.bar(['1 person','2 people','3 people','4 people','5 people','6 people','7 people','8 people or more'],census_HHsizes,color='black')\n",
    "\n",
    "hhsizes = [i*[j] for i,j in zip(df_HHsizes.values,['1','2','3','4','5','6','7','8'])]\n",
    "hhsizes = [int(i) for i in list(chain.from_iterable(hhsizes))] \n",
    "\n",
    "plt.bar(np.mean(hhsizes)-1,2500,width=0.1,label=f'MSOA Mean HH Size: {np.mean(hhsizes):.2f}')\n",
    "plt.bar(np.median(hhsizes)-1,2500,width=0.1,label=f'MSOA Median HH Size: {np.median(hhsizes)}')\n",
    "plt.bar(2.3-1,2500,width=0.1,label=f'UK Average HH Size: 2.3')\n",
    "\n",
    "plt.legend()\n",
    "plt.xlabel('Sizes of Households in MSOA')\n",
    "plt.ylabel('Number of Households')\n",
    "plt.title(f'Size of Households of MSOA {MSOA_name}')\n",
    "plt.show()\n"
   ]
  },
  {
   "cell_type": "code",
   "execution_count": 162,
   "id": "338c3980",
   "metadata": {},
   "outputs": [
    {
     "data": {
      "image/png": "[encoded data removed]",
      "text/plain": [
       "<Figure size 640x480 with 1 Axes>"
      ]
     },
     "metadata": {},
     "output_type": "display_data"
    }
   ],
   "source": [
    "#most common HHcomp in MSOA vs synthetic pop\n",
    "xaxis = np.arange(len(df_HHcomps))\n",
    "width = 0.3       \n",
    "plt.barh(xaxis, census_HHcomps , width, label='Census Houshold Comps')\n",
    "plt.barh(xaxis + width, df_HHcomps, width, label='Synthetic Household Comps')\n",
    "\n",
    "plt.xlabel(f'Number of Household Comp (N = {len(df_test)})')\n",
    "plt.title('Number of Synthetic Household Comps vs Number from Census')\n",
    "\n",
    "comp_list = []\n",
    "for i in list(get_household_by_composition(MsoaData.household_comp).columns[3:]):\n",
    "    comp_list.append((i[24:-20]))\n",
    "plt.yticks(xaxis + width / 2,(comp_list),fontsize=6)\n",
    "\n",
    "plt.legend()\n",
    "plt.show()"
   ]
  },
  {
   "cell_type": "code",
   "execution_count": 163,
   "id": "6c2ccce9",
   "metadata": {},
   "outputs": [
    {
     "data": {
      "image/png": "[encoded data removed]",
      "text/plain": [
       "<Figure size 640x480 with 1 Axes>"
      ]
     },
     "metadata": {},
     "output_type": "display_data"
    },
    {
     "data": {
      "image/png": "[encoded data removed]",
      "text/plain": [
       "<Figure size 640x480 with 1 Axes>"
      ]
     },
     "metadata": {},
     "output_type": "display_data"
    },
    {
     "data": {
      "image/png": "[encoded data removed]",
      "text/plain": [
       "<Figure size 640x480 with 1 Axes>"
      ]
     },
     "metadata": {},
     "output_type": "display_data"
    }
   ],
   "source": [
    "#average age of parents compared to kids in dependent HHs\n",
    "averages_dependents = []\n",
    "averages_parents = []\n",
    "differences = []\n",
    "\n",
    "\n",
    "\n",
    "for i in range(len(df_test)):\n",
    "    ages_results = []\n",
    "    if (' dependent' in df_test['Household Composition'][i]) and (('One family' in df_test['Household Composition'][i])):\n",
    "        ages_results.append(df_test['Individual 1'][i][10:12].strip()) #always a dependent\n",
    "        ages_results.append(df_test['Individual 2'][i][10:12].strip()) #always a parent\n",
    "        ages_results.append(df_test['Individual 3'][i][10:12].strip()) #always a parent\n",
    "        ages_results.append(df_test['Individual 4'][i][10:12].strip())\n",
    "        ages_results.append(df_test['Individual 5'][i][10:12].strip())\n",
    "        ages_results.append(df_test['Individual 6'][i][10:12].strip())\n",
    "        ages_results.append(df_test['Individual 7'][i][10:12].strip())\n",
    "        \n",
    "        if type(df_test['Individual 8'][i]) == list:\n",
    "            for j in df_test['Individual 8'][i]:\n",
    "                ages_results.append(j[10:12].strip())\n",
    "            df_test['Individual 8'][i]\n",
    "        else:   \n",
    "            ages_results.append(df_test['Individual 8'][i][10:12].strip())\n",
    "        for k in ages_results:    \n",
    "            if 'un' in k:\n",
    "                indx = ages_results.index(k)\n",
    "                ages_results[indx] = '0'\n",
    "        ages_results = list(filter(('').__ne__, ages_results)) #removes all blank values\n",
    "\n",
    "        depend_ages = []\n",
    "        parent_ages = []\n",
    "        for x in ages_results:\n",
    "            if int(x) <= 18:\n",
    "                depend_ages.append(int(x))\n",
    "            else:\n",
    "                parent_ages.append(int(x))\n",
    "                \n",
    "        avg_depend_age = sum(depend_ages)/len(depend_ages)\n",
    "        avg_parent_age = sum(parent_ages)/len(parent_ages)\n",
    "        diff = avg_parent_age-avg_depend_age\n",
    "        #print(f'Household size: {len(ages_results)}',f'Average parent age: {avg_parent_age}',f'Average dependent age: {avg_depend_age}',f'Difference between: {diff}')\n",
    "        averages_dependents.append(avg_depend_age)\n",
    "        averages_parents.append(avg_parent_age)\n",
    "        differences.append(diff)\n",
    "\n",
    "plt.hist(averages_dependents)\n",
    "plt.bar(np.mean(averages_dependents),150,width = 0.1, color = 'black',label = f'Mean: {np.mean(averages_dependents):.2f}')\n",
    "plt.bar(np.median(averages_dependents),150,width = 0.1, color = 'red',label = f'Median: {np.median(averages_dependents):.2f}')\n",
    "plt.title('Average Ages of Dependents in One-Family Households')\n",
    "plt.xlabel('Average Age (years)')\n",
    "plt.ylabel('Count')\n",
    "plt.legend()\n",
    "plt.show()\n",
    "\n",
    "plt.hist(averages_parents)\n",
    "plt.bar(np.mean(averages_parents),350,width = 0.1, color = 'black',label = f'Mean: {np.mean(averages_parents):.2f}')\n",
    "plt.bar(np.median(averages_parents),350,width = 0.1, color = 'red',label = f'Median: {np.median(averages_parents):.2f}')\n",
    "plt.title('Average Ages of Parents in One-Family Households')\n",
    "plt.xlabel('Average Age (years)')\n",
    "plt.ylabel('Count')\n",
    "plt.legend()\n",
    "plt.show()\n",
    "\n",
    "plt.hist(differences)\n",
    "plt.bar(np.mean(differences),600,width = 0.1, color = 'black',label = f'Mean: {np.mean(differences):.2f}')\n",
    "plt.bar(np.median(differences),600,width = 0.1, color = 'red',label = f'Median: {np.median(differences):.2f}')\n",
    "plt.title('Age Difference Between Parents and Dependents in One-Family Households')\n",
    "plt.xlabel('Average Age Difference (years)')\n",
    "plt.ylabel('Count')\n",
    "plt.legend()\n",
    "plt.show()"
   ]
  },
  {
   "cell_type": "code",
   "execution_count": 164,
   "id": "2f582ea7",
   "metadata": {},
   "outputs": [
    {
     "data": {
      "image/png": "[encoded data removed]",
      "text/plain": [
       "<Figure size 640x480 with 1 Axes>"
      ]
     },
     "metadata": {},
     "output_type": "display_data"
    }
   ],
   "source": [
    "#average age difference between partners (in one family HHs?)\n",
    "\n",
    "partners_diff = []\n",
    "for i in range(len(df_test)):\n",
    "    adult_ages = []\n",
    "    if (('dependent' in df_test['Household Composition'][i]) or ('No children' in df_test['Household Composition'][i])) and ('Lone' not in df_test['Household Composition'][i]) and (('One family' in df_test['Household Composition'][i])):\n",
    "        if 'No children' in df_test['Household Composition'][i]:\n",
    "            adult_ages.append(int(df_test['Individual 1'][i][10:12].strip()))\n",
    "            adult_ages.append(int(df_test['Individual 2'][i][10:12].strip()))\n",
    "        else:\n",
    "            adult_ages.append(int(df_test['Individual 2'][i][10:12].strip())) #always a parent\n",
    "            adult_ages.append(int(df_test['Individual 3'][i][10:12].strip())) #always a parent\n",
    "        partners_diff.append(abs(adult_ages[0]-adult_ages[1]))\n",
    "    \n",
    "plt.hist(partners_diff)  \n",
    "plt.bar(np.mean(partners_diff),300,width = 0.1, color = 'black',label = f'Mean: {np.mean(partners_diff):.2f}')\n",
    "plt.bar(np.median(partners_diff),300,width = 0.1, color = 'red',label = f'Median: {np.median(partners_diff):.2f}')\n",
    "plt.title('Age Difference Between Partners in One-Family Households')\n",
    "plt.xlabel('Partner Age Difference (years)')\n",
    "plt.ylabel('Count')\n",
    "plt.legend()\n",
    "plt.show()"
   ]
  },
  {
   "cell_type": "code",
   "execution_count": 170,
   "id": "dfd1c45f",
   "metadata": {},
   "outputs": [
    {
     "data": {
      "image/png": "[encoded data removed]",
      "text/plain": [
       "<Figure size 640x480 with 1 Axes>"
      ]
     },
     "metadata": {},
     "output_type": "display_data"
    }
   ],
   "source": [
    "#total employed people in df vs national avg\n",
    "labels = ['Ages 16-19','Ages 20-21','Ages 22-24','Ages 25-29','Ages 30-34','Ages 35-39','Ages 40-44','Ages 45-49','Ages 50-54','Ages 55-59','Ages 60-64','Ages 65 and over']\n",
    "full_time_males = list(df_Emply_vals.values())[2::4]\n",
    "full_time_females = list(df_Emply_vals.values())[3::4]\n",
    "part_time_males = list(df_Emply_vals.values())[0::4]\n",
    "part_time_females = list(df_Emply_vals.values())[1::4]\n",
    "\n",
    "plt.bar(labels, full_time_males, color='blue')\n",
    "plt.bar(labels, full_time_females, bottom=full_time_males, color='red')\n",
    "plt.bar(labels, part_time_males, bottom=np.array(full_time_males)+np.array(full_time_females), color='cyan')\n",
    "plt.bar(labels, part_time_females, bottom=np.array(full_time_males)+np.array(full_time_females)+np.array(part_time_males), color='pink')\n",
    "\n",
    "plt.xticks(rotation='vertical')\n",
    "\n",
    "plt.xlabel('Age Groups')\n",
    "plt.ylabel('Number Employed')\n",
    "plt.legend(['Full-time Males Employed','Full-time Females Employed','Part-time Males Employed','Part-time Females Employed'])\n",
    "plt.title(f'Number of People Employed by Age/Sex in {MSOA_name}')\n",
    "plt.show()\n"
   ]
  },
  {
   "cell_type": "code",
   "execution_count": null,
   "id": "4c23eac9",
   "metadata": {},
   "outputs": [],
   "source": []
  }
 ],
 "metadata": {
  "kernelspec": {
   "display_name": "Python 3 (ipykernel)",
   "language": "python",
   "name": "python3"
  },
  "language_info": {
   "codemirror_mode": {
    "name": "ipython",
    "version": 3
   },
   "file_extension": ".py",
   "mimetype": "text/x-python",
   "name": "python",
   "nbconvert_exporter": "python",
   "pygments_lexer": "ipython3",
   "version": "3.9.16"
  }
 },
 "nbformat": 4,
 "nbformat_minor": 5
}
